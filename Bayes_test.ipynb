{
 "cells": [
  {
   "cell_type": "code",
   "execution_count": 157,
   "metadata": {},
   "outputs": [],
   "source": [
    "import numpy as np\n",
    "import seaborn as sns\n",
    "import pandas as pd\n",
    "import matplotlib.pyplot as plt\n",
    "from sklearn.model_selection import KFold\n",
    "from sklearn.svm import SVC\n",
    "from sklearn.metrics import classification_report, confusion_matrix\n",
    "from sklearn.model_selection import RandomizedSearchCV\n",
    "from sklearn.pipeline import Pipeline\n",
    "from sklearn.preprocessing import StandardScaler   \n",
    "from sklearn.model_selection import train_test_split"
   ]
  },
  {
   "cell_type": "code",
   "execution_count": 158,
   "metadata": {},
   "outputs": [],
   "source": [
    "train_data= pd.read_csv(r\"C:\\Users\\rana ahmed\\Documents\\GitHub\\MachineLearning1\\data.csv\")"
   ]
  },
  {
   "cell_type": "code",
   "execution_count": 159,
   "metadata": {},
   "outputs": [],
   "source": [
    "feature_cols=['location',\t'country' ,\t'gender' ,\t'age' ,\t'vis_wuhan',\t'from_wuhan',\t'symptom1'\t,'symptom2'\t,'symptom3'\t,'symptom4'\t,'symptom5'\t,'symptom6', 'diff_sym_hos'\n",
    "]\n",
    "x=train_data[feature_cols]\n",
    "y=train_data.result\n",
    "# Get 70% of the dataset as the training set. Put the remaining 30% in temporary variables: x_test and y_test.\n",
    "x_train, x_test, y_train, y_test = train_test_split(x, y, test_size=0.30, random_state=1)\n",
    "# Split the 30% subset above into two: one half for cross validation and the other for the test set\n",
    "x_validate, x_test, y_validate, y_test = train_test_split(x_test, y_test, test_size=0.50, random_state=1)"
   ]
  },
  {
   "attachments": {},
   "cell_type": "markdown",
   "metadata": {},
   "source": [
    "Results before tuning the parameters"
   ]
  },
  {
   "cell_type": "code",
   "execution_count": 160,
   "metadata": {},
   "outputs": [
    {
     "name": "stdout",
     "output_type": "stream",
     "text": [
      "              precision    recall  f1-score   support\n",
      "\n",
      "           0       0.90      0.90      0.90       116\n",
      "           1       0.20      0.21      0.21        14\n",
      "\n",
      "    accuracy                           0.82       130\n",
      "   macro avg       0.55      0.56      0.55       130\n",
      "weighted avg       0.83      0.82      0.83       130\n",
      "\n"
     ]
    }
   ],
   "source": [
    "from sklearn.naive_bayes import GaussianNB\n",
    "gnb = GaussianNB()\n",
    "gnb.fit(x_train, y_train)\n",
    "# making predictions on the testing set\n",
    "y_pred = gnb.predict(x_test)\n",
    "# comparing actual response values (y_test) with predicted response values (y_pred)\n",
    "print(classification_report(y_test, y_pred))"
   ]
  },
  {
   "cell_type": "code",
   "execution_count": 161,
   "metadata": {},
   "outputs": [
    {
     "name": "stdout",
     "output_type": "stream",
     "text": [
      "Bayes classifier model accuracy(in %): 82.3076923076923\n"
     ]
    }
   ],
   "source": [
    "from sklearn import metrics\n",
    "print(\"Bayes classifier model accuracy(in %):\", metrics.accuracy_score(y_test,y_pred)*100)"
   ]
  },
  {
   "attachments": {},
   "cell_type": "markdown",
   "metadata": {},
   "source": [
    "Start tuning the hyperparameters using bayesSearch algorithm\n",
    "Note that the two hyperparameters are \n",
    "1. var smoothing which detects the variation in smoothing gaussian distribution\n",
    "2. Priors "
   ]
  },
  {
   "attachments": {},
   "cell_type": "markdown",
   "metadata": {},
   "source": [
    "Tuning the var smoothing hyperparameter"
   ]
  },
  {
   "cell_type": "code",
   "execution_count": 162,
   "metadata": {},
   "outputs": [
    {
     "name": "stdout",
     "output_type": "stream",
     "text": [
      "Fitting 5 folds for each of 1 candidates, totalling 5 fits\n",
      "[CV 1/5] END var_smoothing=5.336699231206313e-06;, score=0.884 total time=   0.0s\n",
      "[CV 2/5] END var_smoothing=5.336699231206313e-06;, score=0.868 total time=   0.0s\n",
      "[CV 3/5] END var_smoothing=5.336699231206313e-06;, score=0.868 total time=   0.0s\n",
      "[CV 4/5] END var_smoothing=5.336699231206313e-06;, score=0.876 total time=   0.0s\n",
      "[CV 5/5] END var_smoothing=5.336699231206313e-06;, score=0.875 total time=   0.0s\n",
      "Fitting 5 folds for each of 1 candidates, totalling 5 fits\n",
      "[CV 1/5] END .var_smoothing=0.03511191734215131;, score=0.917 total time=   0.0s\n",
      "[CV 2/5] END .var_smoothing=0.03511191734215131;, score=0.917 total time=   0.0s\n",
      "[CV 3/5] END .var_smoothing=0.03511191734215131;, score=0.942 total time=   0.0s\n",
      "[CV 4/5] END .var_smoothing=0.03511191734215131;, score=0.893 total time=   0.0s\n",
      "[CV 5/5] END .var_smoothing=0.03511191734215131;, score=0.950 total time=   0.0s\n",
      "Fitting 5 folds for each of 1 candidates, totalling 5 fits\n",
      "[CV 1/5] END ...............var_smoothing=1e-05;, score=0.893 total time=   0.0s\n",
      "[CV 2/5] END ...............var_smoothing=1e-05;, score=0.868 total time=   0.0s\n",
      "[CV 3/5] END ...............var_smoothing=1e-05;, score=0.876 total time=   0.0s\n",
      "[CV 4/5] END ...............var_smoothing=1e-05;, score=0.884 total time=   0.0s\n",
      "[CV 5/5] END ...............var_smoothing=1e-05;, score=0.883 total time=   0.0s\n",
      "Fitting 5 folds for each of 1 candidates, totalling 5 fits\n",
      "[CV 1/5] END .var_smoothing=0.01873817422860384;, score=0.917 total time=   0.0s\n",
      "[CV 2/5] END .var_smoothing=0.01873817422860384;, score=0.909 total time=   0.0s\n",
      "[CV 3/5] END .var_smoothing=0.01873817422860384;, score=0.942 total time=   0.0s\n",
      "[CV 4/5] END .var_smoothing=0.01873817422860384;, score=0.884 total time=   0.0s\n",
      "[CV 5/5] END .var_smoothing=0.01873817422860384;, score=0.942 total time=   0.0s\n",
      "Fitting 5 folds for each of 1 candidates, totalling 5 fits\n",
      "[CV 1/5] END .var_smoothing=0.01519911082952933;, score=0.926 total time=   0.0s\n",
      "[CV 2/5] END .var_smoothing=0.01519911082952933;, score=0.909 total time=   0.0s\n",
      "[CV 3/5] END .var_smoothing=0.01519911082952933;, score=0.950 total time=   0.0s\n",
      "[CV 4/5] END .var_smoothing=0.01519911082952933;, score=0.884 total time=   0.0s\n",
      "[CV 5/5] END .var_smoothing=0.01519911082952933;, score=0.933 total time=   0.0s\n",
      "Fitting 5 folds for each of 1 candidates, totalling 5 fits\n",
      "[CV 1/5] END var_smoothing=0.004328761281083057;, score=0.893 total time=   0.0s\n",
      "[CV 2/5] END var_smoothing=0.004328761281083057;, score=0.860 total time=   0.0s\n",
      "[CV 3/5] END var_smoothing=0.004328761281083057;, score=0.893 total time=   0.0s\n",
      "[CV 4/5] END var_smoothing=0.004328761281083057;, score=0.868 total time=   0.0s\n",
      "[CV 5/5] END var_smoothing=0.004328761281083057;, score=0.917 total time=   0.0s\n",
      "Fitting 5 folds for each of 1 candidates, totalling 5 fits\n",
      "[CV 1/5] END var_smoothing=0.0003511191734215131;, score=0.893 total time=   0.0s\n",
      "[CV 2/5] END var_smoothing=0.0003511191734215131;, score=0.860 total time=   0.0s\n",
      "[CV 3/5] END var_smoothing=0.0003511191734215131;, score=0.884 total time=   0.0s\n",
      "[CV 4/5] END var_smoothing=0.0003511191734215131;, score=0.884 total time=   0.0s\n",
      "[CV 5/5] END var_smoothing=0.0003511191734215131;, score=0.900 total time=   0.0s\n",
      "Fitting 5 folds for each of 1 candidates, totalling 5 fits\n",
      "[CV 1/5] END var_smoothing=8.111308307896872e-05;, score=0.893 total time=   0.0s\n",
      "[CV 2/5] END var_smoothing=8.111308307896872e-05;, score=0.868 total time=   0.0s\n",
      "[CV 3/5] END var_smoothing=8.111308307896872e-05;, score=0.876 total time=   0.0s\n",
      "[CV 4/5] END var_smoothing=8.111308307896872e-05;, score=0.884 total time=   0.0s\n",
      "[CV 5/5] END var_smoothing=8.111308307896872e-05;, score=0.892 total time=   0.0s\n",
      "Fitting 5 folds for each of 1 candidates, totalling 5 fits\n",
      "[CV 1/5] END .var_smoothing=0.43287612810830584;, score=0.884 total time=   0.0s\n",
      "[CV 2/5] END .var_smoothing=0.43287612810830584;, score=0.876 total time=   0.0s\n",
      "[CV 3/5] END .var_smoothing=0.43287612810830584;, score=0.876 total time=   0.0s\n",
      "[CV 4/5] END .var_smoothing=0.43287612810830584;, score=0.876 total time=   0.0s\n",
      "[CV 5/5] END .var_smoothing=0.43287612810830584;, score=0.883 total time=   0.0s\n",
      "Fitting 5 folds for each of 1 candidates, totalling 5 fits\n",
      "[CV 1/5] END ...............var_smoothing=1e-09;, score=0.884 total time=   0.0s\n",
      "[CV 2/5] END ...............var_smoothing=1e-09;, score=0.826 total time=   0.0s\n",
      "[CV 3/5] END ...............var_smoothing=1e-09;, score=0.868 total time=   0.0s\n",
      "[CV 4/5] END ...............var_smoothing=1e-09;, score=0.860 total time=   0.0s\n",
      "[CV 5/5] END ...............var_smoothing=1e-09;, score=0.875 total time=   0.0s\n",
      "Fitting 5 folds for each of 1 candidates, totalling 5 fits\n",
      "[CV 1/5] END var_smoothing=0.0004328761281083057;, score=0.893 total time=   0.0s\n",
      "[CV 2/5] END var_smoothing=0.0004328761281083057;, score=0.860 total time=   0.0s\n",
      "[CV 3/5] END var_smoothing=0.0004328761281083057;, score=0.884 total time=   0.0s\n",
      "[CV 4/5] END var_smoothing=0.0004328761281083057;, score=0.884 total time=   0.0s\n",
      "[CV 5/5] END var_smoothing=0.0004328761281083057;, score=0.900 total time=   0.0s\n",
      "Fitting 5 folds for each of 1 candidates, totalling 5 fits\n",
      "[CV 1/5] END var_smoothing=0.001873817422860383;, score=0.893 total time=   0.0s\n",
      "[CV 2/5] END var_smoothing=0.001873817422860383;, score=0.860 total time=   0.0s\n",
      "[CV 3/5] END var_smoothing=0.001873817422860383;, score=0.884 total time=   0.0s\n",
      "[CV 4/5] END var_smoothing=0.001873817422860383;, score=0.868 total time=   0.0s\n",
      "[CV 5/5] END var_smoothing=0.001873817422860383;, score=0.900 total time=   0.0s\n"
     ]
    },
    {
     "name": "stderr",
     "output_type": "stream",
     "text": [
      "C:\\Users\\rana ahmed\\AppData\\Roaming\\Python\\Python311\\site-packages\\skopt\\optimizer\\optimizer.py:449: UserWarning: The objective has been evaluated at this point before.\n",
      "  warnings.warn(\"The objective has been evaluated \"\n"
     ]
    },
    {
     "name": "stdout",
     "output_type": "stream",
     "text": [
      "Fitting 5 folds for each of 1 candidates, totalling 5 fits\n",
      "[CV 1/5] END .var_smoothing=0.03511191734215131;, score=0.917 total time=   0.0s\n",
      "[CV 2/5] END .var_smoothing=0.03511191734215131;, score=0.917 total time=   0.0s\n",
      "[CV 3/5] END .var_smoothing=0.03511191734215131;, score=0.942 total time=   0.0s\n",
      "[CV 4/5] END .var_smoothing=0.03511191734215131;, score=0.893 total time=   0.0s\n",
      "[CV 5/5] END .var_smoothing=0.03511191734215131;, score=0.950 total time=   0.0s\n",
      "Fitting 5 folds for each of 1 candidates, totalling 5 fits\n",
      "[CV 1/5] END ...............var_smoothing=1e-07;, score=0.884 total time=   0.0s\n",
      "[CV 2/5] END ...............var_smoothing=1e-07;, score=0.868 total time=   0.0s\n",
      "[CV 3/5] END ...............var_smoothing=1e-07;, score=0.868 total time=   0.0s\n",
      "[CV 4/5] END ...............var_smoothing=1e-07;, score=0.860 total time=   0.0s\n",
      "[CV 5/5] END ...............var_smoothing=1e-07;, score=0.875 total time=   0.0s\n",
      "Fitting 5 folds for each of 1 candidates, totalling 5 fits\n",
      "[CV 1/5] END ...var_smoothing=0.657933224657568;, score=0.884 total time=   0.0s\n",
      "[CV 2/5] END ...var_smoothing=0.657933224657568;, score=0.876 total time=   0.0s\n",
      "[CV 3/5] END ...var_smoothing=0.657933224657568;, score=0.876 total time=   0.0s\n",
      "[CV 4/5] END ...var_smoothing=0.657933224657568;, score=0.876 total time=   0.0s\n",
      "[CV 5/5] END ...var_smoothing=0.657933224657568;, score=0.883 total time=   0.0s\n",
      "Fitting 5 folds for each of 1 candidates, totalling 5 fits\n",
      "[CV 1/5] END var_smoothing=8.111308307896856e-09;, score=0.884 total time=   0.0s\n",
      "[CV 2/5] END var_smoothing=8.111308307896856e-09;, score=0.868 total time=   0.0s\n",
      "[CV 3/5] END var_smoothing=8.111308307896856e-09;, score=0.868 total time=   0.0s\n",
      "[CV 4/5] END var_smoothing=8.111308307896856e-09;, score=0.860 total time=   0.0s\n",
      "[CV 5/5] END var_smoothing=8.111308307896856e-09;, score=0.875 total time=   0.0s\n",
      "Fitting 5 folds for each of 1 candidates, totalling 5 fits\n",
      "[CV 1/5] END var_smoothing=0.0001232846739442066;, score=0.893 total time=   0.0s\n",
      "[CV 2/5] END var_smoothing=0.0001232846739442066;, score=0.868 total time=   0.0s\n",
      "[CV 3/5] END var_smoothing=0.0001232846739442066;, score=0.876 total time=   0.0s\n",
      "[CV 4/5] END var_smoothing=0.0001232846739442066;, score=0.884 total time=   0.0s\n",
      "[CV 5/5] END var_smoothing=0.0001232846739442066;, score=0.892 total time=   0.0s\n",
      "Fitting 5 folds for each of 1 candidates, totalling 5 fits\n",
      "[CV 1/5] END var_smoothing=1.873817422860383e-07;, score=0.884 total time=   0.0s\n",
      "[CV 2/5] END var_smoothing=1.873817422860383e-07;, score=0.851 total time=   0.0s\n",
      "[CV 3/5] END var_smoothing=1.873817422860383e-07;, score=0.868 total time=   0.0s\n",
      "[CV 4/5] END var_smoothing=1.873817422860383e-07;, score=0.860 total time=   0.0s\n",
      "[CV 5/5] END var_smoothing=1.873817422860383e-07;, score=0.875 total time=   0.0s\n",
      "Fitting 5 folds for each of 1 candidates, totalling 5 fits\n",
      "[CV 1/5] END ................var_smoothing=0.01;, score=0.934 total time=   0.0s\n",
      "[CV 2/5] END ................var_smoothing=0.01;, score=0.876 total time=   0.0s\n",
      "[CV 3/5] END ................var_smoothing=0.01;, score=0.926 total time=   0.0s\n",
      "[CV 4/5] END ................var_smoothing=0.01;, score=0.876 total time=   0.0s\n",
      "[CV 5/5] END ................var_smoothing=0.01;, score=0.933 total time=   0.0s\n",
      "Fitting 5 folds for each of 1 candidates, totalling 5 fits\n",
      "[CV 1/5] END var_smoothing=2.848035868435799e-06;, score=0.884 total time=   0.0s\n",
      "[CV 2/5] END var_smoothing=2.848035868435799e-06;, score=0.876 total time=   0.0s\n",
      "[CV 3/5] END var_smoothing=2.848035868435799e-06;, score=0.868 total time=   0.0s\n",
      "[CV 4/5] END var_smoothing=2.848035868435799e-06;, score=0.876 total time=   0.0s\n",
      "[CV 5/5] END var_smoothing=2.848035868435799e-06;, score=0.875 total time=   0.0s\n"
     ]
    },
    {
     "name": "stderr",
     "output_type": "stream",
     "text": [
      "C:\\Users\\rana ahmed\\AppData\\Roaming\\Python\\Python311\\site-packages\\skopt\\optimizer\\optimizer.py:449: UserWarning: The objective has been evaluated at this point before.\n",
      "  warnings.warn(\"The objective has been evaluated \"\n"
     ]
    },
    {
     "name": "stdout",
     "output_type": "stream",
     "text": [
      "Fitting 5 folds for each of 1 candidates, totalling 5 fits\n",
      "[CV 1/5] END .var_smoothing=0.03511191734215131;, score=0.917 total time=   0.0s\n",
      "[CV 2/5] END .var_smoothing=0.03511191734215131;, score=0.917 total time=   0.0s\n",
      "[CV 3/5] END .var_smoothing=0.03511191734215131;, score=0.942 total time=   0.0s\n",
      "[CV 4/5] END .var_smoothing=0.03511191734215131;, score=0.893 total time=   0.0s\n",
      "[CV 5/5] END .var_smoothing=0.03511191734215131;, score=0.950 total time=   0.0s\n",
      "Fitting 5 folds for each of 1 candidates, totalling 5 fits\n",
      "[CV 1/5] END ..var_smoothing=0.0533669923120631;, score=0.909 total time=   0.0s\n",
      "[CV 2/5] END ..var_smoothing=0.0533669923120631;, score=0.901 total time=   0.0s\n",
      "[CV 3/5] END ..var_smoothing=0.0533669923120631;, score=0.934 total time=   0.0s\n",
      "[CV 4/5] END ..var_smoothing=0.0533669923120631;, score=0.901 total time=   0.0s\n",
      "[CV 5/5] END ..var_smoothing=0.0533669923120631;, score=0.950 total time=   0.0s\n",
      "Fitting 5 folds for each of 1 candidates, totalling 5 fits\n",
      "[CV 1/5] END var_smoothing=3.511191734215127e-05;, score=0.893 total time=   0.0s\n",
      "[CV 2/5] END var_smoothing=3.511191734215127e-05;, score=0.876 total time=   0.0s\n",
      "[CV 3/5] END var_smoothing=3.511191734215127e-05;, score=0.876 total time=   0.0s\n",
      "[CV 4/5] END var_smoothing=3.511191734215127e-05;, score=0.884 total time=   0.0s\n",
      "[CV 5/5] END var_smoothing=3.511191734215127e-05;, score=0.892 total time=   0.0s\n",
      "Fitting 5 folds for each of 1 candidates, totalling 5 fits\n",
      "[CV 1/5] END ...............var_smoothing=1e-06;, score=0.884 total time=   0.0s\n",
      "[CV 2/5] END ...............var_smoothing=1e-06;, score=0.876 total time=   0.0s\n",
      "[CV 3/5] END ...............var_smoothing=1e-06;, score=0.868 total time=   0.0s\n",
      "[CV 4/5] END ...............var_smoothing=1e-06;, score=0.868 total time=   0.0s\n",
      "[CV 5/5] END ...............var_smoothing=1e-06;, score=0.875 total time=   0.0s\n",
      "Fitting 5 folds for each of 1 candidates, totalling 5 fits\n",
      "[CV 1/5] END var_smoothing=0.012328467394420659;, score=0.926 total time=   0.0s\n",
      "[CV 2/5] END var_smoothing=0.012328467394420659;, score=0.893 total time=   0.0s\n",
      "[CV 3/5] END var_smoothing=0.012328467394420659;, score=0.942 total time=   0.0s\n",
      "[CV 4/5] END var_smoothing=0.012328467394420659;, score=0.884 total time=   0.0s\n",
      "[CV 5/5] END var_smoothing=0.012328467394420659;, score=0.933 total time=   0.0s\n",
      "Fitting 5 folds for each of 1 candidates, totalling 5 fits\n",
      "[CV 1/5] END ...var_smoothing=0.533669923120631;, score=0.884 total time=   0.0s\n",
      "[CV 2/5] END ...var_smoothing=0.533669923120631;, score=0.876 total time=   0.0s\n",
      "[CV 3/5] END ...var_smoothing=0.533669923120631;, score=0.876 total time=   0.0s\n",
      "[CV 4/5] END ...var_smoothing=0.533669923120631;, score=0.876 total time=   0.0s\n",
      "[CV 5/5] END ...var_smoothing=0.533669923120631;, score=0.883 total time=   0.0s\n",
      "Fitting 5 folds for each of 1 candidates, totalling 5 fits\n",
      "[CV 1/5] END var_smoothing=2.310129700083158e-09;, score=0.884 total time=   0.0s\n",
      "[CV 2/5] END var_smoothing=2.310129700083158e-09;, score=0.843 total time=   0.0s\n",
      "[CV 3/5] END var_smoothing=2.310129700083158e-09;, score=0.868 total time=   0.0s\n",
      "[CV 4/5] END var_smoothing=2.310129700083158e-09;, score=0.860 total time=   0.0s\n",
      "[CV 5/5] END var_smoothing=2.310129700083158e-09;, score=0.875 total time=   0.0s\n",
      "Fitting 5 folds for each of 1 candidates, totalling 5 fits\n",
      "[CV 1/5] END ...............var_smoothing=0.001;, score=0.893 total time=   0.0s\n",
      "[CV 2/5] END ...............var_smoothing=0.001;, score=0.860 total time=   0.0s\n",
      "[CV 3/5] END ...............var_smoothing=0.001;, score=0.884 total time=   0.0s\n",
      "[CV 4/5] END ...............var_smoothing=0.001;, score=0.868 total time=   0.0s\n",
      "[CV 5/5] END ...............var_smoothing=0.001;, score=0.900 total time=   0.0s\n",
      "Fitting 5 folds for each of 1 candidates, totalling 5 fits\n",
      "[CV 1/5] END var_smoothing=1.232846739442066e-06;, score=0.884 total time=   0.0s\n",
      "[CV 2/5] END var_smoothing=1.232846739442066e-06;, score=0.876 total time=   0.0s\n",
      "[CV 3/5] END var_smoothing=1.232846739442066e-06;, score=0.868 total time=   0.0s\n",
      "[CV 4/5] END var_smoothing=1.232846739442066e-06;, score=0.868 total time=   0.0s\n",
      "[CV 5/5] END var_smoothing=1.232846739442066e-06;, score=0.875 total time=   0.0s\n",
      "Fitting 5 folds for each of 1 candidates, totalling 5 fits\n",
      "[CV 1/5] END var_smoothing=0.0012328467394420659;, score=0.893 total time=   0.0s\n",
      "[CV 2/5] END var_smoothing=0.0012328467394420659;, score=0.860 total time=   0.0s\n",
      "[CV 3/5] END var_smoothing=0.0012328467394420659;, score=0.884 total time=   0.0s\n",
      "[CV 4/5] END var_smoothing=0.0012328467394420659;, score=0.868 total time=   0.0s\n",
      "[CV 5/5] END var_smoothing=0.0012328467394420659;, score=0.900 total time=   0.0s\n"
     ]
    },
    {
     "data": {
      "text/html": [
       "<style>#sk-container-id-22 {color: black;background-color: white;}#sk-container-id-22 pre{padding: 0;}#sk-container-id-22 div.sk-toggleable {background-color: white;}#sk-container-id-22 label.sk-toggleable__label {cursor: pointer;display: block;width: 100%;margin-bottom: 0;padding: 0.3em;box-sizing: border-box;text-align: center;}#sk-container-id-22 label.sk-toggleable__label-arrow:before {content: \"▸\";float: left;margin-right: 0.25em;color: #696969;}#sk-container-id-22 label.sk-toggleable__label-arrow:hover:before {color: black;}#sk-container-id-22 div.sk-estimator:hover label.sk-toggleable__label-arrow:before {color: black;}#sk-container-id-22 div.sk-toggleable__content {max-height: 0;max-width: 0;overflow: hidden;text-align: left;background-color: #f0f8ff;}#sk-container-id-22 div.sk-toggleable__content pre {margin: 0.2em;color: black;border-radius: 0.25em;background-color: #f0f8ff;}#sk-container-id-22 input.sk-toggleable__control:checked~div.sk-toggleable__content {max-height: 200px;max-width: 100%;overflow: auto;}#sk-container-id-22 input.sk-toggleable__control:checked~label.sk-toggleable__label-arrow:before {content: \"▾\";}#sk-container-id-22 div.sk-estimator input.sk-toggleable__control:checked~label.sk-toggleable__label {background-color: #d4ebff;}#sk-container-id-22 div.sk-label input.sk-toggleable__control:checked~label.sk-toggleable__label {background-color: #d4ebff;}#sk-container-id-22 input.sk-hidden--visually {border: 0;clip: rect(1px 1px 1px 1px);clip: rect(1px, 1px, 1px, 1px);height: 1px;margin: -1px;overflow: hidden;padding: 0;position: absolute;width: 1px;}#sk-container-id-22 div.sk-estimator {font-family: monospace;background-color: #f0f8ff;border: 1px dotted black;border-radius: 0.25em;box-sizing: border-box;margin-bottom: 0.5em;}#sk-container-id-22 div.sk-estimator:hover {background-color: #d4ebff;}#sk-container-id-22 div.sk-parallel-item::after {content: \"\";width: 100%;border-bottom: 1px solid gray;flex-grow: 1;}#sk-container-id-22 div.sk-label:hover label.sk-toggleable__label {background-color: #d4ebff;}#sk-container-id-22 div.sk-serial::before {content: \"\";position: absolute;border-left: 1px solid gray;box-sizing: border-box;top: 0;bottom: 0;left: 50%;z-index: 0;}#sk-container-id-22 div.sk-serial {display: flex;flex-direction: column;align-items: center;background-color: white;padding-right: 0.2em;padding-left: 0.2em;position: relative;}#sk-container-id-22 div.sk-item {position: relative;z-index: 1;}#sk-container-id-22 div.sk-parallel {display: flex;align-items: stretch;justify-content: center;background-color: white;position: relative;}#sk-container-id-22 div.sk-item::before, #sk-container-id-22 div.sk-parallel-item::before {content: \"\";position: absolute;border-left: 1px solid gray;box-sizing: border-box;top: 0;bottom: 0;left: 50%;z-index: -1;}#sk-container-id-22 div.sk-parallel-item {display: flex;flex-direction: column;z-index: 1;position: relative;background-color: white;}#sk-container-id-22 div.sk-parallel-item:first-child::after {align-self: flex-end;width: 50%;}#sk-container-id-22 div.sk-parallel-item:last-child::after {align-self: flex-start;width: 50%;}#sk-container-id-22 div.sk-parallel-item:only-child::after {width: 0;}#sk-container-id-22 div.sk-dashed-wrapped {border: 1px dashed gray;margin: 0 0.4em 0.5em 0.4em;box-sizing: border-box;padding-bottom: 0.4em;background-color: white;}#sk-container-id-22 div.sk-label label {font-family: monospace;font-weight: bold;display: inline-block;line-height: 1.2em;}#sk-container-id-22 div.sk-label-container {text-align: center;}#sk-container-id-22 div.sk-container {/* jupyter's `normalize.less` sets `[hidden] { display: none; }` but bootstrap.min.css set `[hidden] { display: none !important; }` so we also need the `!important` here to be able to override the default hidden behavior on the sphinx rendered scikit-learn.org. See: https://github.com/scikit-learn/scikit-learn/issues/21755 */display: inline-block !important;position: relative;}#sk-container-id-22 div.sk-text-repr-fallback {display: none;}</style><div id=\"sk-container-id-22\" class=\"sk-top-container\"><div class=\"sk-text-repr-fallback\"><pre>BayesSearchCV(cv=5, estimator=GaussianNB(), n_iter=30, random_state=42,\n",
       "              scoring=&#x27;accuracy&#x27;,\n",
       "              search_spaces={&#x27;var_smoothing&#x27;: array([1.00000000e+00, 8.11130831e-01, 6.57933225e-01, 5.33669923e-01,\n",
       "       4.32876128e-01, 3.51119173e-01, 2.84803587e-01, 2.31012970e-01,\n",
       "       1.87381742e-01, 1.51991108e-01, 1.23284674e-01, 1.00000000e-01,\n",
       "       8.11130831e-02, 6.57933225e-02, 5.33669923e-02,...\n",
       "       1.23284674e-07, 1.00000000e-07, 8.11130831e-08, 6.57933225e-08,\n",
       "       5.33669923e-08, 4.32876128e-08, 3.51119173e-08, 2.84803587e-08,\n",
       "       2.31012970e-08, 1.87381742e-08, 1.51991108e-08, 1.23284674e-08,\n",
       "       1.00000000e-08, 8.11130831e-09, 6.57933225e-09, 5.33669923e-09,\n",
       "       4.32876128e-09, 3.51119173e-09, 2.84803587e-09, 2.31012970e-09,\n",
       "       1.87381742e-09, 1.51991108e-09, 1.23284674e-09, 1.00000000e-09])},\n",
       "              verbose=4)</pre><b>In a Jupyter environment, please rerun this cell to show the HTML representation or trust the notebook. <br />On GitHub, the HTML representation is unable to render, please try loading this page with nbviewer.org.</b></div><div class=\"sk-container\" hidden><div class=\"sk-item sk-dashed-wrapped\"><div class=\"sk-label-container\"><div class=\"sk-label sk-toggleable\"><input class=\"sk-toggleable__control sk-hidden--visually\" id=\"sk-estimator-id-64\" type=\"checkbox\" ><label for=\"sk-estimator-id-64\" class=\"sk-toggleable__label sk-toggleable__label-arrow\">BayesSearchCV</label><div class=\"sk-toggleable__content\"><pre>BayesSearchCV(cv=5, estimator=GaussianNB(), n_iter=30, random_state=42,\n",
       "              scoring=&#x27;accuracy&#x27;,\n",
       "              search_spaces={&#x27;var_smoothing&#x27;: array([1.00000000e+00, 8.11130831e-01, 6.57933225e-01, 5.33669923e-01,\n",
       "       4.32876128e-01, 3.51119173e-01, 2.84803587e-01, 2.31012970e-01,\n",
       "       1.87381742e-01, 1.51991108e-01, 1.23284674e-01, 1.00000000e-01,\n",
       "       8.11130831e-02, 6.57933225e-02, 5.33669923e-02,...\n",
       "       1.23284674e-07, 1.00000000e-07, 8.11130831e-08, 6.57933225e-08,\n",
       "       5.33669923e-08, 4.32876128e-08, 3.51119173e-08, 2.84803587e-08,\n",
       "       2.31012970e-08, 1.87381742e-08, 1.51991108e-08, 1.23284674e-08,\n",
       "       1.00000000e-08, 8.11130831e-09, 6.57933225e-09, 5.33669923e-09,\n",
       "       4.32876128e-09, 3.51119173e-09, 2.84803587e-09, 2.31012970e-09,\n",
       "       1.87381742e-09, 1.51991108e-09, 1.23284674e-09, 1.00000000e-09])},\n",
       "              verbose=4)</pre></div></div></div><div class=\"sk-parallel\"><div class=\"sk-parallel-item\"><div class=\"sk-item\"><div class=\"sk-label-container\"><div class=\"sk-label sk-toggleable\"><input class=\"sk-toggleable__control sk-hidden--visually\" id=\"sk-estimator-id-65\" type=\"checkbox\" ><label for=\"sk-estimator-id-65\" class=\"sk-toggleable__label sk-toggleable__label-arrow\">estimator: GaussianNB</label><div class=\"sk-toggleable__content\"><pre>GaussianNB()</pre></div></div></div><div class=\"sk-serial\"><div class=\"sk-item\"><div class=\"sk-estimator sk-toggleable\"><input class=\"sk-toggleable__control sk-hidden--visually\" id=\"sk-estimator-id-66\" type=\"checkbox\" ><label for=\"sk-estimator-id-66\" class=\"sk-toggleable__label sk-toggleable__label-arrow\">GaussianNB</label><div class=\"sk-toggleable__content\"><pre>GaussianNB()</pre></div></div></div></div></div></div></div></div></div></div>"
      ],
      "text/plain": [
       "BayesSearchCV(cv=5, estimator=GaussianNB(), n_iter=30, random_state=42,\n",
       "              scoring='accuracy',\n",
       "              search_spaces={'var_smoothing': array([1.00000000e+00, 8.11130831e-01, 6.57933225e-01, 5.33669923e-01,\n",
       "       4.32876128e-01, 3.51119173e-01, 2.84803587e-01, 2.31012970e-01,\n",
       "       1.87381742e-01, 1.51991108e-01, 1.23284674e-01, 1.00000000e-01,\n",
       "       8.11130831e-02, 6.57933225e-02, 5.33669923e-02,...\n",
       "       1.23284674e-07, 1.00000000e-07, 8.11130831e-08, 6.57933225e-08,\n",
       "       5.33669923e-08, 4.32876128e-08, 3.51119173e-08, 2.84803587e-08,\n",
       "       2.31012970e-08, 1.87381742e-08, 1.51991108e-08, 1.23284674e-08,\n",
       "       1.00000000e-08, 8.11130831e-09, 6.57933225e-09, 5.33669923e-09,\n",
       "       4.32876128e-09, 3.51119173e-09, 2.84803587e-09, 2.31012970e-09,\n",
       "       1.87381742e-09, 1.51991108e-09, 1.23284674e-09, 1.00000000e-09])},\n",
       "              verbose=4)"
      ]
     },
     "execution_count": 162,
     "metadata": {},
     "output_type": "execute_result"
    }
   ],
   "source": [
    "# define the bayes search algorithm\n",
    "from skopt import BayesSearchCV\n",
    "params = {'var_smoothing': np.logspace(0,-9, num=100)}\n",
    "\n",
    "search = BayesSearchCV(\n",
    "    estimator=gnb,\n",
    "    search_spaces=params,\n",
    "    n_jobs=1,\n",
    "    cv=5,\n",
    "    n_iter=30,\n",
    "    scoring=\"accuracy\",\n",
    "    verbose=4,\n",
    "    random_state=42\n",
    ")\n",
    "search.fit(x_train,y_train)"
   ]
  },
  {
   "cell_type": "code",
   "execution_count": 163,
   "metadata": {},
   "outputs": [
    {
     "name": "stdout",
     "output_type": "stream",
     "text": [
      "0.9238842975206613\n"
     ]
    }
   ],
   "source": [
    "# make prediction on the validation data\n",
    "bayesSearch= search.predict(x_validate)\n",
    "# print the best score by applying different variations in the smoothing hyperparameter\n",
    "print(search.best_score_)"
   ]
  },
  {
   "cell_type": "code",
   "execution_count": 164,
   "metadata": {},
   "outputs": [
    {
     "name": "stdout",
     "output_type": "stream",
     "text": [
      "OrderedDict([('var_smoothing', 0.03511191734215131)])\n"
     ]
    }
   ],
   "source": [
    "# try figuring out the best value for var smoothing\n",
    "print(search.best_params_)\n"
   ]
  },
  {
   "cell_type": "code",
   "execution_count": 165,
   "metadata": {},
   "outputs": [
    {
     "name": "stdout",
     "output_type": "stream",
     "text": [
      "              precision    recall  f1-score   support\n",
      "\n",
      "           0       0.86      0.98      0.92       108\n",
      "           1       0.67      0.19      0.30        21\n",
      "\n",
      "    accuracy                           0.85       129\n",
      "   macro avg       0.76      0.59      0.61       129\n",
      "weighted avg       0.83      0.85      0.82       129\n",
      "\n"
     ]
    }
   ],
   "source": [
    "print(classification_report(y_validate, bayesSearch))"
   ]
  },
  {
   "attachments": {},
   "cell_type": "markdown",
   "metadata": {},
   "source": [
    "Apply the same steps on the testing data"
   ]
  },
  {
   "cell_type": "code",
   "execution_count": 166,
   "metadata": {},
   "outputs": [
    {
     "name": "stdout",
     "output_type": "stream",
     "text": [
      "              precision    recall  f1-score   support\n",
      "\n",
      "           0       0.90      0.98      0.94       116\n",
      "           1       0.50      0.14      0.22        14\n",
      "\n",
      "    accuracy                           0.89       130\n",
      "   macro avg       0.70      0.56      0.58       130\n",
      "weighted avg       0.86      0.89      0.86       130\n",
      "\n"
     ]
    }
   ],
   "source": [
    "# make prediction on the testing data\n",
    "bayesSearch= search.predict(x_test)\n",
    "print(classification_report(y_test, bayesSearch))\n"
   ]
  },
  {
   "cell_type": "code",
   "execution_count": 167,
   "metadata": {},
   "outputs": [
    {
     "name": "stdout",
     "output_type": "stream",
     "text": [
      "Gaussian Naive Bayes model accuracy(in %): 89.23076923076924\n"
     ]
    }
   ],
   "source": [
    "from sklearn import metrics\n",
    "print(\"Gaussian Naive Bayes model accuracy(in %):\", metrics.accuracy_score(y_test, bayesSearch)*100)"
   ]
  },
  {
   "attachments": {},
   "cell_type": "markdown",
   "metadata": {},
   "source": [
    "Another technique to tune the var smoothing parameter , we will seperating the data into folds.\n",
    "\n",
    "RepeatedStratifiedKFold allows improving the estimated performance of a machine learning model, by simply repeating the cross-validation procedure multiple times (according to the n_repeats value), and reporting the mean result across all folds from all runs."
   ]
  },
  {
   "cell_type": "code",
   "execution_count": 168,
   "metadata": {},
   "outputs": [
    {
     "name": "stdout",
     "output_type": "stream",
     "text": [
      "Fitting 15 folds for each of 100 candidates, totalling 1500 fits\n"
     ]
    },
    {
     "data": {
      "text/html": [
       "<style>#sk-container-id-23 {color: black;background-color: white;}#sk-container-id-23 pre{padding: 0;}#sk-container-id-23 div.sk-toggleable {background-color: white;}#sk-container-id-23 label.sk-toggleable__label {cursor: pointer;display: block;width: 100%;margin-bottom: 0;padding: 0.3em;box-sizing: border-box;text-align: center;}#sk-container-id-23 label.sk-toggleable__label-arrow:before {content: \"▸\";float: left;margin-right: 0.25em;color: #696969;}#sk-container-id-23 label.sk-toggleable__label-arrow:hover:before {color: black;}#sk-container-id-23 div.sk-estimator:hover label.sk-toggleable__label-arrow:before {color: black;}#sk-container-id-23 div.sk-toggleable__content {max-height: 0;max-width: 0;overflow: hidden;text-align: left;background-color: #f0f8ff;}#sk-container-id-23 div.sk-toggleable__content pre {margin: 0.2em;color: black;border-radius: 0.25em;background-color: #f0f8ff;}#sk-container-id-23 input.sk-toggleable__control:checked~div.sk-toggleable__content {max-height: 200px;max-width: 100%;overflow: auto;}#sk-container-id-23 input.sk-toggleable__control:checked~label.sk-toggleable__label-arrow:before {content: \"▾\";}#sk-container-id-23 div.sk-estimator input.sk-toggleable__control:checked~label.sk-toggleable__label {background-color: #d4ebff;}#sk-container-id-23 div.sk-label input.sk-toggleable__control:checked~label.sk-toggleable__label {background-color: #d4ebff;}#sk-container-id-23 input.sk-hidden--visually {border: 0;clip: rect(1px 1px 1px 1px);clip: rect(1px, 1px, 1px, 1px);height: 1px;margin: -1px;overflow: hidden;padding: 0;position: absolute;width: 1px;}#sk-container-id-23 div.sk-estimator {font-family: monospace;background-color: #f0f8ff;border: 1px dotted black;border-radius: 0.25em;box-sizing: border-box;margin-bottom: 0.5em;}#sk-container-id-23 div.sk-estimator:hover {background-color: #d4ebff;}#sk-container-id-23 div.sk-parallel-item::after {content: \"\";width: 100%;border-bottom: 1px solid gray;flex-grow: 1;}#sk-container-id-23 div.sk-label:hover label.sk-toggleable__label {background-color: #d4ebff;}#sk-container-id-23 div.sk-serial::before {content: \"\";position: absolute;border-left: 1px solid gray;box-sizing: border-box;top: 0;bottom: 0;left: 50%;z-index: 0;}#sk-container-id-23 div.sk-serial {display: flex;flex-direction: column;align-items: center;background-color: white;padding-right: 0.2em;padding-left: 0.2em;position: relative;}#sk-container-id-23 div.sk-item {position: relative;z-index: 1;}#sk-container-id-23 div.sk-parallel {display: flex;align-items: stretch;justify-content: center;background-color: white;position: relative;}#sk-container-id-23 div.sk-item::before, #sk-container-id-23 div.sk-parallel-item::before {content: \"\";position: absolute;border-left: 1px solid gray;box-sizing: border-box;top: 0;bottom: 0;left: 50%;z-index: -1;}#sk-container-id-23 div.sk-parallel-item {display: flex;flex-direction: column;z-index: 1;position: relative;background-color: white;}#sk-container-id-23 div.sk-parallel-item:first-child::after {align-self: flex-end;width: 50%;}#sk-container-id-23 div.sk-parallel-item:last-child::after {align-self: flex-start;width: 50%;}#sk-container-id-23 div.sk-parallel-item:only-child::after {width: 0;}#sk-container-id-23 div.sk-dashed-wrapped {border: 1px dashed gray;margin: 0 0.4em 0.5em 0.4em;box-sizing: border-box;padding-bottom: 0.4em;background-color: white;}#sk-container-id-23 div.sk-label label {font-family: monospace;font-weight: bold;display: inline-block;line-height: 1.2em;}#sk-container-id-23 div.sk-label-container {text-align: center;}#sk-container-id-23 div.sk-container {/* jupyter's `normalize.less` sets `[hidden] { display: none; }` but bootstrap.min.css set `[hidden] { display: none !important; }` so we also need the `!important` here to be able to override the default hidden behavior on the sphinx rendered scikit-learn.org. See: https://github.com/scikit-learn/scikit-learn/issues/21755 */display: inline-block !important;position: relative;}#sk-container-id-23 div.sk-text-repr-fallback {display: none;}</style><div id=\"sk-container-id-23\" class=\"sk-top-container\"><div class=\"sk-text-repr-fallback\"><pre>GridSearchCV(cv=RepeatedStratifiedKFold(n_repeats=3, n_splits=5, random_state=999),\n",
       "             estimator=GaussianNB(),\n",
       "             param_grid={&#x27;var_smoothing&#x27;: array([1.00000000e+00, 8.11130831e-01, 6.57933225e-01, 5.33669923e-01,\n",
       "       4.32876128e-01, 3.51119173e-01, 2.84803587e-01, 2.31012970e-01,\n",
       "       1.87381742e-01, 1.51991108e-01, 1.23284674e-01, 1.00000000e-01,\n",
       "       8.11130831e-02, 6.57933225e-02, 5...\n",
       "       1.23284674e-07, 1.00000000e-07, 8.11130831e-08, 6.57933225e-08,\n",
       "       5.33669923e-08, 4.32876128e-08, 3.51119173e-08, 2.84803587e-08,\n",
       "       2.31012970e-08, 1.87381742e-08, 1.51991108e-08, 1.23284674e-08,\n",
       "       1.00000000e-08, 8.11130831e-09, 6.57933225e-09, 5.33669923e-09,\n",
       "       4.32876128e-09, 3.51119173e-09, 2.84803587e-09, 2.31012970e-09,\n",
       "       1.87381742e-09, 1.51991108e-09, 1.23284674e-09, 1.00000000e-09])},\n",
       "             scoring=&#x27;accuracy&#x27;, verbose=1)</pre><b>In a Jupyter environment, please rerun this cell to show the HTML representation or trust the notebook. <br />On GitHub, the HTML representation is unable to render, please try loading this page with nbviewer.org.</b></div><div class=\"sk-container\" hidden><div class=\"sk-item sk-dashed-wrapped\"><div class=\"sk-label-container\"><div class=\"sk-label sk-toggleable\"><input class=\"sk-toggleable__control sk-hidden--visually\" id=\"sk-estimator-id-67\" type=\"checkbox\" ><label for=\"sk-estimator-id-67\" class=\"sk-toggleable__label sk-toggleable__label-arrow\">GridSearchCV</label><div class=\"sk-toggleable__content\"><pre>GridSearchCV(cv=RepeatedStratifiedKFold(n_repeats=3, n_splits=5, random_state=999),\n",
       "             estimator=GaussianNB(),\n",
       "             param_grid={&#x27;var_smoothing&#x27;: array([1.00000000e+00, 8.11130831e-01, 6.57933225e-01, 5.33669923e-01,\n",
       "       4.32876128e-01, 3.51119173e-01, 2.84803587e-01, 2.31012970e-01,\n",
       "       1.87381742e-01, 1.51991108e-01, 1.23284674e-01, 1.00000000e-01,\n",
       "       8.11130831e-02, 6.57933225e-02, 5...\n",
       "       1.23284674e-07, 1.00000000e-07, 8.11130831e-08, 6.57933225e-08,\n",
       "       5.33669923e-08, 4.32876128e-08, 3.51119173e-08, 2.84803587e-08,\n",
       "       2.31012970e-08, 1.87381742e-08, 1.51991108e-08, 1.23284674e-08,\n",
       "       1.00000000e-08, 8.11130831e-09, 6.57933225e-09, 5.33669923e-09,\n",
       "       4.32876128e-09, 3.51119173e-09, 2.84803587e-09, 2.31012970e-09,\n",
       "       1.87381742e-09, 1.51991108e-09, 1.23284674e-09, 1.00000000e-09])},\n",
       "             scoring=&#x27;accuracy&#x27;, verbose=1)</pre></div></div></div><div class=\"sk-parallel\"><div class=\"sk-parallel-item\"><div class=\"sk-item\"><div class=\"sk-label-container\"><div class=\"sk-label sk-toggleable\"><input class=\"sk-toggleable__control sk-hidden--visually\" id=\"sk-estimator-id-68\" type=\"checkbox\" ><label for=\"sk-estimator-id-68\" class=\"sk-toggleable__label sk-toggleable__label-arrow\">estimator: GaussianNB</label><div class=\"sk-toggleable__content\"><pre>GaussianNB()</pre></div></div></div><div class=\"sk-serial\"><div class=\"sk-item\"><div class=\"sk-estimator sk-toggleable\"><input class=\"sk-toggleable__control sk-hidden--visually\" id=\"sk-estimator-id-69\" type=\"checkbox\" ><label for=\"sk-estimator-id-69\" class=\"sk-toggleable__label sk-toggleable__label-arrow\">GaussianNB</label><div class=\"sk-toggleable__content\"><pre>GaussianNB()</pre></div></div></div></div></div></div></div></div></div></div>"
      ],
      "text/plain": [
       "GridSearchCV(cv=RepeatedStratifiedKFold(n_repeats=3, n_splits=5, random_state=999),\n",
       "             estimator=GaussianNB(),\n",
       "             param_grid={'var_smoothing': array([1.00000000e+00, 8.11130831e-01, 6.57933225e-01, 5.33669923e-01,\n",
       "       4.32876128e-01, 3.51119173e-01, 2.84803587e-01, 2.31012970e-01,\n",
       "       1.87381742e-01, 1.51991108e-01, 1.23284674e-01, 1.00000000e-01,\n",
       "       8.11130831e-02, 6.57933225e-02, 5...\n",
       "       1.23284674e-07, 1.00000000e-07, 8.11130831e-08, 6.57933225e-08,\n",
       "       5.33669923e-08, 4.32876128e-08, 3.51119173e-08, 2.84803587e-08,\n",
       "       2.31012970e-08, 1.87381742e-08, 1.51991108e-08, 1.23284674e-08,\n",
       "       1.00000000e-08, 8.11130831e-09, 6.57933225e-09, 5.33669923e-09,\n",
       "       4.32876128e-09, 3.51119173e-09, 2.84803587e-09, 2.31012970e-09,\n",
       "       1.87381742e-09, 1.51991108e-09, 1.23284674e-09, 1.00000000e-09])},\n",
       "             scoring='accuracy', verbose=1)"
      ]
     },
     "execution_count": 168,
     "metadata": {},
     "output_type": "execute_result"
    }
   ],
   "source": [
    "from sklearn.model_selection import RepeatedStratifiedKFold\n",
    "from sklearn.model_selection import GridSearchCV\n",
    "cv_method = RepeatedStratifiedKFold(n_splits=5, \n",
    "                                    n_repeats=3, \n",
    "                                    random_state=999)\n",
    "\n",
    "params_NB = {'var_smoothing': np.logspace(0,-9, num=100)}\n",
    "\n",
    "gaussian_grid = GridSearchCV(estimator=gnb, \n",
    "                     param_grid=params_NB, \n",
    "                     cv=cv_method,\n",
    "                     verbose=1, \n",
    "                     scoring='accuracy')\n",
    "\n",
    "gaussian_grid.fit(x_train, y_train)\n"
   ]
  },
  {
   "cell_type": "code",
   "execution_count": 169,
   "metadata": {},
   "outputs": [
    {
     "name": "stdout",
     "output_type": "stream",
     "text": [
      "              precision    recall  f1-score   support\n",
      "\n",
      "           0       0.90      0.98      0.94       116\n",
      "           1       0.50      0.14      0.22        14\n",
      "\n",
      "    accuracy                           0.89       130\n",
      "   macro avg       0.70      0.56      0.58       130\n",
      "weighted avg       0.86      0.89      0.86       130\n",
      "\n"
     ]
    }
   ],
   "source": [
    "folds_grid =gaussian_grid.predict(x_test)\n",
    "print(classification_report(y_test, folds_grid))"
   ]
  },
  {
   "cell_type": "code",
   "execution_count": 170,
   "metadata": {},
   "outputs": [
    {
     "data": {
      "text/plain": [
       "{'var_smoothing': 0.03511191734215131}"
      ]
     },
     "execution_count": 170,
     "metadata": {},
     "output_type": "execute_result"
    }
   ],
   "source": [
    "gaussian_grid.best_params_"
   ]
  },
  {
   "cell_type": "code",
   "execution_count": 171,
   "metadata": {},
   "outputs": [
    {
     "data": {
      "text/plain": [
       "0.9277180899908172"
      ]
     },
     "execution_count": 171,
     "metadata": {},
     "output_type": "execute_result"
    }
   ],
   "source": [
    "gaussian_grid.best_score_"
   ]
  },
  {
   "cell_type": "code",
   "execution_count": 172,
   "metadata": {},
   "outputs": [],
   "source": [
    "results = pd.DataFrame(gaussian_grid.cv_results_['params'])\n",
    "results['test_score'] = gaussian_grid.cv_results_['mean_test_score']"
   ]
  },
  {
   "cell_type": "code",
   "execution_count": 173,
   "metadata": {},
   "outputs": [
    {
     "data": {
      "image/png": "[encoded data removed]",
      "text/plain": [
       "<Figure size 640x480 with 1 Axes>"
      ]
     },
     "metadata": {},
     "output_type": "display_data"
    }
   ],
   "source": [
    "plt.plot(results['var_smoothing'], results['test_score'], marker = '.')    \n",
    "plt.xlabel('Var. Smoothing')\n",
    "plt.ylabel(\"Mean CV Score\")\n",
    "plt.title(\"NB Performance Comparison\")\n",
    "plt.show()"
   ]
  },
  {
   "cell_type": "markdown",
   "metadata": {},
   "source": [
    "Try to change repeat paramter  & random_state"
   ]
  },
  {
   "cell_type": "code",
   "execution_count": 201,
   "metadata": {},
   "outputs": [
    {
     "name": "stdout",
     "output_type": "stream",
     "text": [
      "Fitting 14 folds for each of 100 candidates, totalling 1400 fits\n",
      "              precision    recall  f1-score   support\n",
      "\n",
      "           0       0.90      0.97      0.94       116\n",
      "           1       0.40      0.14      0.21        14\n",
      "\n",
      "    accuracy                           0.88       130\n",
      "   macro avg       0.65      0.56      0.57       130\n",
      "weighted avg       0.85      0.88      0.86       130\n",
      "\n"
     ]
    }
   ],
   "source": [
    "from sklearn.model_selection import RepeatedStratifiedKFold\n",
    "from sklearn.model_selection import GridSearchCV\n",
    "from sklearn.naive_bayes import GaussianNB\n",
    "gnb = GaussianNB()\n",
    "cv_method2 = RepeatedStratifiedKFold(n_splits=2, \n",
    "                                    n_repeats=7, \n",
    "                                    random_state=900)\n",
    "\n",
    "params_NB2 = {'var_smoothing': np.logspace(0,-9, num=100)}\n",
    "\n",
    "gaussian_grid3 = GridSearchCV(estimator=gnb, \n",
    "                     param_grid=params_NB2, \n",
    "                     cv=cv_method2,\n",
    "                     verbose=1, \n",
    "                     scoring='accuracy')\n",
    "\n",
    "gaussian_grid3.fit(x_train, y_train)\n",
    "folds_grid3 =gaussian_grid3.predict(x_test)\n",
    "print(classification_report(y_test, folds_grid3))"
   ]
  },
  {
   "cell_type": "code",
   "execution_count": 202,
   "metadata": {},
   "outputs": [
    {
     "data": {
      "text/plain": [
       "{'var_smoothing': 0.02848035868435802}"
      ]
     },
     "execution_count": 202,
     "metadata": {},
     "output_type": "execute_result"
    }
   ],
   "source": [
    "gaussian_grid3.best_params_\n",
    "#result changes bec of decreasing number of fols and random state "
   ]
  },
  {
   "cell_type": "code",
   "execution_count": 203,
   "metadata": {},
   "outputs": [
    {
     "data": {
      "text/plain": [
       "0.9236045411542102"
      ]
     },
     "execution_count": 203,
     "metadata": {},
     "output_type": "execute_result"
    }
   ],
   "source": [
    "gaussian_grid3.best_score_\n",
    "#result changes bec of decreasing number of fols and random state \n"
   ]
  },
  {
   "attachments": {},
   "cell_type": "markdown",
   "metadata": {},
   "source": [
    "Try to change the folds parameters"
   ]
  },
  {
   "cell_type": "code",
   "execution_count": 204,
   "metadata": {},
   "outputs": [
    {
     "name": "stdout",
     "output_type": "stream",
     "text": [
      "Fitting 18 folds for each of 100 candidates, totalling 1800 fits\n",
      "              precision    recall  f1-score   support\n",
      "\n",
      "           0       0.90      0.97      0.94       116\n",
      "           1       0.40      0.14      0.21        14\n",
      "\n",
      "    accuracy                           0.88       130\n",
      "   macro avg       0.65      0.56      0.57       130\n",
      "weighted avg       0.85      0.88      0.86       130\n",
      "\n"
     ]
    }
   ],
   "source": [
    "from sklearn.model_selection import RepeatedStratifiedKFold\n",
    "from sklearn.model_selection import GridSearchCV\n",
    "from sklearn.naive_bayes import GaussianNB\n",
    "gnb = GaussianNB()\n",
    "cv_method3 = RepeatedStratifiedKFold(n_splits=6, \n",
    "                                    n_repeats=3, \n",
    "                                    random_state=900)\n",
    "\n",
    "params_NB3 = {'var_smoothing': np.logspace(0,-9, num=100)}\n",
    "\n",
    "gaussian_grid4 = GridSearchCV(estimator=gnb, \n",
    "                     param_grid=params_NB3, \n",
    "                     cv=cv_method3,\n",
    "                     verbose=1, \n",
    "                     scoring='accuracy')\n",
    "\n",
    "gaussian_grid4.fit(x_train, y_train)\n",
    "folds_grid4 =gaussian_grid4.predict(x_test)\n",
    "print(classification_report(y_test, folds_grid4))\n"
   ]
  },
  {
   "cell_type": "code",
   "execution_count": 206,
   "metadata": {},
   "outputs": [
    {
     "data": {
      "text/plain": [
       "{'var_smoothing': 0.02848035868435802}"
      ]
     },
     "execution_count": 206,
     "metadata": {},
     "output_type": "execute_result"
    }
   ],
   "source": [
    "gaussian_grid4.best_params_"
   ]
  },
  {
   "cell_type": "code",
   "execution_count": 207,
   "metadata": {},
   "outputs": [
    {
     "data": {
      "text/plain": [
       "0.9271562156215621"
      ]
     },
     "execution_count": 207,
     "metadata": {},
     "output_type": "execute_result"
    }
   ],
   "source": [
    "gaussian_grid4.best_score_"
   ]
  },
  {
   "attachments": {},
   "cell_type": "markdown",
   "metadata": {},
   "source": [
    "Trying to tune the second hyperparameter which is the priors"
   ]
  },
  {
   "cell_type": "code",
   "execution_count": 216,
   "metadata": {},
   "outputs": [
    {
     "name": "stdout",
     "output_type": "stream",
     "text": [
      "              precision    recall  f1-score   support\n",
      "\n",
      "           0       0.91      0.90      0.90       108\n",
      "           1       0.50      0.52      0.51        21\n",
      "\n",
      "    accuracy                           0.84       129\n",
      "   macro avg       0.70      0.71      0.71       129\n",
      "weighted avg       0.84      0.84      0.84       129\n",
      "\n"
     ]
    }
   ],
   "source": [
    "from sklearn.naive_bayes import GaussianNB\n",
    "gnb1 = GaussianNB()\n",
    "gnb1.class_prior_ = [0.1,0.5, 0.7,0.9,0.8,1] #make the algorithm start fitting these prior values and test on validation data\n",
    "gnb1.fit(x_train, y_train)\n",
    "yPredicted1 = gnb1.predict(x_validate)\n",
    "print(classification_report(y_validate, yPredicted1))"
   ]
  },
  {
   "cell_type": "code",
   "execution_count": 217,
   "metadata": {},
   "outputs": [
    {
     "name": "stdout",
     "output_type": "stream",
     "text": [
      "              precision    recall  f1-score   support\n",
      "\n",
      "           0       0.90      0.90      0.90       116\n",
      "           1       0.20      0.21      0.21        14\n",
      "\n",
      "    accuracy                           0.82       130\n",
      "   macro avg       0.55      0.56      0.55       130\n",
      "weighted avg       0.83      0.82      0.83       130\n",
      "\n"
     ]
    }
   ],
   "source": [
    "#test on testing data\n",
    "yPredicted2 = gnb1.predict(x_test)\n",
    "print(classification_report(y_test, yPredicted2))"
   ]
  },
  {
   "cell_type": "code",
   "execution_count": 218,
   "metadata": {},
   "outputs": [
    {
     "name": "stdout",
     "output_type": "stream",
     "text": [
      "Gaussian Naive Bayes model accuracy(in %): 82.3076923076923\n"
     ]
    }
   ],
   "source": [
    "from sklearn import metrics\n",
    "print(\"Gaussian Naive Bayes model accuracy(in %):\", metrics.accuracy_score(y_test, yPredicted2)*100)"
   ]
  },
  {
   "cell_type": "code",
   "execution_count": 210,
   "metadata": {},
   "outputs": [
    {
     "name": "stdout",
     "output_type": "stream",
     "text": [
      "              precision    recall  f1-score   support\n",
      "\n",
      "           0       0.91      0.90      0.90       108\n",
      "           1       0.50      0.52      0.51        21\n",
      "\n",
      "    accuracy                           0.84       129\n",
      "   macro avg       0.70      0.71      0.71       129\n",
      "weighted avg       0.84      0.84      0.84       129\n",
      "\n"
     ]
    }
   ],
   "source": [
    "from sklearn.naive_bayes import GaussianNB\n",
    "gnb2 = GaussianNB()\n",
    "gnb2.class_prior_ = [0.2,0.3, 0.5,0.9,1] #make the algorithm start fitting these prior values and test on validation data\n",
    "gnb2.fit(x_train, y_train)\n",
    "yPredicted2 = gnb2.predict(x_validate)\n",
    "print(classification_report(y_validate, yPredicted2))"
   ]
  },
  {
   "cell_type": "code",
   "execution_count": 211,
   "metadata": {},
   "outputs": [
    {
     "name": "stdout",
     "output_type": "stream",
     "text": [
      "              precision    recall  f1-score   support\n",
      "\n",
      "           0       0.90      0.90      0.90       116\n",
      "           1       0.20      0.21      0.21        14\n",
      "\n",
      "    accuracy                           0.82       130\n",
      "   macro avg       0.55      0.56      0.55       130\n",
      "weighted avg       0.83      0.82      0.83       130\n",
      "\n"
     ]
    }
   ],
   "source": [
    "#test on testing data\n",
    "yPredicted3 = gnb2.predict(x_test)\n",
    "print(classification_report(y_test, yPredicted3))"
   ]
  },
  {
   "cell_type": "code",
   "execution_count": 213,
   "metadata": {},
   "outputs": [
    {
     "name": "stdout",
     "output_type": "stream",
     "text": [
      "Gaussian Naive Bayes model accuracy(in %): 82.3076923076923\n"
     ]
    }
   ],
   "source": [
    "from sklearn import metrics\n",
    "print(\"Gaussian Naive Bayes model accuracy(in %):\", metrics.accuracy_score(y_test, yPredicted3)*100)"
   ]
  }
 ],
 "metadata": {
  "kernelspec": {
   "display_name": "Python 3",
   "language": "python",
   "name": "python3"
  },
  "language_info": {
   "codemirror_mode": {
    "name": "ipython",
    "version": 3
   },
   "file_extension": ".py",
   "mimetype": "text/x-python",
   "name": "python",
   "nbconvert_exporter": "python",
   "pygments_lexer": "ipython3",
   "version": "3.11.0"
  },
  "orig_nbformat": 4
 },
 "nbformat": 4,
 "nbformat_minor": 2
}
