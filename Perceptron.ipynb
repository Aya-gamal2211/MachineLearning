{
 "cells": [
  {
   "cell_type": "code",
   "execution_count": 130,
   "metadata": {},
   "outputs": [],
   "source": [
    "import numpy as np\n",
    "import seaborn as sns\n",
    "import pandas as pd\n",
    "import math\n",
    "import matplotlib.pyplot as plt\n",
    "from sklearn.model_selection import KFold\n",
    "from sklearn.metrics import classification_report, confusion_matrix\n",
    "from sklearn.model_selection import RandomizedSearchCV\n",
    "from sklearn.pipeline import Pipeline\n",
    "from sklearn.preprocessing import StandardScaler   \n",
    "from sklearn.model_selection import GridSearchCV, RandomizedSearchCV\n",
    "from sklearn.model_selection import train_test_split\n",
    "from sklearn import metrics #Import scikit-learn metrics module for accuracy calculation\n",
    "import tensorflow as tf\n",
    "from tensorflow.keras.models import Sequential\n",
    "from tensorflow.keras.layers import Flatten #search\n",
    "from tensorflow.keras.layers import Dense\n",
    "from tensorflow.keras.layers import Activation\n",
    "\n"
   ]
  },
  {
   "cell_type": "code",
   "execution_count": 131,
   "metadata": {},
   "outputs": [],
   "source": [
    "train_data= pd.read_csv('C:\\\\Users\\\\HP\\\\Desktop\\\\data.csv')"
   ]
  },
  {
   "cell_type": "code",
   "execution_count": 132,
   "metadata": {},
   "outputs": [],
   "source": [
    "feature_cols=['location',\t'country' ,\t'gender' ,\t'age' ,\t'vis_wuhan',\t'from_wuhan',\t'symptom1'\t,'symptom2'\t,'symptom3'\t,'symptom4'\t,'symptom5'\t,'symptom6', 'diff_sym_hos'\n",
    "]\n",
    "x=train_data[feature_cols]\n",
    "y=train_data.result\n",
    "# Get 70% of the dataset as the training set. Put the remaining 30% in temporary variables: x_test and y_test.\n",
    "x_train, x_test, y_train, y_test = train_test_split(x, y, test_size=0.30, random_state=1)\n",
    "# Split the 30% subset above into two: one half for cross validation and the other for the test set\n",
    "x_validate, x_test, y_validate, y_test = train_test_split(x_test, y_test, test_size=0.50, random_state=1)"
   ]
  },
  {
   "attachments": {},
   "cell_type": "markdown",
   "metadata": {},
   "source": [
    "Trying Tensor Flow and tuning hyperparameters \n",
    "1. no. of units \n",
    "2. Activation function\n",
    "3. No of layers "
   ]
  },
  {
   "attachments": {},
   "cell_type": "markdown",
   "metadata": {},
   "source": [
    "1. trying to change in no. of units in each layer"
   ]
  },
  {
   "cell_type": "code",
   "execution_count": 133,
   "metadata": {},
   "outputs": [],
   "source": [
    "model = Sequential([\n",
    "     # dense layer 1\n",
    "    Dense(256, activation='sigmoid'),  \n",
    "    \n",
    "    # dense layer 2\n",
    "    Dense(128, activation='sigmoid'), \n",
    "    \n",
    "      # output layer\n",
    "    Dense(10, activation='sigmoid'),  \n",
    "])"
   ]
  },
  {
   "cell_type": "code",
   "execution_count": 134,
   "metadata": {},
   "outputs": [],
   "source": [
    "model.compile(optimizer='adam',\n",
    "              loss='sparse_categorical_crossentropy',\n",
    "              metrics=['accuracy'])"
   ]
  },
  {
   "cell_type": "code",
   "execution_count": 135,
   "metadata": {},
   "outputs": [
    {
     "name": "stderr",
     "output_type": "stream",
     "text": [
      "c:\\Users\\HP\\AppData\\Local\\Programs\\Python\\Python311\\Lib\\site-packages\\keras\\engine\\data_adapter.py:1700: FutureWarning: The behavior of `series[i:j]` with an integer-dtype index is deprecated. In a future version, this will be treated as *label-based* indexing, consistent with e.g. `series[i]` lookups. To retain the old behavior, use `series.iloc[i:j]`. To get the future behavior, use `series.loc[i:j]`.\n",
      "  return t[start:end]\n"
     ]
    },
    {
     "name": "stdout",
     "output_type": "stream",
     "text": [
      "Epoch 1/10\n",
      "1/1 [==============================] - 5s 5s/step - loss: 2.3392 - accuracy: 0.0000e+00 - val_loss: 1.9737 - val_accuracy: 0.1570\n",
      "Epoch 2/10\n",
      "1/1 [==============================] - 0s 184ms/step - loss: 1.8812 - accuracy: 0.1781 - val_loss: 1.5929 - val_accuracy: 0.8430\n",
      "Epoch 3/10\n",
      "1/1 [==============================] - 0s 187ms/step - loss: 1.4813 - accuracy: 0.8882 - val_loss: 1.2884 - val_accuracy: 0.8430\n",
      "Epoch 4/10\n",
      "1/1 [==============================] - 0s 229ms/step - loss: 1.1592 - accuracy: 0.8882 - val_loss: 1.0692 - val_accuracy: 0.8430\n",
      "Epoch 5/10\n",
      "1/1 [==============================] - 0s 138ms/step - loss: 0.9241 - accuracy: 0.8882 - val_loss: 0.9282 - val_accuracy: 0.8430\n",
      "Epoch 6/10\n",
      "1/1 [==============================] - 0s 92ms/step - loss: 0.7690 - accuracy: 0.8882 - val_loss: 0.8458 - val_accuracy: 0.8430\n",
      "Epoch 7/10\n",
      "1/1 [==============================] - 0s 82ms/step - loss: 0.6748 - accuracy: 0.8882 - val_loss: 0.8002 - val_accuracy: 0.8430\n",
      "Epoch 8/10\n",
      "1/1 [==============================] - 0s 68ms/step - loss: 0.6197 - accuracy: 0.8882 - val_loss: 0.7741 - val_accuracy: 0.8430\n",
      "Epoch 9/10\n",
      "1/1 [==============================] - 0s 78ms/step - loss: 0.5867 - accuracy: 0.8882 - val_loss: 0.7568 - val_accuracy: 0.8430\n",
      "Epoch 10/10\n",
      "1/1 [==============================] - 0s 94ms/step - loss: 0.5649 - accuracy: 0.8882 - val_loss: 0.7421 - val_accuracy: 0.8430\n"
     ]
    }
   ],
   "source": [
    "history= model.fit(x_train, y_train, epochs=10, \n",
    "          batch_size=2000, validation_split=0.2)"
   ]
  },
  {
   "cell_type": "code",
   "execution_count": 136,
   "metadata": {},
   "outputs": [
    {
     "name": "stdout",
     "output_type": "stream",
     "text": [
      "test loss, test acc: [0.537605345249176, 0.892307698726654]\n"
     ]
    }
   ],
   "source": [
    "results = model.evaluate(x_test,  y_test, verbose = 0)\n",
    "print('test loss, test acc:', results)"
   ]
  },
  {
   "cell_type": "code",
   "execution_count": 137,
   "metadata": {},
   "outputs": [
    {
     "name": "stdout",
     "output_type": "stream",
     "text": [
      "dict_keys(['loss', 'accuracy', 'val_loss', 'val_accuracy'])\n"
     ]
    },
    {
     "data": {
      "image/png": "[encoded data removed]",
      "text/plain": [
       "<Figure size 640x480 with 1 Axes>"
      ]
     },
     "metadata": {},
     "output_type": "display_data"
    }
   ],
   "source": [
    "\n",
    "print(history.history.keys())\n",
    "# summarize history for accuracy\n",
    "plt.plot(history.history[ 'accuracy' ])\n",
    "plt.plot(history.history[ 'val_accuracy' ])\n",
    "plt.title( 'model accuracy' )\n",
    "plt.ylabel( 'accuracy' )\n",
    "plt.xlabel( 'epoch' )\n",
    "plt.legend([ 'train' , 'test' ], loc= 'lower right' )\n",
    "plt.show()"
   ]
  },
  {
   "cell_type": "code",
   "execution_count": 138,
   "metadata": {},
   "outputs": [
    {
     "name": "stdout",
     "output_type": "stream",
     "text": [
      "dict_keys(['loss', 'accuracy', 'val_loss', 'val_accuracy'])\n"
     ]
    },
    {
     "data": {
      "image/png": "[encoded data removed]",
      "text/plain": [
       "<Figure size 640x480 with 1 Axes>"
      ]
     },
     "metadata": {},
     "output_type": "display_data"
    }
   ],
   "source": [
    "\n",
    "print(history.history.keys())\n",
    "# summarize history for accuracy\n",
    "plt.plot(history.history[ 'loss' ])\n",
    "plt.plot(history.history[ 'val_loss' ])\n",
    "plt.title( 'model loss' )\n",
    "plt.ylabel( 'loss' )\n",
    "plt.xlabel( 'epoch' )\n",
    "plt.legend([ 'train' , 'test' ], loc= 'upper left' )\n",
    "plt.show()"
   ]
  },
  {
   "attachments": {},
   "cell_type": "markdown",
   "metadata": {},
   "source": [
    "Adding more units"
   ]
  },
  {
   "cell_type": "code",
   "execution_count": 139,
   "metadata": {},
   "outputs": [],
   "source": [
    "model1 = Sequential([\n",
    "     # dense layer 1\n",
    "    Dense(300, activation='relu'),  \n",
    "    \n",
    "    # dense layer 2\n",
    "    Dense(150, activation='sigmoid'), \n",
    "    \n",
    "      # output layer\n",
    "    Dense(10, activation='sigmoid'),  \n",
    "])"
   ]
  },
  {
   "cell_type": "code",
   "execution_count": 140,
   "metadata": {},
   "outputs": [],
   "source": [
    "model1.compile(optimizer='adam',\n",
    "              loss='sparse_categorical_crossentropy',\n",
    "              metrics=['accuracy'])"
   ]
  },
  {
   "cell_type": "code",
   "execution_count": 141,
   "metadata": {},
   "outputs": [
    {
     "name": "stderr",
     "output_type": "stream",
     "text": [
      "c:\\Users\\HP\\AppData\\Local\\Programs\\Python\\Python311\\Lib\\site-packages\\keras\\engine\\data_adapter.py:1700: FutureWarning: The behavior of `series[i:j]` with an integer-dtype index is deprecated. In a future version, this will be treated as *label-based* indexing, consistent with e.g. `series[i]` lookups. To retain the old behavior, use `series.iloc[i:j]`. To get the future behavior, use `series.loc[i:j]`.\n",
      "  return t[start:end]\n"
     ]
    },
    {
     "name": "stdout",
     "output_type": "stream",
     "text": [
      "Epoch 1/10\n",
      "1/1 [==============================] - 3s 3s/step - loss: 1.0520 - accuracy: 0.8509 - val_loss: 0.7602 - val_accuracy: 0.8430\n",
      "Epoch 2/10\n",
      "1/1 [==============================] - 0s 94ms/step - loss: 0.6189 - accuracy: 0.8882 - val_loss: 0.6372 - val_accuracy: 0.8430\n",
      "Epoch 3/10\n",
      "1/1 [==============================] - 0s 80ms/step - loss: 0.4793 - accuracy: 0.8882 - val_loss: 0.5743 - val_accuracy: 0.8430\n",
      "Epoch 4/10\n",
      "1/1 [==============================] - 0s 72ms/step - loss: 0.4171 - accuracy: 0.8882 - val_loss: 0.5154 - val_accuracy: 0.8430\n",
      "Epoch 5/10\n",
      "1/1 [==============================] - 0s 64ms/step - loss: 0.3693 - accuracy: 0.8882 - val_loss: 0.4588 - val_accuracy: 0.8430\n",
      "Epoch 6/10\n",
      "1/1 [==============================] - 0s 70ms/step - loss: 0.3277 - accuracy: 0.8882 - val_loss: 0.4122 - val_accuracy: 0.8430\n",
      "Epoch 7/10\n",
      "1/1 [==============================] - 0s 65ms/step - loss: 0.2961 - accuracy: 0.8882 - val_loss: 0.3749 - val_accuracy: 0.8430\n",
      "Epoch 8/10\n",
      "1/1 [==============================] - 0s 63ms/step - loss: 0.2742 - accuracy: 0.8882 - val_loss: 0.3487 - val_accuracy: 0.8430\n",
      "Epoch 9/10\n",
      "1/1 [==============================] - 0s 68ms/step - loss: 0.2619 - accuracy: 0.8882 - val_loss: 0.3338 - val_accuracy: 0.8430\n",
      "Epoch 10/10\n",
      "1/1 [==============================] - 0s 64ms/step - loss: 0.2556 - accuracy: 0.8882 - val_loss: 0.3268 - val_accuracy: 0.8430\n"
     ]
    },
    {
     "data": {
      "text/plain": [
       "<keras.callbacks.History at 0x1d4f567b050>"
      ]
     },
     "execution_count": 141,
     "metadata": {},
     "output_type": "execute_result"
    }
   ],
   "source": [
    "model1.fit(x_train, y_train, epochs=10, \n",
    "          batch_size=2000, validation_split=0.2)"
   ]
  },
  {
   "cell_type": "code",
   "execution_count": 142,
   "metadata": {},
   "outputs": [
    {
     "name": "stdout",
     "output_type": "stream",
     "text": [
      "test loss, test acc: [0.2927559018135071, 0.892307698726654]\n"
     ]
    }
   ],
   "source": [
    "results_1 = model1.evaluate(x_test,  y_test, verbose = 0)\n",
    "print('test loss, test acc:', results_1)"
   ]
  },
  {
   "attachments": {},
   "cell_type": "markdown",
   "metadata": {},
   "source": [
    "Changing the optimizer to adagrad and adding one more dense layer"
   ]
  },
  {
   "cell_type": "code",
   "execution_count": 143,
   "metadata": {},
   "outputs": [],
   "source": [
    "model2 = Sequential([\n",
    "     # dense layer 1\n",
    "    Dense(300, activation='sigmoid'),  \n",
    "    \n",
    "    # dense layer 2\n",
    "    Dense(150, activation='sigmoid'), \n",
    "    \n",
    "    # dense layer 3\n",
    "    Dense(90, activation='sigmoid'), \n",
    "    \n",
    "      # output layer\n",
    "    Dense(10, activation='sigmoid')\n",
    "])"
   ]
  },
  {
   "cell_type": "code",
   "execution_count": 144,
   "metadata": {},
   "outputs": [],
   "source": [
    "model2.compile(optimizer='Adam',\n",
    "              loss='sparse_categorical_crossentropy',\n",
    "              metrics=['accuracy'])"
   ]
  },
  {
   "cell_type": "code",
   "execution_count": 145,
   "metadata": {},
   "outputs": [
    {
     "name": "stdout",
     "output_type": "stream",
     "text": [
      "Epoch 1/10\n"
     ]
    },
    {
     "name": "stderr",
     "output_type": "stream",
     "text": [
      "c:\\Users\\HP\\AppData\\Local\\Programs\\Python\\Python311\\Lib\\site-packages\\keras\\engine\\data_adapter.py:1700: FutureWarning: The behavior of `series[i:j]` with an integer-dtype index is deprecated. In a future version, this will be treated as *label-based* indexing, consistent with e.g. `series[i]` lookups. To retain the old behavior, use `series.iloc[i:j]`. To get the future behavior, use `series.loc[i:j]`.\n",
      "  return t[start:end]\n"
     ]
    },
    {
     "name": "stdout",
     "output_type": "stream",
     "text": [
      "1/1 [==============================] - 2s 2s/step - loss: 2.0999 - accuracy: 0.0000e+00 - val_loss: 1.8291 - val_accuracy: 0.8430\n",
      "Epoch 2/10\n",
      "1/1 [==============================] - 0s 66ms/step - loss: 1.7923 - accuracy: 0.8882 - val_loss: 1.5601 - val_accuracy: 0.8430\n",
      "Epoch 3/10\n",
      "1/1 [==============================] - 0s 64ms/step - loss: 1.5133 - accuracy: 0.8882 - val_loss: 1.3254 - val_accuracy: 0.8430\n",
      "Epoch 4/10\n",
      "1/1 [==============================] - 0s 66ms/step - loss: 1.2687 - accuracy: 0.8882 - val_loss: 1.1285 - val_accuracy: 0.8430\n",
      "Epoch 5/10\n",
      "1/1 [==============================] - 0s 65ms/step - loss: 1.0622 - accuracy: 0.8882 - val_loss: 0.9702 - val_accuracy: 0.8430\n",
      "Epoch 6/10\n",
      "1/1 [==============================] - 0s 67ms/step - loss: 0.8946 - accuracy: 0.8882 - val_loss: 0.8482 - val_accuracy: 0.8430\n",
      "Epoch 7/10\n",
      "1/1 [==============================] - 0s 66ms/step - loss: 0.7639 - accuracy: 0.8882 - val_loss: 0.7579 - val_accuracy: 0.8430\n",
      "Epoch 8/10\n",
      "1/1 [==============================] - 0s 66ms/step - loss: 0.6655 - accuracy: 0.8882 - val_loss: 0.6932 - val_accuracy: 0.8430\n",
      "Epoch 9/10\n",
      "1/1 [==============================] - 0s 147ms/step - loss: 0.5935 - accuracy: 0.8882 - val_loss: 0.6479 - val_accuracy: 0.8430\n",
      "Epoch 10/10\n",
      "1/1 [==============================] - 0s 53ms/step - loss: 0.5418 - accuracy: 0.8882 - val_loss: 0.6166 - val_accuracy: 0.8430\n"
     ]
    },
    {
     "data": {
      "text/plain": [
       "<keras.callbacks.History at 0x1d4f5850810>"
      ]
     },
     "execution_count": 145,
     "metadata": {},
     "output_type": "execute_result"
    }
   ],
   "source": [
    "model2.fit(x_train, y_train, epochs=10, \n",
    "          batch_size=2000, validation_split=0.2)"
   ]
  },
  {
   "cell_type": "code",
   "execution_count": 146,
   "metadata": {},
   "outputs": [
    {
     "name": "stdout",
     "output_type": "stream",
     "text": [
      "test loss, test acc: [0.4953577518463135, 0.892307698726654]\n"
     ]
    }
   ],
   "source": [
    "results_2 = model2.evaluate(x_test,  y_test, verbose = 0)\n",
    "print('test loss, test acc:', results_2)"
   ]
  },
  {
   "attachments": {},
   "cell_type": "markdown",
   "metadata": {},
   "source": [
    "Trying activation function linear"
   ]
  },
  {
   "attachments": {},
   "cell_type": "markdown",
   "metadata": {},
   "source": [
    "Change in the activation function , make the first layer linear activation function"
   ]
  },
  {
   "cell_type": "code",
   "execution_count": 147,
   "metadata": {},
   "outputs": [],
   "source": [
    "model3 = Sequential([\n",
    "     # dense layer 1\n",
    "    Dense(300, activation='linear'),  \n",
    "    \n",
    "    # dense layer 2\n",
    "    Dense(150, activation='sigmoid'), \n",
    "  \n",
    "    \n",
    "      # output layer\n",
    "    Dense(10, activation='sigmoid')\n",
    "])"
   ]
  },
  {
   "cell_type": "code",
   "execution_count": 148,
   "metadata": {},
   "outputs": [],
   "source": [
    "model3.compile(optimizer='Adam',\n",
    "              loss='sparse_categorical_crossentropy',\n",
    "              metrics=['accuracy'])"
   ]
  },
  {
   "cell_type": "code",
   "execution_count": 149,
   "metadata": {},
   "outputs": [
    {
     "name": "stdout",
     "output_type": "stream",
     "text": [
      "Epoch 1/10\n"
     ]
    },
    {
     "name": "stderr",
     "output_type": "stream",
     "text": [
      "c:\\Users\\HP\\AppData\\Local\\Programs\\Python\\Python311\\Lib\\site-packages\\keras\\engine\\data_adapter.py:1700: FutureWarning: The behavior of `series[i:j]` with an integer-dtype index is deprecated. In a future version, this will be treated as *label-based* indexing, consistent with e.g. `series[i]` lookups. To retain the old behavior, use `series.iloc[i:j]`. To get the future behavior, use `series.loc[i:j]`.\n",
      "  return t[start:end]\n"
     ]
    },
    {
     "name": "stdout",
     "output_type": "stream",
     "text": [
      "1/1 [==============================] - 2s 2s/step - loss: 2.5168 - accuracy: 0.0000e+00 - val_loss: 1.4138 - val_accuracy: 0.3554\n",
      "Epoch 2/10\n",
      "1/1 [==============================] - 0s 125ms/step - loss: 1.3713 - accuracy: 0.4079 - val_loss: 0.7915 - val_accuracy: 0.8430\n",
      "Epoch 3/10\n",
      "1/1 [==============================] - 0s 161ms/step - loss: 0.7229 - accuracy: 0.8882 - val_loss: 0.5916 - val_accuracy: 0.8430\n",
      "Epoch 4/10\n",
      "1/1 [==============================] - 0s 121ms/step - loss: 0.4836 - accuracy: 0.8882 - val_loss: 0.5531 - val_accuracy: 0.8430\n",
      "Epoch 5/10\n",
      "1/1 [==============================] - 0s 125ms/step - loss: 0.4227 - accuracy: 0.8882 - val_loss: 0.5361 - val_accuracy: 0.8430\n",
      "Epoch 6/10\n",
      "1/1 [==============================] - 0s 110ms/step - loss: 0.3960 - accuracy: 0.8882 - val_loss: 0.4975 - val_accuracy: 0.8430\n",
      "Epoch 7/10\n",
      "1/1 [==============================] - 0s 62ms/step - loss: 0.3625 - accuracy: 0.8882 - val_loss: 0.4580 - val_accuracy: 0.8430\n",
      "Epoch 8/10\n",
      "1/1 [==============================] - 0s 64ms/step - loss: 0.3363 - accuracy: 0.8882 - val_loss: 0.4337 - val_accuracy: 0.8430\n",
      "Epoch 9/10\n",
      "1/1 [==============================] - 0s 65ms/step - loss: 0.3192 - accuracy: 0.8882 - val_loss: 0.4166 - val_accuracy: 0.8430\n",
      "Epoch 10/10\n",
      "1/1 [==============================] - 0s 64ms/step - loss: 0.3054 - accuracy: 0.8882 - val_loss: 0.4017 - val_accuracy: 0.8430\n"
     ]
    },
    {
     "data": {
      "text/plain": [
       "<keras.callbacks.History at 0x1d4f6ad97d0>"
      ]
     },
     "execution_count": 149,
     "metadata": {},
     "output_type": "execute_result"
    }
   ],
   "source": [
    "model3.fit(x_train, y_train, epochs=10, \n",
    "          batch_size=2000, validation_split=0.2)"
   ]
  },
  {
   "cell_type": "code",
   "execution_count": 150,
   "metadata": {},
   "outputs": [
    {
     "name": "stdout",
     "output_type": "stream",
     "text": [
      "test loss, test acc: [0.32903146743774414, 0.892307698726654]\n"
     ]
    }
   ],
   "source": [
    "results_3 = model3.evaluate(x_test,  y_test, verbose = 0)\n",
    "print('test loss, test acc:', results_3)"
   ]
  },
  {
   "cell_type": "code",
   "execution_count": 151,
   "metadata": {},
   "outputs": [],
   "source": [
    "model4 = Sequential([\n",
    "     # dense layer 1\n",
    "    Dense(300, activation='linear'),  \n",
    "    \n",
    "    # dense layer 2\n",
    "    Dense(150, activation='sigmoid'), \n",
    "  \n",
    "    \n",
    "      # output layer\n",
    "    Dense(10, activation='sigmoid')\n",
    "])"
   ]
  },
  {
   "cell_type": "code",
   "execution_count": 152,
   "metadata": {},
   "outputs": [],
   "source": [
    "model4.compile(optimizer='Adagrad',\n",
    "              loss='sparse_categorical_crossentropy',\n",
    "              metrics=['accuracy'])"
   ]
  },
  {
   "cell_type": "code",
   "execution_count": 153,
   "metadata": {},
   "outputs": [
    {
     "name": "stdout",
     "output_type": "stream",
     "text": [
      "Epoch 1/10\n"
     ]
    },
    {
     "name": "stderr",
     "output_type": "stream",
     "text": [
      "c:\\Users\\HP\\AppData\\Local\\Programs\\Python\\Python311\\Lib\\site-packages\\keras\\engine\\data_adapter.py:1700: FutureWarning: The behavior of `series[i:j]` with an integer-dtype index is deprecated. In a future version, this will be treated as *label-based* indexing, consistent with e.g. `series[i]` lookups. To retain the old behavior, use `series.iloc[i:j]`. To get the future behavior, use `series.loc[i:j]`.\n",
      "  return t[start:end]\n"
     ]
    },
    {
     "name": "stdout",
     "output_type": "stream",
     "text": [
      "1/1 [==============================] - 14s 14s/step - loss: 4.0117 - accuracy: 0.0000e+00 - val_loss: 3.3591 - val_accuracy: 0.0083\n",
      "Epoch 2/10\n",
      "1/1 [==============================] - 0s 156ms/step - loss: 3.4453 - accuracy: 0.0000e+00 - val_loss: 2.9208 - val_accuracy: 0.0165\n",
      "Epoch 3/10\n",
      "1/1 [==============================] - 0s 153ms/step - loss: 2.9979 - accuracy: 0.0021 - val_loss: 2.5834 - val_accuracy: 0.0413\n",
      "Epoch 4/10\n",
      "1/1 [==============================] - 0s 170ms/step - loss: 2.6520 - accuracy: 0.0041 - val_loss: 2.2856 - val_accuracy: 0.0331\n",
      "Epoch 5/10\n",
      "1/1 [==============================] - 0s 163ms/step - loss: 2.3448 - accuracy: 0.0021 - val_loss: 2.0660 - val_accuracy: 0.2810\n",
      "Epoch 6/10\n",
      "1/1 [==============================] - 0s 95ms/step - loss: 2.1127 - accuracy: 0.2712 - val_loss: 1.8831 - val_accuracy: 0.5950\n",
      "Epoch 7/10\n",
      "1/1 [==============================] - 0s 47ms/step - loss: 1.9203 - accuracy: 0.5673 - val_loss: 1.7307 - val_accuracy: 0.7025\n",
      "Epoch 8/10\n",
      "1/1 [==============================] - 0s 45ms/step - loss: 1.7582 - accuracy: 0.6998 - val_loss: 1.6151 - val_accuracy: 0.7190\n",
      "Epoch 9/10\n",
      "1/1 [==============================] - 0s 45ms/step - loss: 1.6326 - accuracy: 0.7267 - val_loss: 1.5139 - val_accuracy: 0.7273\n",
      "Epoch 10/10\n",
      "1/1 [==============================] - 0s 46ms/step - loss: 1.5225 - accuracy: 0.7453 - val_loss: 1.4193 - val_accuracy: 0.7438\n"
     ]
    },
    {
     "data": {
      "text/plain": [
       "<keras.callbacks.History at 0x1d4f6d23850>"
      ]
     },
     "execution_count": 153,
     "metadata": {},
     "output_type": "execute_result"
    }
   ],
   "source": [
    "model4.fit(x_train, y_train, epochs=10, \n",
    "          batch_size=2000, validation_split=0.2)"
   ]
  },
  {
   "cell_type": "code",
   "execution_count": 154,
   "metadata": {},
   "outputs": [
    {
     "name": "stdout",
     "output_type": "stream",
     "text": [
      "test loss, test acc: [1.4360381364822388, 0.7615384459495544]\n"
     ]
    }
   ],
   "source": [
    "results_4 = model4.evaluate(x_test,  y_test, verbose = 0)\n",
    "print('test loss, test acc:', results_4)"
   ]
  },
  {
   "cell_type": "code",
   "execution_count": 155,
   "metadata": {},
   "outputs": [],
   "source": [
    "from sklearn.model_selection import cross_val_score\n",
    "from keras.models import Sequential\n",
    "from keras.layers import Dense, BatchNormalization, Dropout\n",
    "from keras.optimizers import Adam, SGD, RMSprop, Adadelta, Adagrad, Adamax, Nadam, Ftrl\n",
    "from keras.callbacks import EarlyStopping, ModelCheckpoint\n",
    "from keras.wrappers.scikit_learn import KerasClassifier\n",
    "from math import floor\n",
    "from sklearn.metrics import make_scorer, accuracy_score\n",
    "from bayes_opt import BayesianOptimization\n",
    "from sklearn.model_selection import StratifiedKFold\n",
    "from keras.layers import LeakyReLU\n",
    "LeakyReLU = LeakyReLU(alpha=0.1)\n",
    "# Make scorer accuracy\n",
    "score_acc = make_scorer(accuracy_score)\n"
   ]
  },
  {
   "cell_type": "code",
   "execution_count": 156,
   "metadata": {},
   "outputs": [],
   "source": [
    "def nn_cl_bo(neurons, activation, optimizer, learning_rate,  batch_size, epochs ):\n",
    "    optimizerL = ['SGD', 'Adam', 'RMSprop', 'Adadelta', 'Adagrad', 'Adamax', 'Nadam', 'Ftrl','SGD']\n",
    "    optimizerD= {'Adam':Adam(lr=learning_rate), 'SGD':SGD(lr=learning_rate),\n",
    "                 'RMSprop':RMSprop(lr=learning_rate), 'Adadelta':Adadelta(lr=learning_rate),\n",
    "                 'Adagrad':Adagrad(lr=learning_rate), 'Adamax':Adamax(lr=learning_rate),\n",
    "                 'Nadam':Nadam(lr=learning_rate), 'Ftrl':Ftrl(lr=learning_rate)}\n",
    "    activationL = ['relu', 'sigmoid', 'softplus', 'softsign', 'tanh', 'selu',\n",
    "                   'elu', 'exponential', LeakyReLU,'relu']\n",
    "    neurons = round(neurons)\n",
    "    activation = activationL[round(activation)]\n",
    "    batch_size = round(batch_size)\n",
    "    epochs = round(epochs)\n",
    "    def nn_cl_fun():\n",
    "        opt = Adam(lr = learning_rate)\n",
    "        nn = Sequential()\n",
    "        nn.add(Dense(neurons, input_dim=10, activation=activation))\n",
    "        nn.add(Dense(neurons, activation=activation))\n",
    "        nn.add(Dense(1, activation='sigmoid'))\n",
    "        nn.compile(loss='binary_crossentropy', optimizer=opt, metrics=['accuracy'])\n",
    "        return nn\n",
    "    es = EarlyStopping(monitor='accuracy', mode='max', verbose=0, patience=20)\n",
    "    nn = KerasClassifier(build_fn=nn_cl_fun, epochs=epochs, batch_size=batch_size,\n",
    "                         verbose=0)\n",
    "    kfold = StratifiedKFold(n_splits=5, shuffle=True, random_state=123)\n",
    "    score = cross_val_score(nn, x_train, y_train, scoring=score_acc, cv=kfold, fit_params={'callbacks':[es]}).mean()\n",
    "    return score"
   ]
  },
  {
   "cell_type": "code",
   "execution_count": 157,
   "metadata": {},
   "outputs": [],
   "source": [
    "# Set paramaters\n",
    "params_nn ={\n",
    "    'neurons': (10, 100),\n",
    "    'activation':(0, 9),\n",
    "    'optimizer':(0,7),\n",
    "    'learning_rate':(0.01, 1),\n",
    "    'batch_size':(200, 1000),\n",
    "    'epochs':(20, 100)\n",
    "}\n",
    "# Run Bayesian Optimization\n",
    "nn_bo = BayesianOptimization(nn_cl_bo, params_nn, random_state=111)\n",
    "#nn_bo.maximize(init_points=25, n_iter=4)"
   ]
  },
  {
   "cell_type": "code",
   "execution_count": 158,
   "metadata": {},
   "outputs": [],
   "source": [
    "#params_nn_ = nn_bo.max['params']\n",
    "#activationL = ['relu', 'sigmoid', 'softplus', 'softsign', 'tanh', 'selu',\n",
    "#              'elu', 'exponential', LeakyReLU,'relu']\n",
    "#params_nn_['activation'] = activationL[round(params_nn_['activation'])]\n",
    "#params_nn_"
   ]
  },
  {
   "attachments": {},
   "cell_type": "markdown",
   "metadata": {},
   "source": [
    "Trying to find the inner node values"
   ]
  },
  {
   "cell_type": "code",
   "execution_count": 159,
   "metadata": {},
   "outputs": [],
   "source": [
    "def FindLayerNodesLinear(n_layers, first_layer_nodes, last_layer_nodes): # values inside hidden layer nodes\n",
    "    layers = []\n",
    "    \n",
    "    nodes_increment = (last_layer_nodes - first_layer_nodes)/ (n_layers-1)\n",
    "    nodes = first_layer_nodes\n",
    "    for i in range(1, n_layers+1):\n",
    "        layers.append(math.ceil(nodes))\n",
    "        nodes = nodes + nodes_increment\n",
    "    \n",
    "    return layers"
   ]
  },
  {
   "cell_type": "code",
   "execution_count": 160,
   "metadata": {},
   "outputs": [
    {
     "data": {
      "text/plain": [
       "[50, 40, 30, 20, 10]"
      ]
     },
     "execution_count": 160,
     "metadata": {},
     "output_type": "execute_result"
    }
   ],
   "source": [
    "FindLayerNodesLinear(5, 50, 10)"
   ]
  }
 ],
 "metadata": {
  "kernelspec": {
   "display_name": "Python 3",
   "language": "python",
   "name": "python3"
  },
  "language_info": {
   "codemirror_mode": {
    "name": "ipython",
    "version": 3
   },
   "file_extension": ".py",
   "mimetype": "text/x-python",
   "name": "python",
   "nbconvert_exporter": "python",
   "pygments_lexer": "ipython3",
   "version": "3.11.1"
  },
  "orig_nbformat": 4
 },
 "nbformat": 4,
 "nbformat_minor": 2
}
