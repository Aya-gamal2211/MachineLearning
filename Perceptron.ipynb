{
 "cells": [
  {
   "cell_type": "code",
   "execution_count": 83,
   "metadata": {},
   "outputs": [],
   "source": [
    "import numpy as np\n",
    "import seaborn as sns\n",
    "import pandas as pd\n",
    "import matplotlib.pyplot as plt\n",
    "from sklearn.model_selection import KFold\n",
    "from sklearn.svm import SVC\n",
    "from sklearn.metrics import classification_report, confusion_matrix\n",
    "from sklearn.model_selection import RandomizedSearchCV\n",
    "from sklearn.pipeline import Pipeline\n",
    "from sklearn.preprocessing import StandardScaler   \n",
    "from sklearn.model_selection import train_test_split\n",
    "from sklearn import metrics #Import scikit-learn metrics module for accuracy calculation\n",
    "import tensorflow as tf\n",
    "import numpy as np\n",
    "from tensorflow.keras.models import Sequential\n",
    "from tensorflow.keras.layers import Flatten #search\n",
    "from tensorflow.keras.layers import Dense\n",
    "from tensorflow.keras.layers import Activation\n",
    "from sklearn.model_selection import GridSearchCV, RandomizedSearchCV\n",
    "import math\n",
    "import matplotlib.pyplot as plt"
   ]
  },
  {
   "cell_type": "code",
   "execution_count": 84,
   "metadata": {},
   "outputs": [],
   "source": [
    "train_data= pd.read_csv('C:\\\\Users\\\\HP\\\\Desktop\\\\data.csv')"
   ]
  },
  {
   "cell_type": "code",
   "execution_count": 85,
   "metadata": {},
   "outputs": [],
   "source": [
    "feature_cols=['location',\t'country' ,\t'gender' ,\t'age' ,\t'vis_wuhan',\t'from_wuhan',\t'symptom1'\t,'symptom2'\t,'symptom3'\t,'symptom4'\t,'symptom5'\t,'symptom6', 'diff_sym_hos'\n",
    "]\n",
    "x=train_data[feature_cols]\n",
    "y=train_data.result\n",
    "# Get 70% of the dataset as the training set. Put the remaining 30% in temporary variables: x_test and y_test.\n",
    "x_train, x_test, y_train, y_test = train_test_split(x, y, test_size=0.30, random_state=1)\n",
    "# Split the 30% subset above into two: one half for cross validation and the other for the test set\n",
    "x_validate, x_test, y_validate, y_test = train_test_split(x_test, y_test, test_size=0.50, random_state=1)"
   ]
  },
  {
   "attachments": {},
   "cell_type": "markdown",
   "metadata": {},
   "source": [
    "Trying Tensor Flow and tuning hyperparameters \n",
    "1. no. of units \n",
    "2. Activation function\n",
    "3. No of layers "
   ]
  },
  {
   "attachments": {},
   "cell_type": "markdown",
   "metadata": {},
   "source": [
    "1. trying to change in no. of units in each layer"
   ]
  },
  {
   "cell_type": "code",
   "execution_count": 86,
   "metadata": {},
   "outputs": [],
   "source": [
    "model = Sequential([\n",
    "     # dense layer 1\n",
    "    Dense(256, activation='sigmoid'),  \n",
    "    \n",
    "    # dense layer 2\n",
    "    Dense(128, activation='sigmoid'), \n",
    "    \n",
    "      # output layer\n",
    "    Dense(10, activation='sigmoid'),  \n",
    "])"
   ]
  },
  {
   "cell_type": "code",
   "execution_count": 87,
   "metadata": {},
   "outputs": [],
   "source": [
    "model.compile(optimizer='adam',\n",
    "              loss='sparse_categorical_crossentropy',\n",
    "              metrics=['accuracy'])"
   ]
  },
  {
   "cell_type": "code",
   "execution_count": 88,
   "metadata": {},
   "outputs": [
    {
     "name": "stdout",
     "output_type": "stream",
     "text": [
      "Epoch 1/10\n"
     ]
    },
    {
     "name": "stderr",
     "output_type": "stream",
     "text": [
      "c:\\Users\\HP\\AppData\\Local\\Programs\\Python\\Python311\\Lib\\site-packages\\keras\\engine\\data_adapter.py:1700: FutureWarning: The behavior of `series[i:j]` with an integer-dtype index is deprecated. In a future version, this will be treated as *label-based* indexing, consistent with e.g. `series[i]` lookups. To retain the old behavior, use `series.iloc[i:j]`. To get the future behavior, use `series.loc[i:j]`.\n",
      "  return t[start:end]\n"
     ]
    },
    {
     "name": "stdout",
     "output_type": "stream",
     "text": [
      "1/1 [==============================] - 4s 4s/step - loss: 2.5074 - accuracy: 0.0000e+00 - val_loss: 2.0682 - val_accuracy: 0.0000e+00\n",
      "Epoch 2/10\n",
      "1/1 [==============================] - 0s 63ms/step - loss: 2.0403 - accuracy: 0.0000e+00 - val_loss: 1.6700 - val_accuracy: 0.1736\n",
      "Epoch 3/10\n",
      "1/1 [==============================] - 0s 55ms/step - loss: 1.6258 - accuracy: 0.1739 - val_loss: 1.3369 - val_accuracy: 0.8430\n",
      "Epoch 4/10\n",
      "1/1 [==============================] - 0s 62ms/step - loss: 1.2771 - accuracy: 0.8882 - val_loss: 1.0770 - val_accuracy: 0.8430\n",
      "Epoch 5/10\n",
      "1/1 [==============================] - 0s 65ms/step - loss: 1.0026 - accuracy: 0.8882 - val_loss: 0.8892 - val_accuracy: 0.8430\n",
      "Epoch 6/10\n",
      "1/1 [==============================] - 0s 84ms/step - loss: 0.8014 - accuracy: 0.8882 - val_loss: 0.7632 - val_accuracy: 0.8430\n",
      "Epoch 7/10\n",
      "1/1 [==============================] - 0s 167ms/step - loss: 0.6635 - accuracy: 0.8882 - val_loss: 0.6838 - val_accuracy: 0.8430\n",
      "Epoch 8/10\n",
      "1/1 [==============================] - 0s 136ms/step - loss: 0.5737 - accuracy: 0.8882 - val_loss: 0.6357 - val_accuracy: 0.8430\n",
      "Epoch 9/10\n",
      "1/1 [==============================] - 0s 147ms/step - loss: 0.5169 - accuracy: 0.8882 - val_loss: 0.6067 - val_accuracy: 0.8430\n",
      "Epoch 10/10\n",
      "1/1 [==============================] - 0s 146ms/step - loss: 0.4809 - accuracy: 0.8882 - val_loss: 0.5883 - val_accuracy: 0.8430\n"
     ]
    },
    {
     "data": {
      "text/plain": [
       "<keras.callbacks.History at 0x1d4eefaf4d0>"
      ]
     },
     "execution_count": 88,
     "metadata": {},
     "output_type": "execute_result"
    }
   ],
   "source": [
    "model.fit(x_train, y_train, epochs=10, \n",
    "          batch_size=2000, validation_split=0.2)"
   ]
  },
  {
   "cell_type": "code",
   "execution_count": 89,
   "metadata": {},
   "outputs": [
    {
     "name": "stdout",
     "output_type": "stream",
     "text": [
      "test loss, test acc: [0.45069754123687744, 0.892307698726654]\n"
     ]
    }
   ],
   "source": [
    "results = model.evaluate(x_test,  y_test, verbose = 0)\n",
    "print('test loss, test acc:', results)"
   ]
  },
  {
   "attachments": {},
   "cell_type": "markdown",
   "metadata": {},
   "source": [
    "Adding more units"
   ]
  },
  {
   "cell_type": "code",
   "execution_count": 90,
   "metadata": {},
   "outputs": [],
   "source": [
    "model1 = Sequential([\n",
    "     # dense layer 1\n",
    "    Dense(300, activation='relu'),  \n",
    "    \n",
    "    # dense layer 2\n",
    "    Dense(150, activation='sigmoid'), \n",
    "    \n",
    "      # output layer\n",
    "    Dense(10, activation='sigmoid'),  \n",
    "])"
   ]
  },
  {
   "cell_type": "code",
   "execution_count": 91,
   "metadata": {},
   "outputs": [],
   "source": [
    "model1.compile(optimizer='adam',\n",
    "              loss='sparse_categorical_crossentropy',\n",
    "              metrics=['accuracy'])"
   ]
  },
  {
   "cell_type": "code",
   "execution_count": 92,
   "metadata": {},
   "outputs": [
    {
     "name": "stderr",
     "output_type": "stream",
     "text": [
      "c:\\Users\\HP\\AppData\\Local\\Programs\\Python\\Python311\\Lib\\site-packages\\keras\\engine\\data_adapter.py:1700: FutureWarning: The behavior of `series[i:j]` with an integer-dtype index is deprecated. In a future version, this will be treated as *label-based* indexing, consistent with e.g. `series[i]` lookups. To retain the old behavior, use `series.iloc[i:j]`. To get the future behavior, use `series.loc[i:j]`.\n",
      "  return t[start:end]\n"
     ]
    },
    {
     "name": "stdout",
     "output_type": "stream",
     "text": [
      "Epoch 1/10\n",
      "1/1 [==============================] - 3s 3s/step - loss: 3.1008 - accuracy: 0.0000e+00 - val_loss: 1.9963 - val_accuracy: 0.1488\n",
      "Epoch 2/10\n",
      "1/1 [==============================] - 0s 282ms/step - loss: 1.9971 - accuracy: 0.1346 - val_loss: 1.1509 - val_accuracy: 0.8430\n",
      "Epoch 3/10\n",
      "1/1 [==============================] - 0s 144ms/step - loss: 1.1034 - accuracy: 0.8882 - val_loss: 0.7318 - val_accuracy: 0.8430\n",
      "Epoch 4/10\n",
      "1/1 [==============================] - 0s 91ms/step - loss: 0.6309 - accuracy: 0.8882 - val_loss: 0.6188 - val_accuracy: 0.8430\n",
      "Epoch 5/10\n",
      "1/1 [==============================] - 0s 77ms/step - loss: 0.4788 - accuracy: 0.8882 - val_loss: 0.6104 - val_accuracy: 0.8430\n",
      "Epoch 6/10\n",
      "1/1 [==============================] - 0s 65ms/step - loss: 0.4483 - accuracy: 0.8882 - val_loss: 0.6157 - val_accuracy: 0.8430\n",
      "Epoch 7/10\n",
      "1/1 [==============================] - 0s 67ms/step - loss: 0.4420 - accuracy: 0.8882 - val_loss: 0.6123 - val_accuracy: 0.8430\n",
      "Epoch 8/10\n",
      "1/1 [==============================] - 0s 58ms/step - loss: 0.4342 - accuracy: 0.8882 - val_loss: 0.5980 - val_accuracy: 0.8430\n",
      "Epoch 9/10\n",
      "1/1 [==============================] - 0s 65ms/step - loss: 0.4205 - accuracy: 0.8882 - val_loss: 0.5746 - val_accuracy: 0.8430\n",
      "Epoch 10/10\n",
      "1/1 [==============================] - 0s 72ms/step - loss: 0.4014 - accuracy: 0.8882 - val_loss: 0.5460 - val_accuracy: 0.8430\n"
     ]
    },
    {
     "data": {
      "text/plain": [
       "<keras.callbacks.History at 0x1d4ef111210>"
      ]
     },
     "execution_count": 92,
     "metadata": {},
     "output_type": "execute_result"
    }
   ],
   "source": [
    "model1.fit(x_train, y_train, epochs=10, \n",
    "          batch_size=2000, validation_split=0.2)"
   ]
  },
  {
   "cell_type": "code",
   "execution_count": 93,
   "metadata": {},
   "outputs": [
    {
     "name": "stdout",
     "output_type": "stream",
     "text": [
      "test loss, test acc: [0.4023447334766388, 0.892307698726654]\n"
     ]
    }
   ],
   "source": [
    "results_1 = model1.evaluate(x_test,  y_test, verbose = 0)\n",
    "print('test loss, test acc:', results_1)"
   ]
  },
  {
   "attachments": {},
   "cell_type": "markdown",
   "metadata": {},
   "source": [
    "Changing the optimizer to adagrad and adding one more dense layer"
   ]
  },
  {
   "cell_type": "code",
   "execution_count": 94,
   "metadata": {},
   "outputs": [],
   "source": [
    "model2 = Sequential([\n",
    "     # dense layer 1\n",
    "    Dense(300, activation='sigmoid'),  \n",
    "    \n",
    "    # dense layer 2\n",
    "    Dense(150, activation='sigmoid'), \n",
    "    \n",
    "    # dense layer 3\n",
    "    Dense(90, activation='sigmoid'), \n",
    "    \n",
    "      # output layer\n",
    "    Dense(10, activation='sigmoid')\n",
    "])"
   ]
  },
  {
   "cell_type": "code",
   "execution_count": 95,
   "metadata": {},
   "outputs": [],
   "source": [
    "model2.compile(optimizer='Adam',\n",
    "              loss='sparse_categorical_crossentropy',\n",
    "              metrics=['accuracy'])"
   ]
  },
  {
   "cell_type": "code",
   "execution_count": 96,
   "metadata": {},
   "outputs": [
    {
     "name": "stderr",
     "output_type": "stream",
     "text": [
      "c:\\Users\\HP\\AppData\\Local\\Programs\\Python\\Python311\\Lib\\site-packages\\keras\\engine\\data_adapter.py:1700: FutureWarning: The behavior of `series[i:j]` with an integer-dtype index is deprecated. In a future version, this will be treated as *label-based* indexing, consistent with e.g. `series[i]` lookups. To retain the old behavior, use `series.iloc[i:j]`. To get the future behavior, use `series.loc[i:j]`.\n",
      "  return t[start:end]\n"
     ]
    },
    {
     "name": "stdout",
     "output_type": "stream",
     "text": [
      "Epoch 1/10\n",
      "1/1 [==============================] - 4s 4s/step - loss: 2.6608 - accuracy: 0.0000e+00 - val_loss: 2.3160 - val_accuracy: 0.0000e+00\n",
      "Epoch 2/10\n",
      "1/1 [==============================] - 0s 126ms/step - loss: 2.3291 - accuracy: 0.0000e+00 - val_loss: 2.0191 - val_accuracy: 0.0000e+00\n",
      "Epoch 3/10\n",
      "1/1 [==============================] - 0s 101ms/step - loss: 2.0158 - accuracy: 0.0000e+00 - val_loss: 1.7464 - val_accuracy: 0.8430\n",
      "Epoch 4/10\n",
      "1/1 [==============================] - 0s 116ms/step - loss: 1.7273 - accuracy: 0.8882 - val_loss: 1.5033 - val_accuracy: 0.8430\n",
      "Epoch 5/10\n",
      "1/1 [==============================] - 0s 94ms/step - loss: 1.4688 - accuracy: 0.8882 - val_loss: 1.2938 - val_accuracy: 0.8430\n",
      "Epoch 6/10\n",
      "1/1 [==============================] - 0s 78ms/step - loss: 1.2446 - accuracy: 0.8882 - val_loss: 1.1197 - val_accuracy: 0.8430\n",
      "Epoch 7/10\n",
      "1/1 [==============================] - 0s 110ms/step - loss: 1.0567 - accuracy: 0.8882 - val_loss: 0.9801 - val_accuracy: 0.8430\n",
      "Epoch 8/10\n",
      "1/1 [==============================] - 0s 128ms/step - loss: 0.9045 - accuracy: 0.8882 - val_loss: 0.8716 - val_accuracy: 0.8430\n",
      "Epoch 9/10\n",
      "1/1 [==============================] - 0s 89ms/step - loss: 0.7850 - accuracy: 0.8882 - val_loss: 0.7898 - val_accuracy: 0.8430\n",
      "Epoch 10/10\n",
      "1/1 [==============================] - 0s 71ms/step - loss: 0.6936 - accuracy: 0.8882 - val_loss: 0.7295 - val_accuracy: 0.8430\n"
     ]
    },
    {
     "data": {
      "text/plain": [
       "<keras.callbacks.History at 0x1d4ef114990>"
      ]
     },
     "execution_count": 96,
     "metadata": {},
     "output_type": "execute_result"
    }
   ],
   "source": [
    "model2.fit(x_train, y_train, epochs=10, \n",
    "          batch_size=2000, validation_split=0.2)"
   ]
  },
  {
   "cell_type": "code",
   "execution_count": 97,
   "metadata": {},
   "outputs": [
    {
     "name": "stdout",
     "output_type": "stream",
     "text": [
      "test loss, test acc: [0.6165450215339661, 0.892307698726654]\n"
     ]
    }
   ],
   "source": [
    "results_2 = model2.evaluate(x_test,  y_test, verbose = 0)\n",
    "print('test loss, test acc:', results_2)"
   ]
  },
  {
   "attachments": {},
   "cell_type": "markdown",
   "metadata": {},
   "source": [
    "Trying activation function linear"
   ]
  },
  {
   "attachments": {},
   "cell_type": "markdown",
   "metadata": {},
   "source": [
    "Change in the activation function , make the first layer linear activation function"
   ]
  },
  {
   "cell_type": "code",
   "execution_count": 98,
   "metadata": {},
   "outputs": [],
   "source": [
    "model3 = Sequential([\n",
    "     # dense layer 1\n",
    "    Dense(300, activation='linear'),  \n",
    "    \n",
    "    # dense layer 2\n",
    "    Dense(150, activation='sigmoid'), \n",
    "  \n",
    "    \n",
    "      # output layer\n",
    "    Dense(10, activation='sigmoid')\n",
    "])"
   ]
  },
  {
   "cell_type": "code",
   "execution_count": 99,
   "metadata": {},
   "outputs": [],
   "source": [
    "model3.compile(optimizer='Adam',\n",
    "              loss='sparse_categorical_crossentropy',\n",
    "              metrics=['accuracy'])"
   ]
  },
  {
   "cell_type": "code",
   "execution_count": 100,
   "metadata": {},
   "outputs": [
    {
     "name": "stdout",
     "output_type": "stream",
     "text": [
      "Epoch 1/10\n"
     ]
    },
    {
     "name": "stderr",
     "output_type": "stream",
     "text": [
      "c:\\Users\\HP\\AppData\\Local\\Programs\\Python\\Python311\\Lib\\site-packages\\keras\\engine\\data_adapter.py:1700: FutureWarning: The behavior of `series[i:j]` with an integer-dtype index is deprecated. In a future version, this will be treated as *label-based* indexing, consistent with e.g. `series[i]` lookups. To retain the old behavior, use `series.iloc[i:j]`. To get the future behavior, use `series.loc[i:j]`.\n",
      "  return t[start:end]\n"
     ]
    },
    {
     "name": "stdout",
     "output_type": "stream",
     "text": [
      "1/1 [==============================] - 3s 3s/step - loss: 2.9028 - accuracy: 0.0000e+00 - val_loss: 1.5449 - val_accuracy: 0.8099\n",
      "Epoch 2/10\n",
      "1/1 [==============================] - 0s 55ms/step - loss: 1.4345 - accuracy: 0.8551 - val_loss: 0.9185 - val_accuracy: 0.8430\n",
      "Epoch 3/10\n",
      "1/1 [==============================] - 0s 51ms/step - loss: 0.7947 - accuracy: 0.8882 - val_loss: 0.7011 - val_accuracy: 0.8430\n",
      "Epoch 4/10\n",
      "1/1 [==============================] - 0s 65ms/step - loss: 0.5665 - accuracy: 0.8882 - val_loss: 0.6055 - val_accuracy: 0.8430\n",
      "Epoch 5/10\n",
      "1/1 [==============================] - 0s 95ms/step - loss: 0.4661 - accuracy: 0.8882 - val_loss: 0.5506 - val_accuracy: 0.8430\n",
      "Epoch 6/10\n",
      "1/1 [==============================] - 0s 67ms/step - loss: 0.4139 - accuracy: 0.8882 - val_loss: 0.5102 - val_accuracy: 0.8430\n",
      "Epoch 7/10\n",
      "1/1 [==============================] - 0s 60ms/step - loss: 0.3798 - accuracy: 0.8882 - val_loss: 0.4730 - val_accuracy: 0.8430\n",
      "Epoch 8/10\n",
      "1/1 [==============================] - 0s 100ms/step - loss: 0.3530 - accuracy: 0.8882 - val_loss: 0.4404 - val_accuracy: 0.8430\n",
      "Epoch 9/10\n",
      "1/1 [==============================] - 0s 124ms/step - loss: 0.3289 - accuracy: 0.8882 - val_loss: 0.4119 - val_accuracy: 0.8430\n",
      "Epoch 10/10\n",
      "1/1 [==============================] - 0s 122ms/step - loss: 0.3120 - accuracy: 0.8882 - val_loss: 0.3950 - val_accuracy: 0.8430\n"
     ]
    },
    {
     "data": {
      "text/plain": [
       "<keras.callbacks.History at 0x1d4f1289690>"
      ]
     },
     "execution_count": 100,
     "metadata": {},
     "output_type": "execute_result"
    }
   ],
   "source": [
    "model3.fit(x_train, y_train, epochs=10, \n",
    "          batch_size=2000, validation_split=0.2)"
   ]
  },
  {
   "cell_type": "code",
   "execution_count": 101,
   "metadata": {},
   "outputs": [
    {
     "name": "stdout",
     "output_type": "stream",
     "text": [
      "test loss, test acc: [0.32419803738594055, 0.892307698726654]\n"
     ]
    }
   ],
   "source": [
    "results_3 = model3.evaluate(x_test,  y_test, verbose = 0)\n",
    "print('test loss, test acc:', results_3)"
   ]
  },
  {
   "cell_type": "code",
   "execution_count": 102,
   "metadata": {},
   "outputs": [],
   "source": [
    "model4 = Sequential([\n",
    "     # dense layer 1\n",
    "    Dense(300, activation='linear'),  \n",
    "    \n",
    "    # dense layer 2\n",
    "    Dense(150, activation='sigmoid'), \n",
    "  \n",
    "    \n",
    "      # output layer\n",
    "    Dense(10, activation='sigmoid')\n",
    "])"
   ]
  },
  {
   "cell_type": "code",
   "execution_count": 103,
   "metadata": {},
   "outputs": [],
   "source": [
    "model4.compile(optimizer='Adagrad',\n",
    "              loss='sparse_categorical_crossentropy',\n",
    "              metrics=['accuracy'])"
   ]
  },
  {
   "cell_type": "code",
   "execution_count": 104,
   "metadata": {},
   "outputs": [
    {
     "name": "stdout",
     "output_type": "stream",
     "text": [
      "Epoch 1/10\n"
     ]
    },
    {
     "name": "stderr",
     "output_type": "stream",
     "text": [
      "c:\\Users\\HP\\AppData\\Local\\Programs\\Python\\Python311\\Lib\\site-packages\\keras\\engine\\data_adapter.py:1700: FutureWarning: The behavior of `series[i:j]` with an integer-dtype index is deprecated. In a future version, this will be treated as *label-based* indexing, consistent with e.g. `series[i]` lookups. To retain the old behavior, use `series.iloc[i:j]`. To get the future behavior, use `series.loc[i:j]`.\n",
      "  return t[start:end]\n"
     ]
    },
    {
     "name": "stdout",
     "output_type": "stream",
     "text": [
      "1/1 [==============================] - 2s 2s/step - loss: 2.4593 - accuracy: 0.0000e+00 - val_loss: 1.9252 - val_accuracy: 0.0496\n",
      "Epoch 2/10\n",
      "1/1 [==============================] - 0s 113ms/step - loss: 1.9006 - accuracy: 0.0890 - val_loss: 1.5267 - val_accuracy: 0.7025\n",
      "Epoch 3/10\n",
      "1/1 [==============================] - 0s 119ms/step - loss: 1.4962 - accuracy: 0.7164 - val_loss: 1.3235 - val_accuracy: 0.7273\n",
      "Epoch 4/10\n",
      "1/1 [==============================] - 0s 122ms/step - loss: 1.2866 - accuracy: 0.7495 - val_loss: 1.1927 - val_accuracy: 0.7603\n",
      "Epoch 5/10\n",
      "1/1 [==============================] - 0s 92ms/step - loss: 1.1497 - accuracy: 0.7847 - val_loss: 1.0976 - val_accuracy: 0.8264\n",
      "Epoch 6/10\n",
      "1/1 [==============================] - 0s 87ms/step - loss: 1.0492 - accuracy: 0.8613 - val_loss: 1.0284 - val_accuracy: 0.8430\n",
      "Epoch 7/10\n",
      "1/1 [==============================] - 0s 83ms/step - loss: 0.9751 - accuracy: 0.8758 - val_loss: 0.9769 - val_accuracy: 0.8430\n",
      "Epoch 8/10\n",
      "1/1 [==============================] - 0s 107ms/step - loss: 0.9193 - accuracy: 0.8861 - val_loss: 0.9354 - val_accuracy: 0.8430\n",
      "Epoch 9/10\n",
      "1/1 [==============================] - 0s 133ms/step - loss: 0.8741 - accuracy: 0.8861 - val_loss: 0.9000 - val_accuracy: 0.8430\n",
      "Epoch 10/10\n",
      "1/1 [==============================] - 0s 156ms/step - loss: 0.8353 - accuracy: 0.8882 - val_loss: 0.8688 - val_accuracy: 0.8430\n"
     ]
    },
    {
     "data": {
      "text/plain": [
       "<keras.callbacks.History at 0x1d4f243bf50>"
      ]
     },
     "execution_count": 104,
     "metadata": {},
     "output_type": "execute_result"
    }
   ],
   "source": [
    "model4.fit(x_train, y_train, epochs=10, \n",
    "          batch_size=2000, validation_split=0.2)"
   ]
  },
  {
   "cell_type": "code",
   "execution_count": 105,
   "metadata": {},
   "outputs": [
    {
     "name": "stdout",
     "output_type": "stream",
     "text": [
      "test loss, test acc: [0.8007795810699463, 0.892307698726654]\n"
     ]
    }
   ],
   "source": [
    "results_4 = model4.evaluate(x_test,  y_test, verbose = 0)\n",
    "print('test loss, test acc:', results_4)"
   ]
  },
  {
   "cell_type": "code",
   "execution_count": 106,
   "metadata": {},
   "outputs": [],
   "source": [
    "from sklearn.model_selection import cross_val_score\n",
    "from keras.models import Sequential\n",
    "from keras.layers import Dense, BatchNormalization, Dropout\n",
    "from keras.optimizers import Adam, SGD, RMSprop, Adadelta, Adagrad, Adamax, Nadam, Ftrl\n",
    "from keras.callbacks import EarlyStopping, ModelCheckpoint\n",
    "from keras.wrappers.scikit_learn import KerasClassifier\n",
    "from math import floor\n",
    "from sklearn.metrics import make_scorer, accuracy_score\n",
    "from bayes_opt import BayesianOptimization\n",
    "from sklearn.model_selection import StratifiedKFold\n",
    "from keras.layers import LeakyReLU\n",
    "LeakyReLU = LeakyReLU(alpha=0.1)\n",
    "# Make scorer accuracy\n",
    "score_acc = make_scorer(accuracy_score)\n"
   ]
  },
  {
   "cell_type": "code",
   "execution_count": 107,
   "metadata": {},
   "outputs": [],
   "source": [
    "def nn_cl_bo(neurons, activation, optimizer, learning_rate,  batch_size, epochs ):\n",
    "    optimizerL = ['SGD', 'Adam', 'RMSprop', 'Adadelta', 'Adagrad', 'Adamax', 'Nadam', 'Ftrl','SGD']\n",
    "    optimizerD= {'Adam':Adam(lr=learning_rate), 'SGD':SGD(lr=learning_rate),\n",
    "                 'RMSprop':RMSprop(lr=learning_rate), 'Adadelta':Adadelta(lr=learning_rate),\n",
    "                 'Adagrad':Adagrad(lr=learning_rate), 'Adamax':Adamax(lr=learning_rate),\n",
    "                 'Nadam':Nadam(lr=learning_rate), 'Ftrl':Ftrl(lr=learning_rate)}\n",
    "    activationL = ['relu', 'sigmoid', 'softplus', 'softsign', 'tanh', 'selu',\n",
    "                   'elu', 'exponential', LeakyReLU,'relu']\n",
    "    neurons = round(neurons)\n",
    "    activation = activationL[round(activation)]\n",
    "    batch_size = round(batch_size)\n",
    "    epochs = round(epochs)\n",
    "    def nn_cl_fun():\n",
    "        opt = Adam(lr = learning_rate)\n",
    "        nn = Sequential()\n",
    "        nn.add(Dense(neurons, input_dim=10, activation=activation))\n",
    "        nn.add(Dense(neurons, activation=activation))\n",
    "        nn.add(Dense(1, activation='sigmoid'))\n",
    "        nn.compile(loss='binary_crossentropy', optimizer=opt, metrics=['accuracy'])\n",
    "        return nn\n",
    "    es = EarlyStopping(monitor='accuracy', mode='max', verbose=0, patience=20)\n",
    "    nn = KerasClassifier(build_fn=nn_cl_fun, epochs=epochs, batch_size=batch_size,\n",
    "                         verbose=0)\n",
    "    kfold = StratifiedKFold(n_splits=5, shuffle=True, random_state=123)\n",
    "    score = cross_val_score(nn, x_train, y_train, scoring=score_acc, cv=kfold, fit_params={'callbacks':[es]}).mean()\n",
    "    return score"
   ]
  },
  {
   "cell_type": "code",
   "execution_count": 108,
   "metadata": {},
   "outputs": [],
   "source": [
    "# Set paramaters\n",
    "params_nn ={\n",
    "    'neurons': (10, 100),\n",
    "    'activation':(0, 9),\n",
    "    'optimizer':(0,7),\n",
    "    'learning_rate':(0.01, 1),\n",
    "    'batch_size':(200, 1000),\n",
    "    'epochs':(20, 100)\n",
    "}\n",
    "# Run Bayesian Optimization\n",
    "nn_bo = BayesianOptimization(nn_cl_bo, params_nn, random_state=111)\n",
    "#nn_bo.maximize(init_points=25, n_iter=4)"
   ]
  },
  {
   "cell_type": "code",
   "execution_count": 109,
   "metadata": {},
   "outputs": [],
   "source": [
    "#params_nn_ = nn_bo.max['params']\n",
    "#activationL = ['relu', 'sigmoid', 'softplus', 'softsign', 'tanh', 'selu',\n",
    "#              'elu', 'exponential', LeakyReLU,'relu']\n",
    "#params_nn_['activation'] = activationL[round(params_nn_['activation'])]\n",
    "#params_nn_"
   ]
  },
  {
   "cell_type": "code",
   "execution_count": 110,
   "metadata": {},
   "outputs": [],
   "source": [
    "def FindLayerNodesLinear(n_layers, first_layer_nodes, last_layer_nodes): # values inside hidden layer nodes\n",
    "    layers = []\n",
    "    \n",
    "    nodes_increment = (last_layer_nodes - first_layer_nodes)/ (n_layers-1)\n",
    "    nodes = first_layer_nodes\n",
    "    for i in range(1, n_layers+1):\n",
    "        layers.append(math.ceil(nodes))\n",
    "        nodes = nodes + nodes_increment\n",
    "    \n",
    "    return layers"
   ]
  },
  {
   "cell_type": "code",
   "execution_count": 111,
   "metadata": {},
   "outputs": [
    {
     "data": {
      "text/plain": [
       "[50, 40, 30, 20, 10]"
      ]
     },
     "execution_count": 111,
     "metadata": {},
     "output_type": "execute_result"
    }
   ],
   "source": [
    "FindLayerNodesLinear(5, 50, 10)"
   ]
  },
  {
   "cell_type": "code",
   "execution_count": 112,
   "metadata": {},
   "outputs": [],
   "source": [
    "#pd.DataFrame(grid.cv_results_)[['mean_test_score', 'std_test_score', 'params']].to_csv('GridOptimization.csv')"
   ]
  },
  {
   "cell_type": "code",
   "execution_count": 113,
   "metadata": {},
   "outputs": [
    {
     "name": "stdout",
     "output_type": "stream",
     "text": [
      "MLP classifier results:\n",
      "Accuracy: 0.9153846153846154\n",
      "Precision: 0.6666666666666666\n",
      "F1 score: 0.5217391304347826\n",
      "Recall: 0.42857142857142855\n",
      "ROC score: 0.7013546798029557\n"
     ]
    }
   ],
   "source": [
    " #Import Multiple layer perceptron model\n",
    " from sklearn.neural_network import MLPClassifier\n",
    " from sklearn import metrics\n",
    " clf = MLPClassifier(hidden_layer_sizes=(12,12), learning_rate_init=0.01, max_iter=200 )\n",
    " #Train the model using the training setsz\n",
    " clf.fit(x_train, y_train)\n",
    " #Predict the response for test dataset\n",
    " y_pred = clf.predict(x_test)\n",
    " # Model Accuracy: how often is the classifier correct?\n",
    " print(\"MLP classifier results:\")\n",
    " print(\"Accuracy:\",metrics.accuracy_score(y_test, y_pred))\n",
    " print(\"Precision:\",metrics.precision_score(y_test, y_pred))\n",
    " print(\"F1 score:\",metrics.f1_score(y_test, y_pred))\n",
    " print(\"Recall:\",metrics.recall_score(y_test, y_pred))\n",
    " print(\"ROC score:\",metrics.roc_auc_score(y_test, y_pred))"
   ]
  },
  {
   "cell_type": "code",
   "execution_count": 114,
   "metadata": {},
   "outputs": [
    {
     "name": "stdout",
     "output_type": "stream",
     "text": [
      "MLP classifier results:\n",
      "Accuracy: 0.9\n",
      "Precision: 0.5454545454545454\n",
      "F1 score: 0.4799999999999999\n",
      "Recall: 0.42857142857142855\n",
      "ROC score: 0.6927339901477833\n"
     ]
    }
   ],
   "source": [
    " #Import Multiple layer perceptron model\n",
    " from sklearn.neural_network import MLPClassifier\n",
    " from sklearn import metrics #Import scikit-learn metrics module for accuracy calculation\n",
    "\n",
    " clf1 = MLPClassifier(hidden_layer_sizes=(10,10), learning_rate_init=0.01, max_iter=200 , activation='relu')\n",
    " #Train the model using the training sets\n",
    " clf1.fit(x_train, y_train)\n",
    " #Predict the response for test dataset\n",
    " y_pred1 = clf1.predict(x_test)\n",
    " # Model Accuracy: how often is the classifier correct?\n",
    " print(\"MLP classifier results:\")\n",
    " print(\"Accuracy:\",metrics.accuracy_score(y_test, y_pred1))\n",
    " print(\"Precision:\",metrics.precision_score(y_test, y_pred1))\n",
    " print(\"F1 score:\",metrics.f1_score(y_test, y_pred1))\n",
    " print(\"Recall:\",metrics.recall_score(y_test, y_pred1))\n",
    " print(\"ROC score:\",metrics.roc_auc_score(y_test, y_pred1))"
   ]
  },
  {
   "cell_type": "code",
   "execution_count": 115,
   "metadata": {},
   "outputs": [
    {
     "name": "stdout",
     "output_type": "stream",
     "text": [
      "MLP classifier results:\n",
      "Accuracy: 0.9\n",
      "Precision: 0.5333333333333333\n",
      "F1 score: 0.5517241379310344\n",
      "Recall: 0.5714285714285714\n",
      "ROC score: 0.7555418719211823\n"
     ]
    }
   ],
   "source": [
    " #Import Multiple layer perceptron model\n",
    " from sklearn.neural_network import MLPClassifier\n",
    " clf2 = MLPClassifier(hidden_layer_sizes=(10,10), learning_rate_init=0.01, max_iter=200 , activation='logistic') #sigmoid\n",
    " #Train the model using the training sets\n",
    " clf2.fit(x_train, y_train)\n",
    " #Predict the response for test dataset\n",
    " y_pred2 = clf2.predict(x_test)\n",
    " # Model Accuracy: how often is the classifier correct?\n",
    " print(\"MLP classifier results:\")\n",
    " print(\"Accuracy:\",metrics.accuracy_score(y_test, y_pred2))\n",
    " print(\"Precision:\",metrics.precision_score(y_test, y_pred2))\n",
    " print(\"F1 score:\",metrics.f1_score(y_test, y_pred2))\n",
    " print(\"Recall:\",metrics.recall_score(y_test, y_pred2))\n",
    " print(\"ROC score:\",metrics.roc_auc_score(y_test, y_pred2))"
   ]
  },
  {
   "cell_type": "code",
   "execution_count": 116,
   "metadata": {},
   "outputs": [
    {
     "name": "stdout",
     "output_type": "stream",
     "text": [
      "MLP classifier results:\n",
      "Accuracy: 0.8769230769230769\n",
      "Precision: 0.0\n",
      "F1 score: 0.0\n",
      "Recall: 0.0\n",
      "ROC score: 0.49137931034482757\n"
     ]
    }
   ],
   "source": [
    "#Import Multiple layer perceptron model\n",
    "from sklearn.neural_network import MLPClassifier\n",
    "clf3 = MLPClassifier(hidden_layer_sizes=(10,10), learning_rate_init=0.01, max_iter=200 , activation='tanh') #softmax\n",
    " #Train the model using the training sets\n",
    "clf3.fit(x_train, y_train)\n",
    " #Predict the response for test dataset\n",
    "y_pred3 = clf3.predict(x_test)\n",
    " # Model Accuracy: how often is the classifier correct?\n",
    "print(\"MLP classifier results:\")\n",
    "print(\"Accuracy:\",metrics.accuracy_score(y_test, y_pred3))\n",
    "print(\"Precision:\",metrics.precision_score(y_test, y_pred3))\n",
    "print(\"F1 score:\",metrics.f1_score(y_test, y_pred3))\n",
    "print(\"Recall:\",metrics.recall_score(y_test, y_pred3))\n",
    "print(\"ROC score:\",metrics.roc_auc_score(y_test, y_pred3))"
   ]
  },
  {
   "cell_type": "code",
   "execution_count": 117,
   "metadata": {},
   "outputs": [
    {
     "name": "stdout",
     "output_type": "stream",
     "text": [
      "MLP classifier results:\n",
      "Accuracy: 0.9076923076923077\n",
      "Precision: 0.5833333333333334\n",
      "F1 score: 0.5384615384615384\n",
      "Recall: 0.5\n",
      "ROC score: 0.728448275862069\n"
     ]
    }
   ],
   "source": [
    "#Import Multiple layer perceptron model\n",
    "from sklearn.neural_network import MLPClassifier\n",
    "clf4 = MLPClassifier(hidden_layer_sizes=(10,10), learning_rate_init=0.01, max_iter=200 , activation='relu',learning_rate='adaptive') \n",
    " #Train the model using the training sets\n",
    "clf4.fit(x_train, y_train)\n",
    " #Predict the response for test dataset\n",
    "y_pred4 = clf4.predict(x_test)\n",
    " # Model Accuracy: how often is the classifier correct?\n",
    "print(\"MLP classifier results:\")\n",
    "print(\"Accuracy:\",metrics.accuracy_score(y_test, y_pred4))\n",
    "print(\"Precision:\",metrics.precision_score(y_test, y_pred4))\n",
    "print(\"F1 score:\",metrics.f1_score(y_test, y_pred4))\n",
    "print(\"Recall:\",metrics.recall_score(y_test, y_pred4))\n",
    "print(\"ROC score:\",metrics.roc_auc_score(y_test, y_pred4))"
   ]
  },
  {
   "cell_type": "code",
   "execution_count": 118,
   "metadata": {},
   "outputs": [
    {
     "name": "stdout",
     "output_type": "stream",
     "text": [
      "Fitting 5 folds for each of 48 candidates, totalling 240 fits\n",
      "[CV 1/5] END activation=logistic, learning_rate=constant , learning_rate_init=0.1;, score=nan total time=   0.0s\n",
      "[CV 2/5] END activation=logistic, learning_rate=constant , learning_rate_init=0.1;, score=nan total time=   0.0s\n",
      "[CV 3/5] END activation=logistic, learning_rate=constant , learning_rate_init=0.1;, score=nan total time=   0.0s\n",
      "[CV 4/5] END activation=logistic, learning_rate=constant , learning_rate_init=0.1;, score=nan total time=   0.0s\n",
      "[CV 5/5] END activation=logistic, learning_rate=constant , learning_rate_init=0.1;, score=nan total time=   0.0s\n",
      "[CV 1/5] END activation=logistic, learning_rate=constant , learning_rate_init=0.01;, score=nan total time=   0.0s\n",
      "[CV 2/5] END activation=logistic, learning_rate=constant , learning_rate_init=0.01;, score=nan total time=   0.0s\n",
      "[CV 3/5] END activation=logistic, learning_rate=constant , learning_rate_init=0.01;, score=nan total time=   0.0s\n",
      "[CV 4/5] END activation=logistic, learning_rate=constant , learning_rate_init=0.01;, score=nan total time=   0.0s\n",
      "[CV 5/5] END activation=logistic, learning_rate=constant , learning_rate_init=0.01;, score=nan total time=   0.0s\n",
      "[CV 1/5] END activation=logistic, learning_rate=constant , learning_rate_init=0.001;, score=nan total time=   0.0s\n",
      "[CV 2/5] END activation=logistic, learning_rate=constant , learning_rate_init=0.001;, score=nan total time=   0.0s\n",
      "[CV 3/5] END activation=logistic, learning_rate=constant , learning_rate_init=0.001;, score=nan total time=   0.0s\n",
      "[CV 4/5] END activation=logistic, learning_rate=constant , learning_rate_init=0.001;, score=nan total time=   0.0s\n",
      "[CV 5/5] END activation=logistic, learning_rate=constant , learning_rate_init=0.001;, score=nan total time=   0.0s\n",
      "[CV 1/5] END activation=logistic, learning_rate=constant , learning_rate_init=0.001;, score=nan total time=   0.0s\n",
      "[CV 2/5] END activation=logistic, learning_rate=constant , learning_rate_init=0.001;, score=nan total time=   0.0s\n",
      "[CV 3/5] END activation=logistic, learning_rate=constant , learning_rate_init=0.001;, score=nan total time=   0.0s\n",
      "[CV 4/5] END activation=logistic, learning_rate=constant , learning_rate_init=0.001;, score=nan total time=   0.0s\n",
      "[CV 5/5] END activation=logistic, learning_rate=constant , learning_rate_init=0.001;, score=nan total time=   0.0s\n",
      "[CV 1/5] END activation=logistic, learning_rate=invscaling , learning_rate_init=0.1;, score=nan total time=   0.0s\n",
      "[CV 2/5] END activation=logistic, learning_rate=invscaling , learning_rate_init=0.1;, score=nan total time=   0.0s\n",
      "[CV 3/5] END activation=logistic, learning_rate=invscaling , learning_rate_init=0.1;, score=nan total time=   0.0s\n",
      "[CV 4/5] END activation=logistic, learning_rate=invscaling , learning_rate_init=0.1;, score=nan total time=   0.0s\n",
      "[CV 5/5] END activation=logistic, learning_rate=invscaling , learning_rate_init=0.1;, score=nan total time=   0.0s\n",
      "[CV 1/5] END activation=logistic, learning_rate=invscaling , learning_rate_init=0.01;, score=nan total time=   0.0s\n",
      "[CV 2/5] END activation=logistic, learning_rate=invscaling , learning_rate_init=0.01;, score=nan total time=   0.0s\n",
      "[CV 3/5] END activation=logistic, learning_rate=invscaling , learning_rate_init=0.01;, score=nan total time=   0.0s\n",
      "[CV 4/5] END activation=logistic, learning_rate=invscaling , learning_rate_init=0.01;, score=nan total time=   0.0s\n",
      "[CV 5/5] END activation=logistic, learning_rate=invscaling , learning_rate_init=0.01;, score=nan total time=   0.0s\n",
      "[CV 1/5] END activation=logistic, learning_rate=invscaling , learning_rate_init=0.001;, score=nan total time=   0.0s\n",
      "[CV 2/5] END activation=logistic, learning_rate=invscaling , learning_rate_init=0.001;, score=nan total time=   0.0s\n",
      "[CV 3/5] END activation=logistic, learning_rate=invscaling , learning_rate_init=0.001;, score=nan total time=   0.0s\n",
      "[CV 4/5] END activation=logistic, learning_rate=invscaling , learning_rate_init=0.001;, score=nan total time=   0.0s\n",
      "[CV 5/5] END activation=logistic, learning_rate=invscaling , learning_rate_init=0.001;, score=nan total time=   0.0s\n",
      "[CV 1/5] END activation=logistic, learning_rate=invscaling , learning_rate_init=0.001;, score=nan total time=   0.0s\n",
      "[CV 2/5] END activation=logistic, learning_rate=invscaling , learning_rate_init=0.001;, score=nan total time=   0.0s\n",
      "[CV 3/5] END activation=logistic, learning_rate=invscaling , learning_rate_init=0.001;, score=nan total time=   0.0s\n",
      "[CV 4/5] END activation=logistic, learning_rate=invscaling , learning_rate_init=0.001;, score=nan total time=   0.0s\n",
      "[CV 5/5] END activation=logistic, learning_rate=invscaling , learning_rate_init=0.001;, score=nan total time=   0.0s\n",
      "[CV 1/5] END activation=logistic, learning_rate=adaptive, learning_rate_init=0.1;, score=0.884 total time=   0.0s\n",
      "[CV 2/5] END activation=logistic, learning_rate=adaptive, learning_rate_init=0.1;, score=0.876 total time=   0.0s\n",
      "[CV 3/5] END activation=logistic, learning_rate=adaptive, learning_rate_init=0.1;, score=0.876 total time=   0.2s\n",
      "[CV 4/5] END activation=logistic, learning_rate=adaptive, learning_rate_init=0.1;, score=0.876 total time=   0.3s\n",
      "[CV 5/5] END activation=logistic, learning_rate=adaptive, learning_rate_init=0.1;, score=0.883 total time=   0.1s\n",
      "[CV 1/5] END activation=logistic, learning_rate=adaptive, learning_rate_init=0.01;, score=0.983 total time=   0.8s\n"
     ]
    },
    {
     "name": "stderr",
     "output_type": "stream",
     "text": [
      "c:\\Users\\HP\\AppData\\Local\\Programs\\Python\\Python311\\Lib\\site-packages\\sklearn\\neural_network\\_multilayer_perceptron.py:702: ConvergenceWarning: Stochastic Optimizer: Maximum iterations (200) reached and the optimization hasn't converged yet.\n",
      "  warnings.warn(\n"
     ]
    },
    {
     "name": "stdout",
     "output_type": "stream",
     "text": [
      "[CV 2/5] END activation=logistic, learning_rate=adaptive, learning_rate_init=0.01;, score=0.959 total time=   1.5s\n",
      "[CV 3/5] END activation=logistic, learning_rate=adaptive, learning_rate_init=0.01;, score=0.876 total time=   0.0s\n",
      "[CV 4/5] END activation=logistic, learning_rate=adaptive, learning_rate_init=0.01;, score=0.917 total time=   0.8s\n",
      "[CV 5/5] END activation=logistic, learning_rate=adaptive, learning_rate_init=0.01;, score=0.958 total time=   0.5s\n"
     ]
    },
    {
     "name": "stderr",
     "output_type": "stream",
     "text": [
      "c:\\Users\\HP\\AppData\\Local\\Programs\\Python\\Python311\\Lib\\site-packages\\sklearn\\neural_network\\_multilayer_perceptron.py:702: ConvergenceWarning: Stochastic Optimizer: Maximum iterations (200) reached and the optimization hasn't converged yet.\n",
      "  warnings.warn(\n"
     ]
    },
    {
     "name": "stdout",
     "output_type": "stream",
     "text": [
      "[CV 1/5] END activation=logistic, learning_rate=adaptive, learning_rate_init=0.001;, score=0.884 total time=   1.3s\n",
      "[CV 2/5] END activation=logistic, learning_rate=adaptive, learning_rate_init=0.001;, score=0.876 total time=   0.9s\n"
     ]
    },
    {
     "name": "stderr",
     "output_type": "stream",
     "text": [
      "c:\\Users\\HP\\AppData\\Local\\Programs\\Python\\Python311\\Lib\\site-packages\\sklearn\\neural_network\\_multilayer_perceptron.py:702: ConvergenceWarning: Stochastic Optimizer: Maximum iterations (200) reached and the optimization hasn't converged yet.\n",
      "  warnings.warn(\n"
     ]
    },
    {
     "name": "stdout",
     "output_type": "stream",
     "text": [
      "[CV 3/5] END activation=logistic, learning_rate=adaptive, learning_rate_init=0.001;, score=0.876 total time=   0.8s\n"
     ]
    },
    {
     "name": "stderr",
     "output_type": "stream",
     "text": [
      "c:\\Users\\HP\\AppData\\Local\\Programs\\Python\\Python311\\Lib\\site-packages\\sklearn\\neural_network\\_multilayer_perceptron.py:702: ConvergenceWarning: Stochastic Optimizer: Maximum iterations (200) reached and the optimization hasn't converged yet.\n",
      "  warnings.warn(\n"
     ]
    },
    {
     "name": "stdout",
     "output_type": "stream",
     "text": [
      "[CV 4/5] END activation=logistic, learning_rate=adaptive, learning_rate_init=0.001;, score=0.876 total time=   0.8s\n"
     ]
    },
    {
     "name": "stderr",
     "output_type": "stream",
     "text": [
      "c:\\Users\\HP\\AppData\\Local\\Programs\\Python\\Python311\\Lib\\site-packages\\sklearn\\neural_network\\_multilayer_perceptron.py:702: ConvergenceWarning: Stochastic Optimizer: Maximum iterations (200) reached and the optimization hasn't converged yet.\n",
      "  warnings.warn(\n"
     ]
    },
    {
     "name": "stdout",
     "output_type": "stream",
     "text": [
      "[CV 5/5] END activation=logistic, learning_rate=adaptive, learning_rate_init=0.001;, score=0.883 total time=   0.9s\n"
     ]
    },
    {
     "name": "stderr",
     "output_type": "stream",
     "text": [
      "c:\\Users\\HP\\AppData\\Local\\Programs\\Python\\Python311\\Lib\\site-packages\\sklearn\\neural_network\\_multilayer_perceptron.py:702: ConvergenceWarning: Stochastic Optimizer: Maximum iterations (200) reached and the optimization hasn't converged yet.\n",
      "  warnings.warn(\n"
     ]
    },
    {
     "name": "stdout",
     "output_type": "stream",
     "text": [
      "[CV 1/5] END activation=logistic, learning_rate=adaptive, learning_rate_init=0.001;, score=0.884 total time=   1.5s\n"
     ]
    },
    {
     "name": "stderr",
     "output_type": "stream",
     "text": [
      "c:\\Users\\HP\\AppData\\Local\\Programs\\Python\\Python311\\Lib\\site-packages\\sklearn\\neural_network\\_multilayer_perceptron.py:702: ConvergenceWarning: Stochastic Optimizer: Maximum iterations (200) reached and the optimization hasn't converged yet.\n",
      "  warnings.warn(\n"
     ]
    },
    {
     "name": "stdout",
     "output_type": "stream",
     "text": [
      "[CV 2/5] END activation=logistic, learning_rate=adaptive, learning_rate_init=0.001;, score=0.876 total time=   1.1s\n"
     ]
    },
    {
     "name": "stderr",
     "output_type": "stream",
     "text": [
      "c:\\Users\\HP\\AppData\\Local\\Programs\\Python\\Python311\\Lib\\site-packages\\sklearn\\neural_network\\_multilayer_perceptron.py:702: ConvergenceWarning: Stochastic Optimizer: Maximum iterations (200) reached and the optimization hasn't converged yet.\n",
      "  warnings.warn(\n"
     ]
    },
    {
     "name": "stdout",
     "output_type": "stream",
     "text": [
      "[CV 3/5] END activation=logistic, learning_rate=adaptive, learning_rate_init=0.001;, score=0.876 total time=   1.1s\n"
     ]
    },
    {
     "name": "stderr",
     "output_type": "stream",
     "text": [
      "c:\\Users\\HP\\AppData\\Local\\Programs\\Python\\Python311\\Lib\\site-packages\\sklearn\\neural_network\\_multilayer_perceptron.py:702: ConvergenceWarning: Stochastic Optimizer: Maximum iterations (200) reached and the optimization hasn't converged yet.\n",
      "  warnings.warn(\n"
     ]
    },
    {
     "name": "stdout",
     "output_type": "stream",
     "text": [
      "[CV 4/5] END activation=logistic, learning_rate=adaptive, learning_rate_init=0.001;, score=0.876 total time=   0.9s\n"
     ]
    },
    {
     "name": "stderr",
     "output_type": "stream",
     "text": [
      "c:\\Users\\HP\\AppData\\Local\\Programs\\Python\\Python311\\Lib\\site-packages\\sklearn\\neural_network\\_multilayer_perceptron.py:702: ConvergenceWarning: Stochastic Optimizer: Maximum iterations (200) reached and the optimization hasn't converged yet.\n",
      "  warnings.warn(\n"
     ]
    },
    {
     "name": "stdout",
     "output_type": "stream",
     "text": [
      "[CV 5/5] END activation=logistic, learning_rate=adaptive, learning_rate_init=0.001;, score=0.883 total time=   1.2s\n",
      "[CV 1/5] END activation=relu, learning_rate=constant , learning_rate_init=0.1;, score=nan total time=   0.0s\n",
      "[CV 2/5] END activation=relu, learning_rate=constant , learning_rate_init=0.1;, score=nan total time=   0.0s\n",
      "[CV 3/5] END activation=relu, learning_rate=constant , learning_rate_init=0.1;, score=nan total time=   0.0s\n",
      "[CV 4/5] END activation=relu, learning_rate=constant , learning_rate_init=0.1;, score=nan total time=   0.0s\n",
      "[CV 5/5] END activation=relu, learning_rate=constant , learning_rate_init=0.1;, score=nan total time=   0.0s\n",
      "[CV 1/5] END activation=relu, learning_rate=constant , learning_rate_init=0.01;, score=nan total time=   0.0s\n",
      "[CV 2/5] END activation=relu, learning_rate=constant , learning_rate_init=0.01;, score=nan total time=   0.0s\n",
      "[CV 3/5] END activation=relu, learning_rate=constant , learning_rate_init=0.01;, score=nan total time=   0.0s\n",
      "[CV 4/5] END activation=relu, learning_rate=constant , learning_rate_init=0.01;, score=nan total time=   0.0s\n",
      "[CV 5/5] END activation=relu, learning_rate=constant , learning_rate_init=0.01;, score=nan total time=   0.0s\n",
      "[CV 1/5] END activation=relu, learning_rate=constant , learning_rate_init=0.001;, score=nan total time=   0.0s\n",
      "[CV 2/5] END activation=relu, learning_rate=constant , learning_rate_init=0.001;, score=nan total time=   0.0s\n",
      "[CV 3/5] END activation=relu, learning_rate=constant , learning_rate_init=0.001;, score=nan total time=   0.0s\n",
      "[CV 4/5] END activation=relu, learning_rate=constant , learning_rate_init=0.001;, score=nan total time=   0.0s\n",
      "[CV 5/5] END activation=relu, learning_rate=constant , learning_rate_init=0.001;, score=nan total time=   0.0s\n",
      "[CV 1/5] END activation=relu, learning_rate=constant , learning_rate_init=0.001;, score=nan total time=   0.0s\n",
      "[CV 2/5] END activation=relu, learning_rate=constant , learning_rate_init=0.001;, score=nan total time=   0.0s\n",
      "[CV 3/5] END activation=relu, learning_rate=constant , learning_rate_init=0.001;, score=nan total time=   0.0s\n",
      "[CV 4/5] END activation=relu, learning_rate=constant , learning_rate_init=0.001;, score=nan total time=   0.0s\n",
      "[CV 5/5] END activation=relu, learning_rate=constant , learning_rate_init=0.001;, score=nan total time=   0.0s\n",
      "[CV 1/5] END activation=relu, learning_rate=invscaling , learning_rate_init=0.1;, score=nan total time=   0.0s\n",
      "[CV 2/5] END activation=relu, learning_rate=invscaling , learning_rate_init=0.1;, score=nan total time=   0.0s\n",
      "[CV 3/5] END activation=relu, learning_rate=invscaling , learning_rate_init=0.1;, score=nan total time=   0.0s\n",
      "[CV 4/5] END activation=relu, learning_rate=invscaling , learning_rate_init=0.1;, score=nan total time=   0.0s\n",
      "[CV 5/5] END activation=relu, learning_rate=invscaling , learning_rate_init=0.1;, score=nan total time=   0.0s\n",
      "[CV 1/5] END activation=relu, learning_rate=invscaling , learning_rate_init=0.01;, score=nan total time=   0.0s\n",
      "[CV 2/5] END activation=relu, learning_rate=invscaling , learning_rate_init=0.01;, score=nan total time=   0.0s\n",
      "[CV 3/5] END activation=relu, learning_rate=invscaling , learning_rate_init=0.01;, score=nan total time=   0.0s\n",
      "[CV 4/5] END activation=relu, learning_rate=invscaling , learning_rate_init=0.01;, score=nan total time=   0.0s\n",
      "[CV 5/5] END activation=relu, learning_rate=invscaling , learning_rate_init=0.01;, score=nan total time=   0.0s\n",
      "[CV 1/5] END activation=relu, learning_rate=invscaling , learning_rate_init=0.001;, score=nan total time=   0.0s\n",
      "[CV 2/5] END activation=relu, learning_rate=invscaling , learning_rate_init=0.001;, score=nan total time=   0.0s\n",
      "[CV 3/5] END activation=relu, learning_rate=invscaling , learning_rate_init=0.001;, score=nan total time=   0.0s\n",
      "[CV 4/5] END activation=relu, learning_rate=invscaling , learning_rate_init=0.001;, score=nan total time=   0.0s\n",
      "[CV 5/5] END activation=relu, learning_rate=invscaling , learning_rate_init=0.001;, score=nan total time=   0.0s\n",
      "[CV 1/5] END activation=relu, learning_rate=invscaling , learning_rate_init=0.001;, score=nan total time=   0.0s\n",
      "[CV 2/5] END activation=relu, learning_rate=invscaling , learning_rate_init=0.001;, score=nan total time=   0.0s\n",
      "[CV 3/5] END activation=relu, learning_rate=invscaling , learning_rate_init=0.001;, score=nan total time=   0.0s\n",
      "[CV 4/5] END activation=relu, learning_rate=invscaling , learning_rate_init=0.001;, score=nan total time=   0.0s\n",
      "[CV 5/5] END activation=relu, learning_rate=invscaling , learning_rate_init=0.001;, score=nan total time=   0.0s\n",
      "[CV 1/5] END activation=relu, learning_rate=adaptive, learning_rate_init=0.1;, score=0.884 total time=   0.0s\n",
      "[CV 2/5] END activation=relu, learning_rate=adaptive, learning_rate_init=0.1;, score=0.876 total time=   0.1s\n",
      "[CV 3/5] END activation=relu, learning_rate=adaptive, learning_rate_init=0.1;, score=0.917 total time=   0.1s\n",
      "[CV 4/5] END activation=relu, learning_rate=adaptive, learning_rate_init=0.1;, score=0.876 total time=   0.1s\n",
      "[CV 5/5] END activation=relu, learning_rate=adaptive, learning_rate_init=0.1;, score=0.883 total time=   0.0s\n",
      "[CV 1/5] END activation=relu, learning_rate=adaptive, learning_rate_init=0.01;, score=0.950 total time=   0.7s\n",
      "[CV 2/5] END activation=relu, learning_rate=adaptive, learning_rate_init=0.01;, score=0.934 total time=   0.7s\n",
      "[CV 3/5] END activation=relu, learning_rate=adaptive, learning_rate_init=0.01;, score=0.950 total time=   0.4s\n",
      "[CV 4/5] END activation=relu, learning_rate=adaptive, learning_rate_init=0.01;, score=0.926 total time=   0.7s\n",
      "[CV 5/5] END activation=relu, learning_rate=adaptive, learning_rate_init=0.01;, score=0.942 total time=   0.6s\n"
     ]
    },
    {
     "name": "stderr",
     "output_type": "stream",
     "text": [
      "c:\\Users\\HP\\AppData\\Local\\Programs\\Python\\Python311\\Lib\\site-packages\\sklearn\\neural_network\\_multilayer_perceptron.py:702: ConvergenceWarning: Stochastic Optimizer: Maximum iterations (200) reached and the optimization hasn't converged yet.\n",
      "  warnings.warn(\n"
     ]
    },
    {
     "name": "stdout",
     "output_type": "stream",
     "text": [
      "[CV 1/5] END activation=relu, learning_rate=adaptive, learning_rate_init=0.001;, score=0.926 total time=   0.9s\n"
     ]
    },
    {
     "name": "stderr",
     "output_type": "stream",
     "text": [
      "c:\\Users\\HP\\AppData\\Local\\Programs\\Python\\Python311\\Lib\\site-packages\\sklearn\\neural_network\\_multilayer_perceptron.py:702: ConvergenceWarning: Stochastic Optimizer: Maximum iterations (200) reached and the optimization hasn't converged yet.\n",
      "  warnings.warn(\n"
     ]
    },
    {
     "name": "stdout",
     "output_type": "stream",
     "text": [
      "[CV 2/5] END activation=relu, learning_rate=adaptive, learning_rate_init=0.001;, score=0.917 total time=   1.1s\n"
     ]
    },
    {
     "name": "stderr",
     "output_type": "stream",
     "text": [
      "c:\\Users\\HP\\AppData\\Local\\Programs\\Python\\Python311\\Lib\\site-packages\\sklearn\\neural_network\\_multilayer_perceptron.py:702: ConvergenceWarning: Stochastic Optimizer: Maximum iterations (200) reached and the optimization hasn't converged yet.\n",
      "  warnings.warn(\n"
     ]
    },
    {
     "name": "stdout",
     "output_type": "stream",
     "text": [
      "[CV 3/5] END activation=relu, learning_rate=adaptive, learning_rate_init=0.001;, score=0.950 total time=   0.9s\n"
     ]
    },
    {
     "name": "stderr",
     "output_type": "stream",
     "text": [
      "c:\\Users\\HP\\AppData\\Local\\Programs\\Python\\Python311\\Lib\\site-packages\\sklearn\\neural_network\\_multilayer_perceptron.py:702: ConvergenceWarning: Stochastic Optimizer: Maximum iterations (200) reached and the optimization hasn't converged yet.\n",
      "  warnings.warn(\n"
     ]
    },
    {
     "name": "stdout",
     "output_type": "stream",
     "text": [
      "[CV 4/5] END activation=relu, learning_rate=adaptive, learning_rate_init=0.001;, score=0.893 total time=   0.7s\n"
     ]
    },
    {
     "name": "stderr",
     "output_type": "stream",
     "text": [
      "c:\\Users\\HP\\AppData\\Local\\Programs\\Python\\Python311\\Lib\\site-packages\\sklearn\\neural_network\\_multilayer_perceptron.py:702: ConvergenceWarning: Stochastic Optimizer: Maximum iterations (200) reached and the optimization hasn't converged yet.\n",
      "  warnings.warn(\n"
     ]
    },
    {
     "name": "stdout",
     "output_type": "stream",
     "text": [
      "[CV 5/5] END activation=relu, learning_rate=adaptive, learning_rate_init=0.001;, score=0.942 total time=   0.9s\n"
     ]
    },
    {
     "name": "stderr",
     "output_type": "stream",
     "text": [
      "c:\\Users\\HP\\AppData\\Local\\Programs\\Python\\Python311\\Lib\\site-packages\\sklearn\\neural_network\\_multilayer_perceptron.py:702: ConvergenceWarning: Stochastic Optimizer: Maximum iterations (200) reached and the optimization hasn't converged yet.\n",
      "  warnings.warn(\n"
     ]
    },
    {
     "name": "stdout",
     "output_type": "stream",
     "text": [
      "[CV 1/5] END activation=relu, learning_rate=adaptive, learning_rate_init=0.001;, score=0.926 total time=   0.6s\n"
     ]
    },
    {
     "name": "stderr",
     "output_type": "stream",
     "text": [
      "c:\\Users\\HP\\AppData\\Local\\Programs\\Python\\Python311\\Lib\\site-packages\\sklearn\\neural_network\\_multilayer_perceptron.py:702: ConvergenceWarning: Stochastic Optimizer: Maximum iterations (200) reached and the optimization hasn't converged yet.\n",
      "  warnings.warn(\n"
     ]
    },
    {
     "name": "stdout",
     "output_type": "stream",
     "text": [
      "[CV 2/5] END activation=relu, learning_rate=adaptive, learning_rate_init=0.001;, score=0.917 total time=   1.0s\n"
     ]
    },
    {
     "name": "stderr",
     "output_type": "stream",
     "text": [
      "c:\\Users\\HP\\AppData\\Local\\Programs\\Python\\Python311\\Lib\\site-packages\\sklearn\\neural_network\\_multilayer_perceptron.py:702: ConvergenceWarning: Stochastic Optimizer: Maximum iterations (200) reached and the optimization hasn't converged yet.\n",
      "  warnings.warn(\n"
     ]
    },
    {
     "name": "stdout",
     "output_type": "stream",
     "text": [
      "[CV 3/5] END activation=relu, learning_rate=adaptive, learning_rate_init=0.001;, score=0.942 total time=   0.7s\n"
     ]
    },
    {
     "name": "stderr",
     "output_type": "stream",
     "text": [
      "c:\\Users\\HP\\AppData\\Local\\Programs\\Python\\Python311\\Lib\\site-packages\\sklearn\\neural_network\\_multilayer_perceptron.py:702: ConvergenceWarning: Stochastic Optimizer: Maximum iterations (200) reached and the optimization hasn't converged yet.\n",
      "  warnings.warn(\n"
     ]
    },
    {
     "name": "stdout",
     "output_type": "stream",
     "text": [
      "[CV 4/5] END activation=relu, learning_rate=adaptive, learning_rate_init=0.001;, score=0.901 total time=   0.8s\n"
     ]
    },
    {
     "name": "stderr",
     "output_type": "stream",
     "text": [
      "c:\\Users\\HP\\AppData\\Local\\Programs\\Python\\Python311\\Lib\\site-packages\\sklearn\\neural_network\\_multilayer_perceptron.py:702: ConvergenceWarning: Stochastic Optimizer: Maximum iterations (200) reached and the optimization hasn't converged yet.\n",
      "  warnings.warn(\n"
     ]
    },
    {
     "name": "stdout",
     "output_type": "stream",
     "text": [
      "[CV 5/5] END activation=relu, learning_rate=adaptive, learning_rate_init=0.001;, score=0.917 total time=   0.6s\n",
      "[CV 1/5] END activation=tanh, learning_rate=constant , learning_rate_init=0.1;, score=nan total time=   0.0s\n",
      "[CV 2/5] END activation=tanh, learning_rate=constant , learning_rate_init=0.1;, score=nan total time=   0.0s\n",
      "[CV 3/5] END activation=tanh, learning_rate=constant , learning_rate_init=0.1;, score=nan total time=   0.0s\n",
      "[CV 4/5] END activation=tanh, learning_rate=constant , learning_rate_init=0.1;, score=nan total time=   0.0s\n",
      "[CV 5/5] END activation=tanh, learning_rate=constant , learning_rate_init=0.1;, score=nan total time=   0.0s\n",
      "[CV 1/5] END activation=tanh, learning_rate=constant , learning_rate_init=0.01;, score=nan total time=   0.0s\n",
      "[CV 2/5] END activation=tanh, learning_rate=constant , learning_rate_init=0.01;, score=nan total time=   0.0s\n",
      "[CV 3/5] END activation=tanh, learning_rate=constant , learning_rate_init=0.01;, score=nan total time=   0.0s\n",
      "[CV 4/5] END activation=tanh, learning_rate=constant , learning_rate_init=0.01;, score=nan total time=   0.0s\n",
      "[CV 5/5] END activation=tanh, learning_rate=constant , learning_rate_init=0.01;, score=nan total time=   0.0s\n",
      "[CV 1/5] END activation=tanh, learning_rate=constant , learning_rate_init=0.001;, score=nan total time=   0.0s\n",
      "[CV 2/5] END activation=tanh, learning_rate=constant , learning_rate_init=0.001;, score=nan total time=   0.0s\n",
      "[CV 3/5] END activation=tanh, learning_rate=constant , learning_rate_init=0.001;, score=nan total time=   0.0s\n",
      "[CV 4/5] END activation=tanh, learning_rate=constant , learning_rate_init=0.001;, score=nan total time=   0.0s\n",
      "[CV 5/5] END activation=tanh, learning_rate=constant , learning_rate_init=0.001;, score=nan total time=   0.0s\n",
      "[CV 1/5] END activation=tanh, learning_rate=constant , learning_rate_init=0.001;, score=nan total time=   0.0s\n",
      "[CV 2/5] END activation=tanh, learning_rate=constant , learning_rate_init=0.001;, score=nan total time=   0.0s\n",
      "[CV 3/5] END activation=tanh, learning_rate=constant , learning_rate_init=0.001;, score=nan total time=   0.0s\n",
      "[CV 4/5] END activation=tanh, learning_rate=constant , learning_rate_init=0.001;, score=nan total time=   0.0s\n",
      "[CV 5/5] END activation=tanh, learning_rate=constant , learning_rate_init=0.001;, score=nan total time=   0.0s\n",
      "[CV 1/5] END activation=tanh, learning_rate=invscaling , learning_rate_init=0.1;, score=nan total time=   0.0s\n",
      "[CV 2/5] END activation=tanh, learning_rate=invscaling , learning_rate_init=0.1;, score=nan total time=   0.0s\n",
      "[CV 3/5] END activation=tanh, learning_rate=invscaling , learning_rate_init=0.1;, score=nan total time=   0.0s\n",
      "[CV 4/5] END activation=tanh, learning_rate=invscaling , learning_rate_init=0.1;, score=nan total time=   0.0s\n",
      "[CV 5/5] END activation=tanh, learning_rate=invscaling , learning_rate_init=0.1;, score=nan total time=   0.0s\n",
      "[CV 1/5] END activation=tanh, learning_rate=invscaling , learning_rate_init=0.01;, score=nan total time=   0.0s\n",
      "[CV 2/5] END activation=tanh, learning_rate=invscaling , learning_rate_init=0.01;, score=nan total time=   0.0s\n",
      "[CV 3/5] END activation=tanh, learning_rate=invscaling , learning_rate_init=0.01;, score=nan total time=   0.0s\n",
      "[CV 4/5] END activation=tanh, learning_rate=invscaling , learning_rate_init=0.01;, score=nan total time=   0.0s\n",
      "[CV 5/5] END activation=tanh, learning_rate=invscaling , learning_rate_init=0.01;, score=nan total time=   0.0s\n",
      "[CV 1/5] END activation=tanh, learning_rate=invscaling , learning_rate_init=0.001;, score=nan total time=   0.0s\n",
      "[CV 2/5] END activation=tanh, learning_rate=invscaling , learning_rate_init=0.001;, score=nan total time=   0.0s\n",
      "[CV 3/5] END activation=tanh, learning_rate=invscaling , learning_rate_init=0.001;, score=nan total time=   0.0s\n",
      "[CV 4/5] END activation=tanh, learning_rate=invscaling , learning_rate_init=0.001;, score=nan total time=   0.0s\n",
      "[CV 5/5] END activation=tanh, learning_rate=invscaling , learning_rate_init=0.001;, score=nan total time=   0.0s\n",
      "[CV 1/5] END activation=tanh, learning_rate=invscaling , learning_rate_init=0.001;, score=nan total time=   0.0s\n",
      "[CV 2/5] END activation=tanh, learning_rate=invscaling , learning_rate_init=0.001;, score=nan total time=   0.0s\n",
      "[CV 3/5] END activation=tanh, learning_rate=invscaling , learning_rate_init=0.001;, score=nan total time=   0.0s\n",
      "[CV 4/5] END activation=tanh, learning_rate=invscaling , learning_rate_init=0.001;, score=nan total time=   0.0s\n",
      "[CV 5/5] END activation=tanh, learning_rate=invscaling , learning_rate_init=0.001;, score=nan total time=   0.0s\n",
      "[CV 1/5] END activation=tanh, learning_rate=adaptive, learning_rate_init=0.1;, score=0.909 total time=   0.0s\n",
      "[CV 2/5] END activation=tanh, learning_rate=adaptive, learning_rate_init=0.1;, score=0.876 total time=   0.0s\n",
      "[CV 3/5] END activation=tanh, learning_rate=adaptive, learning_rate_init=0.1;, score=0.876 total time=   0.0s\n",
      "[CV 4/5] END activation=tanh, learning_rate=adaptive, learning_rate_init=0.1;, score=0.868 total time=   0.1s\n",
      "[CV 5/5] END activation=tanh, learning_rate=adaptive, learning_rate_init=0.1;, score=0.883 total time=   0.0s\n",
      "[CV 1/5] END activation=tanh, learning_rate=adaptive, learning_rate_init=0.01;, score=0.950 total time=   0.0s\n",
      "[CV 2/5] END activation=tanh, learning_rate=adaptive, learning_rate_init=0.01;, score=0.934 total time=   0.2s\n",
      "[CV 3/5] END activation=tanh, learning_rate=adaptive, learning_rate_init=0.01;, score=0.967 total time=   0.2s\n",
      "[CV 4/5] END activation=tanh, learning_rate=adaptive, learning_rate_init=0.01;, score=0.926 total time=   0.2s\n",
      "[CV 5/5] END activation=tanh, learning_rate=adaptive, learning_rate_init=0.01;, score=0.967 total time=   0.2s\n"
     ]
    },
    {
     "name": "stderr",
     "output_type": "stream",
     "text": [
      "c:\\Users\\HP\\AppData\\Local\\Programs\\Python\\Python311\\Lib\\site-packages\\sklearn\\neural_network\\_multilayer_perceptron.py:702: ConvergenceWarning: Stochastic Optimizer: Maximum iterations (200) reached and the optimization hasn't converged yet.\n",
      "  warnings.warn(\n"
     ]
    },
    {
     "name": "stdout",
     "output_type": "stream",
     "text": [
      "[CV 1/5] END activation=tanh, learning_rate=adaptive, learning_rate_init=0.001;, score=0.893 total time=   0.5s\n"
     ]
    },
    {
     "name": "stderr",
     "output_type": "stream",
     "text": [
      "c:\\Users\\HP\\AppData\\Local\\Programs\\Python\\Python311\\Lib\\site-packages\\sklearn\\neural_network\\_multilayer_perceptron.py:702: ConvergenceWarning: Stochastic Optimizer: Maximum iterations (200) reached and the optimization hasn't converged yet.\n",
      "  warnings.warn(\n"
     ]
    },
    {
     "name": "stdout",
     "output_type": "stream",
     "text": [
      "[CV 2/5] END activation=tanh, learning_rate=adaptive, learning_rate_init=0.001;, score=0.901 total time=   1.2s\n"
     ]
    },
    {
     "name": "stderr",
     "output_type": "stream",
     "text": [
      "c:\\Users\\HP\\AppData\\Local\\Programs\\Python\\Python311\\Lib\\site-packages\\sklearn\\neural_network\\_multilayer_perceptron.py:702: ConvergenceWarning: Stochastic Optimizer: Maximum iterations (200) reached and the optimization hasn't converged yet.\n",
      "  warnings.warn(\n"
     ]
    },
    {
     "name": "stdout",
     "output_type": "stream",
     "text": [
      "[CV 3/5] END activation=tanh, learning_rate=adaptive, learning_rate_init=0.001;, score=0.942 total time=   0.6s\n"
     ]
    },
    {
     "name": "stderr",
     "output_type": "stream",
     "text": [
      "c:\\Users\\HP\\AppData\\Local\\Programs\\Python\\Python311\\Lib\\site-packages\\sklearn\\neural_network\\_multilayer_perceptron.py:702: ConvergenceWarning: Stochastic Optimizer: Maximum iterations (200) reached and the optimization hasn't converged yet.\n",
      "  warnings.warn(\n"
     ]
    },
    {
     "name": "stdout",
     "output_type": "stream",
     "text": [
      "[CV 4/5] END activation=tanh, learning_rate=adaptive, learning_rate_init=0.001;, score=0.876 total time=   1.2s\n",
      "[CV 5/5] END activation=tanh, learning_rate=adaptive, learning_rate_init=0.001;, score=0.883 total time=   0.4s\n"
     ]
    },
    {
     "name": "stderr",
     "output_type": "stream",
     "text": [
      "c:\\Users\\HP\\AppData\\Local\\Programs\\Python\\Python311\\Lib\\site-packages\\sklearn\\neural_network\\_multilayer_perceptron.py:702: ConvergenceWarning: Stochastic Optimizer: Maximum iterations (200) reached and the optimization hasn't converged yet.\n",
      "  warnings.warn(\n"
     ]
    },
    {
     "name": "stdout",
     "output_type": "stream",
     "text": [
      "[CV 1/5] END activation=tanh, learning_rate=adaptive, learning_rate_init=0.001;, score=0.917 total time=   1.0s\n"
     ]
    },
    {
     "name": "stderr",
     "output_type": "stream",
     "text": [
      "c:\\Users\\HP\\AppData\\Local\\Programs\\Python\\Python311\\Lib\\site-packages\\sklearn\\neural_network\\_multilayer_perceptron.py:702: ConvergenceWarning: Stochastic Optimizer: Maximum iterations (200) reached and the optimization hasn't converged yet.\n",
      "  warnings.warn(\n"
     ]
    },
    {
     "name": "stdout",
     "output_type": "stream",
     "text": [
      "[CV 2/5] END activation=tanh, learning_rate=adaptive, learning_rate_init=0.001;, score=0.884 total time=   0.7s\n"
     ]
    },
    {
     "name": "stderr",
     "output_type": "stream",
     "text": [
      "c:\\Users\\HP\\AppData\\Local\\Programs\\Python\\Python311\\Lib\\site-packages\\sklearn\\neural_network\\_multilayer_perceptron.py:702: ConvergenceWarning: Stochastic Optimizer: Maximum iterations (200) reached and the optimization hasn't converged yet.\n",
      "  warnings.warn(\n"
     ]
    },
    {
     "name": "stdout",
     "output_type": "stream",
     "text": [
      "[CV 3/5] END activation=tanh, learning_rate=adaptive, learning_rate_init=0.001;, score=0.901 total time=   0.8s\n"
     ]
    },
    {
     "name": "stderr",
     "output_type": "stream",
     "text": [
      "c:\\Users\\HP\\AppData\\Local\\Programs\\Python\\Python311\\Lib\\site-packages\\sklearn\\neural_network\\_multilayer_perceptron.py:702: ConvergenceWarning: Stochastic Optimizer: Maximum iterations (200) reached and the optimization hasn't converged yet.\n",
      "  warnings.warn(\n"
     ]
    },
    {
     "name": "stdout",
     "output_type": "stream",
     "text": [
      "[CV 4/5] END activation=tanh, learning_rate=adaptive, learning_rate_init=0.001;, score=0.868 total time=   0.5s\n"
     ]
    },
    {
     "name": "stderr",
     "output_type": "stream",
     "text": [
      "c:\\Users\\HP\\AppData\\Local\\Programs\\Python\\Python311\\Lib\\site-packages\\sklearn\\neural_network\\_multilayer_perceptron.py:702: ConvergenceWarning: Stochastic Optimizer: Maximum iterations (200) reached and the optimization hasn't converged yet.\n",
      "  warnings.warn(\n"
     ]
    },
    {
     "name": "stdout",
     "output_type": "stream",
     "text": [
      "[CV 5/5] END activation=tanh, learning_rate=adaptive, learning_rate_init=0.001;, score=0.908 total time=   1.0s\n",
      "[CV 1/5] END activation=identity, learning_rate=constant , learning_rate_init=0.1;, score=nan total time=   0.0s\n",
      "[CV 2/5] END activation=identity, learning_rate=constant , learning_rate_init=0.1;, score=nan total time=   0.0s\n",
      "[CV 3/5] END activation=identity, learning_rate=constant , learning_rate_init=0.1;, score=nan total time=   0.0s\n",
      "[CV 4/5] END activation=identity, learning_rate=constant , learning_rate_init=0.1;, score=nan total time=   0.0s\n",
      "[CV 5/5] END activation=identity, learning_rate=constant , learning_rate_init=0.1;, score=nan total time=   0.0s\n",
      "[CV 1/5] END activation=identity, learning_rate=constant , learning_rate_init=0.01;, score=nan total time=   0.0s\n",
      "[CV 2/5] END activation=identity, learning_rate=constant , learning_rate_init=0.01;, score=nan total time=   0.0s\n",
      "[CV 3/5] END activation=identity, learning_rate=constant , learning_rate_init=0.01;, score=nan total time=   0.0s\n",
      "[CV 4/5] END activation=identity, learning_rate=constant , learning_rate_init=0.01;, score=nan total time=   0.0s\n",
      "[CV 5/5] END activation=identity, learning_rate=constant , learning_rate_init=0.01;, score=nan total time=   0.0s\n",
      "[CV 1/5] END activation=identity, learning_rate=constant , learning_rate_init=0.001;, score=nan total time=   0.0s\n",
      "[CV 2/5] END activation=identity, learning_rate=constant , learning_rate_init=0.001;, score=nan total time=   0.0s\n",
      "[CV 3/5] END activation=identity, learning_rate=constant , learning_rate_init=0.001;, score=nan total time=   0.0s\n",
      "[CV 4/5] END activation=identity, learning_rate=constant , learning_rate_init=0.001;, score=nan total time=   0.0s\n",
      "[CV 5/5] END activation=identity, learning_rate=constant , learning_rate_init=0.001;, score=nan total time=   0.0s\n",
      "[CV 1/5] END activation=identity, learning_rate=constant , learning_rate_init=0.001;, score=nan total time=   0.0s\n",
      "[CV 2/5] END activation=identity, learning_rate=constant , learning_rate_init=0.001;, score=nan total time=   0.0s\n",
      "[CV 3/5] END activation=identity, learning_rate=constant , learning_rate_init=0.001;, score=nan total time=   0.0s\n",
      "[CV 4/5] END activation=identity, learning_rate=constant , learning_rate_init=0.001;, score=nan total time=   0.0s\n",
      "[CV 5/5] END activation=identity, learning_rate=constant , learning_rate_init=0.001;, score=nan total time=   0.0s\n",
      "[CV 1/5] END activation=identity, learning_rate=invscaling , learning_rate_init=0.1;, score=nan total time=   0.0s\n",
      "[CV 2/5] END activation=identity, learning_rate=invscaling , learning_rate_init=0.1;, score=nan total time=   0.0s\n",
      "[CV 3/5] END activation=identity, learning_rate=invscaling , learning_rate_init=0.1;, score=nan total time=   0.0s\n",
      "[CV 4/5] END activation=identity, learning_rate=invscaling , learning_rate_init=0.1;, score=nan total time=   0.0s\n",
      "[CV 5/5] END activation=identity, learning_rate=invscaling , learning_rate_init=0.1;, score=nan total time=   0.0s\n",
      "[CV 1/5] END activation=identity, learning_rate=invscaling , learning_rate_init=0.01;, score=nan total time=   0.0s\n",
      "[CV 2/5] END activation=identity, learning_rate=invscaling , learning_rate_init=0.01;, score=nan total time=   0.0s\n",
      "[CV 3/5] END activation=identity, learning_rate=invscaling , learning_rate_init=0.01;, score=nan total time=   0.0s\n",
      "[CV 4/5] END activation=identity, learning_rate=invscaling , learning_rate_init=0.01;, score=nan total time=   0.0s\n",
      "[CV 5/5] END activation=identity, learning_rate=invscaling , learning_rate_init=0.01;, score=nan total time=   0.0s\n",
      "[CV 1/5] END activation=identity, learning_rate=invscaling , learning_rate_init=0.001;, score=nan total time=   0.0s\n",
      "[CV 2/5] END activation=identity, learning_rate=invscaling , learning_rate_init=0.001;, score=nan total time=   0.0s\n",
      "[CV 3/5] END activation=identity, learning_rate=invscaling , learning_rate_init=0.001;, score=nan total time=   0.0s\n",
      "[CV 4/5] END activation=identity, learning_rate=invscaling , learning_rate_init=0.001;, score=nan total time=   0.0s\n",
      "[CV 5/5] END activation=identity, learning_rate=invscaling , learning_rate_init=0.001;, score=nan total time=   0.0s\n",
      "[CV 1/5] END activation=identity, learning_rate=invscaling , learning_rate_init=0.001;, score=nan total time=   0.0s\n",
      "[CV 2/5] END activation=identity, learning_rate=invscaling , learning_rate_init=0.001;, score=nan total time=   0.0s\n",
      "[CV 3/5] END activation=identity, learning_rate=invscaling , learning_rate_init=0.001;, score=nan total time=   0.0s\n",
      "[CV 4/5] END activation=identity, learning_rate=invscaling , learning_rate_init=0.001;, score=nan total time=   0.0s\n",
      "[CV 5/5] END activation=identity, learning_rate=invscaling , learning_rate_init=0.001;, score=nan total time=   0.0s\n",
      "[CV 1/5] END activation=identity, learning_rate=adaptive, learning_rate_init=0.1;, score=0.942 total time=   0.2s\n",
      "[CV 2/5] END activation=identity, learning_rate=adaptive, learning_rate_init=0.1;, score=0.917 total time=   0.1s\n",
      "[CV 3/5] END activation=identity, learning_rate=adaptive, learning_rate_init=0.1;, score=0.950 total time=   0.2s\n",
      "[CV 4/5] END activation=identity, learning_rate=adaptive, learning_rate_init=0.1;, score=0.893 total time=   0.2s\n",
      "[CV 5/5] END activation=identity, learning_rate=adaptive, learning_rate_init=0.1;, score=0.967 total time=   0.1s\n",
      "[CV 1/5] END activation=identity, learning_rate=adaptive, learning_rate_init=0.01;, score=0.942 total time=   0.6s\n",
      "[CV 2/5] END activation=identity, learning_rate=adaptive, learning_rate_init=0.01;, score=0.926 total time=   0.3s\n",
      "[CV 3/5] END activation=identity, learning_rate=adaptive, learning_rate_init=0.01;, score=0.959 total time=   0.5s\n",
      "[CV 4/5] END activation=identity, learning_rate=adaptive, learning_rate_init=0.01;, score=0.893 total time=   0.1s\n",
      "[CV 5/5] END activation=identity, learning_rate=adaptive, learning_rate_init=0.01;, score=0.817 total time=   0.1s\n"
     ]
    },
    {
     "name": "stderr",
     "output_type": "stream",
     "text": [
      "c:\\Users\\HP\\AppData\\Local\\Programs\\Python\\Python311\\Lib\\site-packages\\sklearn\\neural_network\\_multilayer_perceptron.py:702: ConvergenceWarning: Stochastic Optimizer: Maximum iterations (200) reached and the optimization hasn't converged yet.\n",
      "  warnings.warn(\n"
     ]
    },
    {
     "name": "stdout",
     "output_type": "stream",
     "text": [
      "[CV 1/5] END activation=identity, learning_rate=adaptive, learning_rate_init=0.001;, score=0.942 total time=   0.7s\n"
     ]
    },
    {
     "name": "stderr",
     "output_type": "stream",
     "text": [
      "c:\\Users\\HP\\AppData\\Local\\Programs\\Python\\Python311\\Lib\\site-packages\\sklearn\\neural_network\\_multilayer_perceptron.py:702: ConvergenceWarning: Stochastic Optimizer: Maximum iterations (200) reached and the optimization hasn't converged yet.\n",
      "  warnings.warn(\n"
     ]
    },
    {
     "name": "stdout",
     "output_type": "stream",
     "text": [
      "[CV 2/5] END activation=identity, learning_rate=adaptive, learning_rate_init=0.001;, score=0.901 total time=   0.4s\n"
     ]
    },
    {
     "name": "stderr",
     "output_type": "stream",
     "text": [
      "c:\\Users\\HP\\AppData\\Local\\Programs\\Python\\Python311\\Lib\\site-packages\\sklearn\\neural_network\\_multilayer_perceptron.py:702: ConvergenceWarning: Stochastic Optimizer: Maximum iterations (200) reached and the optimization hasn't converged yet.\n",
      "  warnings.warn(\n"
     ]
    },
    {
     "name": "stdout",
     "output_type": "stream",
     "text": [
      "[CV 3/5] END activation=identity, learning_rate=adaptive, learning_rate_init=0.001;, score=0.950 total time=   0.8s\n",
      "[CV 4/5] END activation=identity, learning_rate=adaptive, learning_rate_init=0.001;, score=0.860 total time=   0.0s\n"
     ]
    },
    {
     "name": "stderr",
     "output_type": "stream",
     "text": [
      "c:\\Users\\HP\\AppData\\Local\\Programs\\Python\\Python311\\Lib\\site-packages\\sklearn\\neural_network\\_multilayer_perceptron.py:702: ConvergenceWarning: Stochastic Optimizer: Maximum iterations (200) reached and the optimization hasn't converged yet.\n",
      "  warnings.warn(\n"
     ]
    },
    {
     "name": "stdout",
     "output_type": "stream",
     "text": [
      "[CV 5/5] END activation=identity, learning_rate=adaptive, learning_rate_init=0.001;, score=0.958 total time=   0.6s\n"
     ]
    },
    {
     "name": "stderr",
     "output_type": "stream",
     "text": [
      "c:\\Users\\HP\\AppData\\Local\\Programs\\Python\\Python311\\Lib\\site-packages\\sklearn\\neural_network\\_multilayer_perceptron.py:702: ConvergenceWarning: Stochastic Optimizer: Maximum iterations (200) reached and the optimization hasn't converged yet.\n",
      "  warnings.warn(\n"
     ]
    },
    {
     "name": "stdout",
     "output_type": "stream",
     "text": [
      "[CV 1/5] END activation=identity, learning_rate=adaptive, learning_rate_init=0.001;, score=0.917 total time=   0.8s\n"
     ]
    },
    {
     "name": "stderr",
     "output_type": "stream",
     "text": [
      "c:\\Users\\HP\\AppData\\Local\\Programs\\Python\\Python311\\Lib\\site-packages\\sklearn\\neural_network\\_multilayer_perceptron.py:702: ConvergenceWarning: Stochastic Optimizer: Maximum iterations (200) reached and the optimization hasn't converged yet.\n",
      "  warnings.warn(\n"
     ]
    },
    {
     "name": "stdout",
     "output_type": "stream",
     "text": [
      "[CV 2/5] END activation=identity, learning_rate=adaptive, learning_rate_init=0.001;, score=0.909 total time=   0.7s\n"
     ]
    },
    {
     "name": "stderr",
     "output_type": "stream",
     "text": [
      "c:\\Users\\HP\\AppData\\Local\\Programs\\Python\\Python311\\Lib\\site-packages\\sklearn\\neural_network\\_multilayer_perceptron.py:702: ConvergenceWarning: Stochastic Optimizer: Maximum iterations (200) reached and the optimization hasn't converged yet.\n",
      "  warnings.warn(\n"
     ]
    },
    {
     "name": "stdout",
     "output_type": "stream",
     "text": [
      "[CV 3/5] END activation=identity, learning_rate=adaptive, learning_rate_init=0.001;, score=0.967 total time=   0.5s\n"
     ]
    },
    {
     "name": "stderr",
     "output_type": "stream",
     "text": [
      "c:\\Users\\HP\\AppData\\Local\\Programs\\Python\\Python311\\Lib\\site-packages\\sklearn\\neural_network\\_multilayer_perceptron.py:702: ConvergenceWarning: Stochastic Optimizer: Maximum iterations (200) reached and the optimization hasn't converged yet.\n",
      "  warnings.warn(\n"
     ]
    },
    {
     "name": "stdout",
     "output_type": "stream",
     "text": [
      "[CV 4/5] END activation=identity, learning_rate=adaptive, learning_rate_init=0.001;, score=0.917 total time=   0.9s\n",
      "[CV 5/5] END activation=identity, learning_rate=adaptive, learning_rate_init=0.001;, score=0.958 total time=   0.8s\n"
     ]
    },
    {
     "name": "stderr",
     "output_type": "stream",
     "text": [
      "c:\\Users\\HP\\AppData\\Local\\Programs\\Python\\Python311\\Lib\\site-packages\\sklearn\\model_selection\\_validation.py:378: FitFailedWarning: \n",
      "160 fits failed out of a total of 240.\n",
      "The score on these train-test partitions for these parameters will be set to nan.\n",
      "If these failures are not expected, you can try to debug them by setting error_score='raise'.\n",
      "\n",
      "Below are more details about the failures:\n",
      "--------------------------------------------------------------------------------\n",
      "80 fits failed with the following error:\n",
      "Traceback (most recent call last):\n",
      "  File \"c:\\Users\\HP\\AppData\\Local\\Programs\\Python\\Python311\\Lib\\site-packages\\sklearn\\model_selection\\_validation.py\", line 686, in _fit_and_score\n",
      "    estimator.fit(X_train, y_train, **fit_params)\n",
      "  File \"c:\\Users\\HP\\AppData\\Local\\Programs\\Python\\Python311\\Lib\\site-packages\\sklearn\\neural_network\\_multilayer_perceptron.py\", line 762, in fit\n",
      "    return self._fit(X, y, incremental=False)\n",
      "           ^^^^^^^^^^^^^^^^^^^^^^^^^^^^^^^^^^\n",
      "  File \"c:\\Users\\HP\\AppData\\Local\\Programs\\Python\\Python311\\Lib\\site-packages\\sklearn\\neural_network\\_multilayer_perceptron.py\", line 385, in _fit\n",
      "    self._validate_hyperparameters()\n",
      "  File \"c:\\Users\\HP\\AppData\\Local\\Programs\\Python\\Python311\\Lib\\site-packages\\sklearn\\neural_network\\_multilayer_perceptron.py\", line 508, in _validate_hyperparameters\n",
      "    raise ValueError(\"learning rate %s is not supported. \" % self.learning_rate)\n",
      "ValueError: learning rate constant  is not supported. \n",
      "\n",
      "--------------------------------------------------------------------------------\n",
      "80 fits failed with the following error:\n",
      "Traceback (most recent call last):\n",
      "  File \"c:\\Users\\HP\\AppData\\Local\\Programs\\Python\\Python311\\Lib\\site-packages\\sklearn\\model_selection\\_validation.py\", line 686, in _fit_and_score\n",
      "    estimator.fit(X_train, y_train, **fit_params)\n",
      "  File \"c:\\Users\\HP\\AppData\\Local\\Programs\\Python\\Python311\\Lib\\site-packages\\sklearn\\neural_network\\_multilayer_perceptron.py\", line 762, in fit\n",
      "    return self._fit(X, y, incremental=False)\n",
      "           ^^^^^^^^^^^^^^^^^^^^^^^^^^^^^^^^^^\n",
      "  File \"c:\\Users\\HP\\AppData\\Local\\Programs\\Python\\Python311\\Lib\\site-packages\\sklearn\\neural_network\\_multilayer_perceptron.py\", line 385, in _fit\n",
      "    self._validate_hyperparameters()\n",
      "  File \"c:\\Users\\HP\\AppData\\Local\\Programs\\Python\\Python311\\Lib\\site-packages\\sklearn\\neural_network\\_multilayer_perceptron.py\", line 508, in _validate_hyperparameters\n",
      "    raise ValueError(\"learning rate %s is not supported. \" % self.learning_rate)\n",
      "ValueError: learning rate invscaling  is not supported. \n",
      "\n",
      "  warnings.warn(some_fits_failed_message, FitFailedWarning)\n",
      "c:\\Users\\HP\\AppData\\Local\\Programs\\Python\\Python311\\Lib\\site-packages\\sklearn\\model_selection\\_search.py:953: UserWarning: One or more of the test scores are non-finite: [       nan        nan        nan        nan        nan        nan\n",
      "        nan        nan 0.87914601 0.9387741  0.87914601 0.87914601\n",
      "        nan        nan        nan        nan        nan        nan\n",
      "        nan        nan 0.88741047 0.94039945 0.92552342 0.92052342\n",
      "        nan        nan        nan        nan        nan        nan\n",
      "        nan        nan 0.88245179 0.94870523 0.89898072 0.89571625\n",
      "        nan        nan        nan        nan        nan        nan\n",
      "        nan        nan 0.9338292  0.90713499 0.92224518 0.93381543]\n",
      "  warnings.warn(\n"
     ]
    },
    {
     "data": {
      "text/html": [
       "<style>#sk-container-id-3 {color: black;background-color: white;}#sk-container-id-3 pre{padding: 0;}#sk-container-id-3 div.sk-toggleable {background-color: white;}#sk-container-id-3 label.sk-toggleable__label {cursor: pointer;display: block;width: 100%;margin-bottom: 0;padding: 0.3em;box-sizing: border-box;text-align: center;}#sk-container-id-3 label.sk-toggleable__label-arrow:before {content: \"▸\";float: left;margin-right: 0.25em;color: #696969;}#sk-container-id-3 label.sk-toggleable__label-arrow:hover:before {color: black;}#sk-container-id-3 div.sk-estimator:hover label.sk-toggleable__label-arrow:before {color: black;}#sk-container-id-3 div.sk-toggleable__content {max-height: 0;max-width: 0;overflow: hidden;text-align: left;background-color: #f0f8ff;}#sk-container-id-3 div.sk-toggleable__content pre {margin: 0.2em;color: black;border-radius: 0.25em;background-color: #f0f8ff;}#sk-container-id-3 input.sk-toggleable__control:checked~div.sk-toggleable__content {max-height: 200px;max-width: 100%;overflow: auto;}#sk-container-id-3 input.sk-toggleable__control:checked~label.sk-toggleable__label-arrow:before {content: \"▾\";}#sk-container-id-3 div.sk-estimator input.sk-toggleable__control:checked~label.sk-toggleable__label {background-color: #d4ebff;}#sk-container-id-3 div.sk-label input.sk-toggleable__control:checked~label.sk-toggleable__label {background-color: #d4ebff;}#sk-container-id-3 input.sk-hidden--visually {border: 0;clip: rect(1px 1px 1px 1px);clip: rect(1px, 1px, 1px, 1px);height: 1px;margin: -1px;overflow: hidden;padding: 0;position: absolute;width: 1px;}#sk-container-id-3 div.sk-estimator {font-family: monospace;background-color: #f0f8ff;border: 1px dotted black;border-radius: 0.25em;box-sizing: border-box;margin-bottom: 0.5em;}#sk-container-id-3 div.sk-estimator:hover {background-color: #d4ebff;}#sk-container-id-3 div.sk-parallel-item::after {content: \"\";width: 100%;border-bottom: 1px solid gray;flex-grow: 1;}#sk-container-id-3 div.sk-label:hover label.sk-toggleable__label {background-color: #d4ebff;}#sk-container-id-3 div.sk-serial::before {content: \"\";position: absolute;border-left: 1px solid gray;box-sizing: border-box;top: 0;bottom: 0;left: 50%;z-index: 0;}#sk-container-id-3 div.sk-serial {display: flex;flex-direction: column;align-items: center;background-color: white;padding-right: 0.2em;padding-left: 0.2em;position: relative;}#sk-container-id-3 div.sk-item {position: relative;z-index: 1;}#sk-container-id-3 div.sk-parallel {display: flex;align-items: stretch;justify-content: center;background-color: white;position: relative;}#sk-container-id-3 div.sk-item::before, #sk-container-id-3 div.sk-parallel-item::before {content: \"\";position: absolute;border-left: 1px solid gray;box-sizing: border-box;top: 0;bottom: 0;left: 50%;z-index: -1;}#sk-container-id-3 div.sk-parallel-item {display: flex;flex-direction: column;z-index: 1;position: relative;background-color: white;}#sk-container-id-3 div.sk-parallel-item:first-child::after {align-self: flex-end;width: 50%;}#sk-container-id-3 div.sk-parallel-item:last-child::after {align-self: flex-start;width: 50%;}#sk-container-id-3 div.sk-parallel-item:only-child::after {width: 0;}#sk-container-id-3 div.sk-dashed-wrapped {border: 1px dashed gray;margin: 0 0.4em 0.5em 0.4em;box-sizing: border-box;padding-bottom: 0.4em;background-color: white;}#sk-container-id-3 div.sk-label label {font-family: monospace;font-weight: bold;display: inline-block;line-height: 1.2em;}#sk-container-id-3 div.sk-label-container {text-align: center;}#sk-container-id-3 div.sk-container {/* jupyter's `normalize.less` sets `[hidden] { display: none; }` but bootstrap.min.css set `[hidden] { display: none !important; }` so we also need the `!important` here to be able to override the default hidden behavior on the sphinx rendered scikit-learn.org. See: https://github.com/scikit-learn/scikit-learn/issues/21755 */display: inline-block !important;position: relative;}#sk-container-id-3 div.sk-text-repr-fallback {display: none;}</style><div id=\"sk-container-id-3\" class=\"sk-top-container\"><div class=\"sk-text-repr-fallback\"><pre>GridSearchCV(estimator=MLPClassifier(hidden_layer_sizes=(10, 10),\n",
       "                                     learning_rate=&#x27;adaptive&#x27;,\n",
       "                                     learning_rate_init=0.01),\n",
       "             param_grid={&#x27;activation&#x27;: [&#x27;logistic&#x27;, &#x27;relu&#x27;, &#x27;tanh&#x27;, &#x27;identity&#x27;],\n",
       "                         &#x27;learning_rate&#x27;: [&#x27;constant &#x27;, &#x27;invscaling &#x27;,\n",
       "                                           &#x27;adaptive&#x27;],\n",
       "                         &#x27;learning_rate_init&#x27;: [0.1, 0.01, 0.001, 0.001]},\n",
       "             verbose=3)</pre><b>In a Jupyter environment, please rerun this cell to show the HTML representation or trust the notebook. <br />On GitHub, the HTML representation is unable to render, please try loading this page with nbviewer.org.</b></div><div class=\"sk-container\" hidden><div class=\"sk-item sk-dashed-wrapped\"><div class=\"sk-label-container\"><div class=\"sk-label sk-toggleable\"><input class=\"sk-toggleable__control sk-hidden--visually\" id=\"sk-estimator-id-7\" type=\"checkbox\" ><label for=\"sk-estimator-id-7\" class=\"sk-toggleable__label sk-toggleable__label-arrow\">GridSearchCV</label><div class=\"sk-toggleable__content\"><pre>GridSearchCV(estimator=MLPClassifier(hidden_layer_sizes=(10, 10),\n",
       "                                     learning_rate=&#x27;adaptive&#x27;,\n",
       "                                     learning_rate_init=0.01),\n",
       "             param_grid={&#x27;activation&#x27;: [&#x27;logistic&#x27;, &#x27;relu&#x27;, &#x27;tanh&#x27;, &#x27;identity&#x27;],\n",
       "                         &#x27;learning_rate&#x27;: [&#x27;constant &#x27;, &#x27;invscaling &#x27;,\n",
       "                                           &#x27;adaptive&#x27;],\n",
       "                         &#x27;learning_rate_init&#x27;: [0.1, 0.01, 0.001, 0.001]},\n",
       "             verbose=3)</pre></div></div></div><div class=\"sk-parallel\"><div class=\"sk-parallel-item\"><div class=\"sk-item\"><div class=\"sk-label-container\"><div class=\"sk-label sk-toggleable\"><input class=\"sk-toggleable__control sk-hidden--visually\" id=\"sk-estimator-id-8\" type=\"checkbox\" ><label for=\"sk-estimator-id-8\" class=\"sk-toggleable__label sk-toggleable__label-arrow\">estimator: MLPClassifier</label><div class=\"sk-toggleable__content\"><pre>MLPClassifier(hidden_layer_sizes=(10, 10), learning_rate=&#x27;adaptive&#x27;,\n",
       "              learning_rate_init=0.01)</pre></div></div></div><div class=\"sk-serial\"><div class=\"sk-item\"><div class=\"sk-estimator sk-toggleable\"><input class=\"sk-toggleable__control sk-hidden--visually\" id=\"sk-estimator-id-9\" type=\"checkbox\" ><label for=\"sk-estimator-id-9\" class=\"sk-toggleable__label sk-toggleable__label-arrow\">MLPClassifier</label><div class=\"sk-toggleable__content\"><pre>MLPClassifier(hidden_layer_sizes=(10, 10), learning_rate=&#x27;adaptive&#x27;,\n",
       "              learning_rate_init=0.01)</pre></div></div></div></div></div></div></div></div></div></div>"
      ],
      "text/plain": [
       "GridSearchCV(estimator=MLPClassifier(hidden_layer_sizes=(10, 10),\n",
       "                                     learning_rate='adaptive',\n",
       "                                     learning_rate_init=0.01),\n",
       "             param_grid={'activation': ['logistic', 'relu', 'tanh', 'identity'],\n",
       "                         'learning_rate': ['constant ', 'invscaling ',\n",
       "                                           'adaptive'],\n",
       "                         'learning_rate_init': [0.1, 0.01, 0.001, 0.001]},\n",
       "             verbose=3)"
      ]
     },
     "execution_count": 118,
     "metadata": {},
     "output_type": "execute_result"
    }
   ],
   "source": [
    "from sklearn.model_selection import GridSearchCV\n",
    "  \n",
    "# defining parameter range\n",
    "param_grid = {'activation': ['logistic', 'relu', 'tanh','identity'], \n",
    "               'learning_rate_init': [ 0.1, 0.01, 0.001,0.001],\n",
    "  #            'hidden_layer_sizes': [(5,5),(4,4),(6,6),(10,10),(12,12),(15,15)],\n",
    "   #           'solver':['lbfgs', 'sgd', 'adam'],\n",
    "              'learning_rate' :['constant ', 'invscaling ', 'adaptive']\n",
    "              } \n",
    "  \n",
    "grid = GridSearchCV(clf4, param_grid, refit = True, verbose = 3)\n",
    "  \n",
    "# fitting the model for grid search\n",
    "grid.fit(x_train, y_train)"
   ]
  },
  {
   "cell_type": "code",
   "execution_count": 119,
   "metadata": {},
   "outputs": [
    {
     "name": "stdout",
     "output_type": "stream",
     "text": [
      "0.9487052341597796\n",
      "{'activation': 'tanh', 'learning_rate': 'adaptive', 'learning_rate_init': 0.01}\n"
     ]
    }
   ],
   "source": [
    "print(grid.best_score_)\n",
    "print(grid.best_params_)"
   ]
  },
  {
   "cell_type": "code",
   "execution_count": 120,
   "metadata": {},
   "outputs": [
    {
     "name": "stdout",
     "output_type": "stream",
     "text": [
      "Iteration 1, loss = 5.45166143\n",
      "Iteration 2, loss = 0.54328009\n",
      "Iteration 3, loss = 0.70788776\n",
      "Iteration 4, loss = 0.46248648\n",
      "Iteration 5, loss = 0.49193933\n",
      "Iteration 6, loss = 0.39735451\n",
      "Iteration 7, loss = 0.42280558\n",
      "Iteration 8, loss = 0.35094123\n",
      "Iteration 9, loss = 0.36265714\n",
      "Iteration 10, loss = 0.31863220\n",
      "Iteration 11, loss = 0.26216602\n",
      "0.9\n",
      "5\n",
      "11\n",
      "0.26216602379481263\n"
     ]
    },
    {
     "name": "stderr",
     "output_type": "stream",
     "text": [
      "c:\\Users\\HP\\AppData\\Local\\Programs\\Python\\Python311\\Lib\\site-packages\\sklearn\\neural_network\\_multilayer_perceptron.py:702: ConvergenceWarning: Stochastic Optimizer: Maximum iterations (11) reached and the optimization hasn't converged yet.\n",
      "  warnings.warn(\n"
     ]
    }
   ],
   "source": [
    "mlp = MLPClassifier(solver='adam', activation='relu',alpha=1e-4,hidden_layer_sizes=(50,50,50), random_state=1,max_iter=11,verbose=10,learning_rate_init=.1)\n",
    "# increase alpha -> high variance causing overfitting\n",
    "mlp.fit(x_train, y_train)\n",
    "\n",
    "print (mlp.score(x_test,y_test))\n",
    "print (mlp.n_layers_)\n",
    "print (mlp.n_iter_)\n",
    "print (mlp.loss_)"
   ]
  },
  {
   "cell_type": "code",
   "execution_count": 121,
   "metadata": {},
   "outputs": [],
   "source": [
    "from sklearn.neural_network import MLPClassifier\n",
    "mlp1 = MLPClassifier(max_iter=100)\n",
    "parameter_space = {\n",
    "    'hidden_layer_sizes': [(50,50,50), (50,100,50), (100,)],\n",
    "    'activation': ['tanh', 'relu','logistic'],\n",
    "    'solver': ['sgd', 'adam'],\n",
    "    'alpha': [0.0001, 0.05],\n",
    "    'learning_rate': ['constant','adaptive'],\n",
    "}\n"
   ]
  },
  {
   "cell_type": "code",
   "execution_count": 122,
   "metadata": {},
   "outputs": [
    {
     "name": "stdout",
     "output_type": "stream",
     "text": [
      "Best parameters found:\n",
      " {'activation': 'relu', 'alpha': 0.0001, 'hidden_layer_sizes': (100,), 'learning_rate': 'constant', 'solver': 'adam'}\n"
     ]
    },
    {
     "name": "stderr",
     "output_type": "stream",
     "text": [
      "c:\\Users\\HP\\AppData\\Local\\Programs\\Python\\Python311\\Lib\\site-packages\\sklearn\\neural_network\\_multilayer_perceptron.py:702: ConvergenceWarning: Stochastic Optimizer: Maximum iterations (100) reached and the optimization hasn't converged yet.\n",
      "  warnings.warn(\n"
     ]
    }
   ],
   "source": [
    "from sklearn.model_selection import GridSearchCV,RandomizedSearchCV\n",
    "\n",
    "gridsearch = GridSearchCV(mlp1, parameter_space, n_jobs=-1, cv=3)\n",
    "gridsearch.fit(x_train, y_train)\n",
    "# Best paramete set\n",
    "print('Best parameters found:\\n', gridsearch.best_params_)\n",
    "\n"
   ]
  },
  {
   "cell_type": "code",
   "execution_count": 123,
   "metadata": {},
   "outputs": [
    {
     "name": "stdout",
     "output_type": "stream",
     "text": [
      "Results on the test set:\n",
      "              precision    recall  f1-score   support\n",
      "\n",
      "           0       0.93      0.99      0.96       116\n",
      "           1       0.86      0.43      0.57        14\n",
      "\n",
      "    accuracy                           0.93       130\n",
      "   macro avg       0.90      0.71      0.77       130\n",
      "weighted avg       0.93      0.93      0.92       130\n",
      "\n"
     ]
    }
   ],
   "source": [
    "y_true, y_precept = y_test , gridsearch.predict(x_test)\n",
    "\n",
    "from sklearn.metrics import classification_report\n",
    "print('Results on the test set:')\n",
    "print(classification_report(y_true, y_precept))"
   ]
  },
  {
   "cell_type": "code",
   "execution_count": 124,
   "metadata": {},
   "outputs": [
    {
     "name": "stdout",
     "output_type": "stream",
     "text": [
      "Accuracy: 0.9307692307692308\n",
      "Accuracy: 0.7099753694581281\n"
     ]
    }
   ],
   "source": [
    "print(\"Accuracy:\",metrics.accuracy_score(y_test, y_precept))\n",
    "print(\"Accuracy:\",metrics.roc_auc_score(y_test, y_precept))"
   ]
  },
  {
   "cell_type": "code",
   "execution_count": 125,
   "metadata": {},
   "outputs": [
    {
     "name": "stderr",
     "output_type": "stream",
     "text": [
      "c:\\Users\\HP\\AppData\\Local\\Programs\\Python\\Python311\\Lib\\site-packages\\sklearn\\neural_network\\_multilayer_perceptron.py:702: ConvergenceWarning: Stochastic Optimizer: Maximum iterations (100) reached and the optimization hasn't converged yet.\n",
      "  warnings.warn(\n",
      "c:\\Users\\HP\\AppData\\Local\\Programs\\Python\\Python311\\Lib\\site-packages\\sklearn\\neural_network\\_multilayer_perceptron.py:702: ConvergenceWarning: Stochastic Optimizer: Maximum iterations (100) reached and the optimization hasn't converged yet.\n",
      "  warnings.warn(\n",
      "c:\\Users\\HP\\AppData\\Local\\Programs\\Python\\Python311\\Lib\\site-packages\\sklearn\\neural_network\\_multilayer_perceptron.py:702: ConvergenceWarning: Stochastic Optimizer: Maximum iterations (100) reached and the optimization hasn't converged yet.\n",
      "  warnings.warn(\n",
      "c:\\Users\\HP\\AppData\\Local\\Programs\\Python\\Python311\\Lib\\site-packages\\sklearn\\neural_network\\_multilayer_perceptron.py:702: ConvergenceWarning: Stochastic Optimizer: Maximum iterations (100) reached and the optimization hasn't converged yet.\n",
      "  warnings.warn(\n",
      "c:\\Users\\HP\\AppData\\Local\\Programs\\Python\\Python311\\Lib\\site-packages\\sklearn\\neural_network\\_multilayer_perceptron.py:702: ConvergenceWarning: Stochastic Optimizer: Maximum iterations (100) reached and the optimization hasn't converged yet.\n",
      "  warnings.warn(\n",
      "c:\\Users\\HP\\AppData\\Local\\Programs\\Python\\Python311\\Lib\\site-packages\\sklearn\\neural_network\\_multilayer_perceptron.py:702: ConvergenceWarning: Stochastic Optimizer: Maximum iterations (100) reached and the optimization hasn't converged yet.\n",
      "  warnings.warn(\n",
      "c:\\Users\\HP\\AppData\\Local\\Programs\\Python\\Python311\\Lib\\site-packages\\sklearn\\neural_network\\_multilayer_perceptron.py:702: ConvergenceWarning: Stochastic Optimizer: Maximum iterations (100) reached and the optimization hasn't converged yet.\n",
      "  warnings.warn(\n",
      "c:\\Users\\HP\\AppData\\Local\\Programs\\Python\\Python311\\Lib\\site-packages\\sklearn\\neural_network\\_multilayer_perceptron.py:702: ConvergenceWarning: Stochastic Optimizer: Maximum iterations (100) reached and the optimization hasn't converged yet.\n",
      "  warnings.warn(\n",
      "c:\\Users\\HP\\AppData\\Local\\Programs\\Python\\Python311\\Lib\\site-packages\\sklearn\\neural_network\\_multilayer_perceptron.py:702: ConvergenceWarning: Stochastic Optimizer: Maximum iterations (100) reached and the optimization hasn't converged yet.\n",
      "  warnings.warn(\n",
      "c:\\Users\\HP\\AppData\\Local\\Programs\\Python\\Python311\\Lib\\site-packages\\sklearn\\neural_network\\_multilayer_perceptron.py:702: ConvergenceWarning: Stochastic Optimizer: Maximum iterations (100) reached and the optimization hasn't converged yet.\n",
      "  warnings.warn(\n",
      "c:\\Users\\HP\\AppData\\Local\\Programs\\Python\\Python311\\Lib\\site-packages\\sklearn\\neural_network\\_multilayer_perceptron.py:702: ConvergenceWarning: Stochastic Optimizer: Maximum iterations (100) reached and the optimization hasn't converged yet.\n",
      "  warnings.warn(\n",
      "c:\\Users\\HP\\AppData\\Local\\Programs\\Python\\Python311\\Lib\\site-packages\\sklearn\\neural_network\\_multilayer_perceptron.py:702: ConvergenceWarning: Stochastic Optimizer: Maximum iterations (100) reached and the optimization hasn't converged yet.\n",
      "  warnings.warn(\n",
      "c:\\Users\\HP\\AppData\\Local\\Programs\\Python\\Python311\\Lib\\site-packages\\sklearn\\neural_network\\_multilayer_perceptron.py:702: ConvergenceWarning: Stochastic Optimizer: Maximum iterations (100) reached and the optimization hasn't converged yet.\n",
      "  warnings.warn(\n",
      "c:\\Users\\HP\\AppData\\Local\\Programs\\Python\\Python311\\Lib\\site-packages\\sklearn\\neural_network\\_multilayer_perceptron.py:702: ConvergenceWarning: Stochastic Optimizer: Maximum iterations (100) reached and the optimization hasn't converged yet.\n",
      "  warnings.warn(\n",
      "c:\\Users\\HP\\AppData\\Local\\Programs\\Python\\Python311\\Lib\\site-packages\\sklearn\\neural_network\\_multilayer_perceptron.py:702: ConvergenceWarning: Stochastic Optimizer: Maximum iterations (100) reached and the optimization hasn't converged yet.\n",
      "  warnings.warn(\n",
      "c:\\Users\\HP\\AppData\\Local\\Programs\\Python\\Python311\\Lib\\site-packages\\sklearn\\neural_network\\_multilayer_perceptron.py:702: ConvergenceWarning: Stochastic Optimizer: Maximum iterations (100) reached and the optimization hasn't converged yet.\n",
      "  warnings.warn(\n",
      "c:\\Users\\HP\\AppData\\Local\\Programs\\Python\\Python311\\Lib\\site-packages\\sklearn\\neural_network\\_multilayer_perceptron.py:702: ConvergenceWarning: Stochastic Optimizer: Maximum iterations (100) reached and the optimization hasn't converged yet.\n",
      "  warnings.warn(\n",
      "c:\\Users\\HP\\AppData\\Local\\Programs\\Python\\Python311\\Lib\\site-packages\\sklearn\\neural_network\\_multilayer_perceptron.py:702: ConvergenceWarning: Stochastic Optimizer: Maximum iterations (100) reached and the optimization hasn't converged yet.\n",
      "  warnings.warn(\n",
      "c:\\Users\\HP\\AppData\\Local\\Programs\\Python\\Python311\\Lib\\site-packages\\sklearn\\neural_network\\_multilayer_perceptron.py:702: ConvergenceWarning: Stochastic Optimizer: Maximum iterations (100) reached and the optimization hasn't converged yet.\n",
      "  warnings.warn(\n",
      "c:\\Users\\HP\\AppData\\Local\\Programs\\Python\\Python311\\Lib\\site-packages\\sklearn\\neural_network\\_multilayer_perceptron.py:702: ConvergenceWarning: Stochastic Optimizer: Maximum iterations (100) reached and the optimization hasn't converged yet.\n",
      "  warnings.warn(\n",
      "c:\\Users\\HP\\AppData\\Local\\Programs\\Python\\Python311\\Lib\\site-packages\\sklearn\\neural_network\\_multilayer_perceptron.py:702: ConvergenceWarning: Stochastic Optimizer: Maximum iterations (100) reached and the optimization hasn't converged yet.\n",
      "  warnings.warn(\n",
      "c:\\Users\\HP\\AppData\\Local\\Programs\\Python\\Python311\\Lib\\site-packages\\sklearn\\neural_network\\_multilayer_perceptron.py:702: ConvergenceWarning: Stochastic Optimizer: Maximum iterations (100) reached and the optimization hasn't converged yet.\n",
      "  warnings.warn(\n",
      "c:\\Users\\HP\\AppData\\Local\\Programs\\Python\\Python311\\Lib\\site-packages\\sklearn\\neural_network\\_multilayer_perceptron.py:702: ConvergenceWarning: Stochastic Optimizer: Maximum iterations (100) reached and the optimization hasn't converged yet.\n",
      "  warnings.warn(\n",
      "c:\\Users\\HP\\AppData\\Local\\Programs\\Python\\Python311\\Lib\\site-packages\\sklearn\\neural_network\\_multilayer_perceptron.py:702: ConvergenceWarning: Stochastic Optimizer: Maximum iterations (100) reached and the optimization hasn't converged yet.\n",
      "  warnings.warn(\n",
      "c:\\Users\\HP\\AppData\\Local\\Programs\\Python\\Python311\\Lib\\site-packages\\sklearn\\neural_network\\_multilayer_perceptron.py:702: ConvergenceWarning: Stochastic Optimizer: Maximum iterations (100) reached and the optimization hasn't converged yet.\n",
      "  warnings.warn(\n",
      "c:\\Users\\HP\\AppData\\Local\\Programs\\Python\\Python311\\Lib\\site-packages\\sklearn\\neural_network\\_multilayer_perceptron.py:702: ConvergenceWarning: Stochastic Optimizer: Maximum iterations (100) reached and the optimization hasn't converged yet.\n",
      "  warnings.warn(\n",
      "c:\\Users\\HP\\AppData\\Local\\Programs\\Python\\Python311\\Lib\\site-packages\\sklearn\\neural_network\\_multilayer_perceptron.py:702: ConvergenceWarning: Stochastic Optimizer: Maximum iterations (100) reached and the optimization hasn't converged yet.\n",
      "  warnings.warn(\n",
      "c:\\Users\\HP\\AppData\\Local\\Programs\\Python\\Python311\\Lib\\site-packages\\sklearn\\neural_network\\_multilayer_perceptron.py:702: ConvergenceWarning: Stochastic Optimizer: Maximum iterations (100) reached and the optimization hasn't converged yet.\n",
      "  warnings.warn(\n",
      "c:\\Users\\HP\\AppData\\Local\\Programs\\Python\\Python311\\Lib\\site-packages\\sklearn\\neural_network\\_multilayer_perceptron.py:702: ConvergenceWarning: Stochastic Optimizer: Maximum iterations (100) reached and the optimization hasn't converged yet.\n",
      "  warnings.warn(\n",
      "c:\\Users\\HP\\AppData\\Local\\Programs\\Python\\Python311\\Lib\\site-packages\\sklearn\\neural_network\\_multilayer_perceptron.py:702: ConvergenceWarning: Stochastic Optimizer: Maximum iterations (100) reached and the optimization hasn't converged yet.\n",
      "  warnings.warn(\n",
      "c:\\Users\\HP\\AppData\\Local\\Programs\\Python\\Python311\\Lib\\site-packages\\sklearn\\neural_network\\_multilayer_perceptron.py:702: ConvergenceWarning: Stochastic Optimizer: Maximum iterations (100) reached and the optimization hasn't converged yet.\n",
      "  warnings.warn(\n",
      "c:\\Users\\HP\\AppData\\Local\\Programs\\Python\\Python311\\Lib\\site-packages\\sklearn\\neural_network\\_multilayer_perceptron.py:702: ConvergenceWarning: Stochastic Optimizer: Maximum iterations (100) reached and the optimization hasn't converged yet.\n",
      "  warnings.warn(\n",
      "c:\\Users\\HP\\AppData\\Local\\Programs\\Python\\Python311\\Lib\\site-packages\\sklearn\\neural_network\\_multilayer_perceptron.py:702: ConvergenceWarning: Stochastic Optimizer: Maximum iterations (100) reached and the optimization hasn't converged yet.\n",
      "  warnings.warn(\n",
      "c:\\Users\\HP\\AppData\\Local\\Programs\\Python\\Python311\\Lib\\site-packages\\sklearn\\neural_network\\_multilayer_perceptron.py:702: ConvergenceWarning: Stochastic Optimizer: Maximum iterations (100) reached and the optimization hasn't converged yet.\n",
      "  warnings.warn(\n",
      "c:\\Users\\HP\\AppData\\Local\\Programs\\Python\\Python311\\Lib\\site-packages\\sklearn\\neural_network\\_multilayer_perceptron.py:702: ConvergenceWarning: Stochastic Optimizer: Maximum iterations (100) reached and the optimization hasn't converged yet.\n",
      "  warnings.warn(\n",
      "c:\\Users\\HP\\AppData\\Local\\Programs\\Python\\Python311\\Lib\\site-packages\\sklearn\\neural_network\\_multilayer_perceptron.py:702: ConvergenceWarning: Stochastic Optimizer: Maximum iterations (100) reached and the optimization hasn't converged yet.\n",
      "  warnings.warn(\n",
      "c:\\Users\\HP\\AppData\\Local\\Programs\\Python\\Python311\\Lib\\site-packages\\sklearn\\neural_network\\_multilayer_perceptron.py:702: ConvergenceWarning: Stochastic Optimizer: Maximum iterations (100) reached and the optimization hasn't converged yet.\n",
      "  warnings.warn(\n",
      "c:\\Users\\HP\\AppData\\Local\\Programs\\Python\\Python311\\Lib\\site-packages\\sklearn\\neural_network\\_multilayer_perceptron.py:702: ConvergenceWarning: Stochastic Optimizer: Maximum iterations (100) reached and the optimization hasn't converged yet.\n",
      "  warnings.warn(\n",
      "c:\\Users\\HP\\AppData\\Local\\Programs\\Python\\Python311\\Lib\\site-packages\\sklearn\\neural_network\\_multilayer_perceptron.py:702: ConvergenceWarning: Stochastic Optimizer: Maximum iterations (100) reached and the optimization hasn't converged yet.\n",
      "  warnings.warn(\n",
      "c:\\Users\\HP\\AppData\\Local\\Programs\\Python\\Python311\\Lib\\site-packages\\sklearn\\neural_network\\_multilayer_perceptron.py:702: ConvergenceWarning: Stochastic Optimizer: Maximum iterations (100) reached and the optimization hasn't converged yet.\n",
      "  warnings.warn(\n",
      "c:\\Users\\HP\\AppData\\Local\\Programs\\Python\\Python311\\Lib\\site-packages\\sklearn\\neural_network\\_multilayer_perceptron.py:702: ConvergenceWarning: Stochastic Optimizer: Maximum iterations (100) reached and the optimization hasn't converged yet.\n",
      "  warnings.warn(\n",
      "c:\\Users\\HP\\AppData\\Local\\Programs\\Python\\Python311\\Lib\\site-packages\\sklearn\\neural_network\\_multilayer_perceptron.py:702: ConvergenceWarning: Stochastic Optimizer: Maximum iterations (100) reached and the optimization hasn't converged yet.\n",
      "  warnings.warn(\n",
      "c:\\Users\\HP\\AppData\\Local\\Programs\\Python\\Python311\\Lib\\site-packages\\sklearn\\neural_network\\_multilayer_perceptron.py:702: ConvergenceWarning: Stochastic Optimizer: Maximum iterations (100) reached and the optimization hasn't converged yet.\n",
      "  warnings.warn(\n",
      "c:\\Users\\HP\\AppData\\Local\\Programs\\Python\\Python311\\Lib\\site-packages\\sklearn\\neural_network\\_multilayer_perceptron.py:702: ConvergenceWarning: Stochastic Optimizer: Maximum iterations (100) reached and the optimization hasn't converged yet.\n",
      "  warnings.warn(\n",
      "c:\\Users\\HP\\AppData\\Local\\Programs\\Python\\Python311\\Lib\\site-packages\\sklearn\\neural_network\\_multilayer_perceptron.py:702: ConvergenceWarning: Stochastic Optimizer: Maximum iterations (100) reached and the optimization hasn't converged yet.\n",
      "  warnings.warn(\n",
      "c:\\Users\\HP\\AppData\\Local\\Programs\\Python\\Python311\\Lib\\site-packages\\sklearn\\neural_network\\_multilayer_perceptron.py:702: ConvergenceWarning: Stochastic Optimizer: Maximum iterations (100) reached and the optimization hasn't converged yet.\n",
      "  warnings.warn(\n"
     ]
    },
    {
     "data": {
      "text/html": [
       "<style>#sk-container-id-4 {color: black;background-color: white;}#sk-container-id-4 pre{padding: 0;}#sk-container-id-4 div.sk-toggleable {background-color: white;}#sk-container-id-4 label.sk-toggleable__label {cursor: pointer;display: block;width: 100%;margin-bottom: 0;padding: 0.3em;box-sizing: border-box;text-align: center;}#sk-container-id-4 label.sk-toggleable__label-arrow:before {content: \"▸\";float: left;margin-right: 0.25em;color: #696969;}#sk-container-id-4 label.sk-toggleable__label-arrow:hover:before {color: black;}#sk-container-id-4 div.sk-estimator:hover label.sk-toggleable__label-arrow:before {color: black;}#sk-container-id-4 div.sk-toggleable__content {max-height: 0;max-width: 0;overflow: hidden;text-align: left;background-color: #f0f8ff;}#sk-container-id-4 div.sk-toggleable__content pre {margin: 0.2em;color: black;border-radius: 0.25em;background-color: #f0f8ff;}#sk-container-id-4 input.sk-toggleable__control:checked~div.sk-toggleable__content {max-height: 200px;max-width: 100%;overflow: auto;}#sk-container-id-4 input.sk-toggleable__control:checked~label.sk-toggleable__label-arrow:before {content: \"▾\";}#sk-container-id-4 div.sk-estimator input.sk-toggleable__control:checked~label.sk-toggleable__label {background-color: #d4ebff;}#sk-container-id-4 div.sk-label input.sk-toggleable__control:checked~label.sk-toggleable__label {background-color: #d4ebff;}#sk-container-id-4 input.sk-hidden--visually {border: 0;clip: rect(1px 1px 1px 1px);clip: rect(1px, 1px, 1px, 1px);height: 1px;margin: -1px;overflow: hidden;padding: 0;position: absolute;width: 1px;}#sk-container-id-4 div.sk-estimator {font-family: monospace;background-color: #f0f8ff;border: 1px dotted black;border-radius: 0.25em;box-sizing: border-box;margin-bottom: 0.5em;}#sk-container-id-4 div.sk-estimator:hover {background-color: #d4ebff;}#sk-container-id-4 div.sk-parallel-item::after {content: \"\";width: 100%;border-bottom: 1px solid gray;flex-grow: 1;}#sk-container-id-4 div.sk-label:hover label.sk-toggleable__label {background-color: #d4ebff;}#sk-container-id-4 div.sk-serial::before {content: \"\";position: absolute;border-left: 1px solid gray;box-sizing: border-box;top: 0;bottom: 0;left: 50%;z-index: 0;}#sk-container-id-4 div.sk-serial {display: flex;flex-direction: column;align-items: center;background-color: white;padding-right: 0.2em;padding-left: 0.2em;position: relative;}#sk-container-id-4 div.sk-item {position: relative;z-index: 1;}#sk-container-id-4 div.sk-parallel {display: flex;align-items: stretch;justify-content: center;background-color: white;position: relative;}#sk-container-id-4 div.sk-item::before, #sk-container-id-4 div.sk-parallel-item::before {content: \"\";position: absolute;border-left: 1px solid gray;box-sizing: border-box;top: 0;bottom: 0;left: 50%;z-index: -1;}#sk-container-id-4 div.sk-parallel-item {display: flex;flex-direction: column;z-index: 1;position: relative;background-color: white;}#sk-container-id-4 div.sk-parallel-item:first-child::after {align-self: flex-end;width: 50%;}#sk-container-id-4 div.sk-parallel-item:last-child::after {align-self: flex-start;width: 50%;}#sk-container-id-4 div.sk-parallel-item:only-child::after {width: 0;}#sk-container-id-4 div.sk-dashed-wrapped {border: 1px dashed gray;margin: 0 0.4em 0.5em 0.4em;box-sizing: border-box;padding-bottom: 0.4em;background-color: white;}#sk-container-id-4 div.sk-label label {font-family: monospace;font-weight: bold;display: inline-block;line-height: 1.2em;}#sk-container-id-4 div.sk-label-container {text-align: center;}#sk-container-id-4 div.sk-container {/* jupyter's `normalize.less` sets `[hidden] { display: none; }` but bootstrap.min.css set `[hidden] { display: none !important; }` so we also need the `!important` here to be able to override the default hidden behavior on the sphinx rendered scikit-learn.org. See: https://github.com/scikit-learn/scikit-learn/issues/21755 */display: inline-block !important;position: relative;}#sk-container-id-4 div.sk-text-repr-fallback {display: none;}</style><div id=\"sk-container-id-4\" class=\"sk-top-container\"><div class=\"sk-text-repr-fallback\"><pre>RandomizedSearchCV(estimator=MLPClassifier(max_iter=100),\n",
       "                   param_distributions={&#x27;activation&#x27;: [&#x27;tanh&#x27;, &#x27;relu&#x27;,\n",
       "                                                       &#x27;logistic&#x27;],\n",
       "                                        &#x27;alpha&#x27;: [0.0001, 0.05],\n",
       "                                        &#x27;hidden_layer_sizes&#x27;: [(50, 50, 50),\n",
       "                                                               (50, 100, 50),\n",
       "                                                               (100,)],\n",
       "                                        &#x27;learning_rate&#x27;: [&#x27;constant&#x27;,\n",
       "                                                          &#x27;adaptive&#x27;],\n",
       "                                        &#x27;solver&#x27;: [&#x27;sgd&#x27;, &#x27;adam&#x27;]},\n",
       "                   random_state=0)</pre><b>In a Jupyter environment, please rerun this cell to show the HTML representation or trust the notebook. <br />On GitHub, the HTML representation is unable to render, please try loading this page with nbviewer.org.</b></div><div class=\"sk-container\" hidden><div class=\"sk-item sk-dashed-wrapped\"><div class=\"sk-label-container\"><div class=\"sk-label sk-toggleable\"><input class=\"sk-toggleable__control sk-hidden--visually\" id=\"sk-estimator-id-10\" type=\"checkbox\" ><label for=\"sk-estimator-id-10\" class=\"sk-toggleable__label sk-toggleable__label-arrow\">RandomizedSearchCV</label><div class=\"sk-toggleable__content\"><pre>RandomizedSearchCV(estimator=MLPClassifier(max_iter=100),\n",
       "                   param_distributions={&#x27;activation&#x27;: [&#x27;tanh&#x27;, &#x27;relu&#x27;,\n",
       "                                                       &#x27;logistic&#x27;],\n",
       "                                        &#x27;alpha&#x27;: [0.0001, 0.05],\n",
       "                                        &#x27;hidden_layer_sizes&#x27;: [(50, 50, 50),\n",
       "                                                               (50, 100, 50),\n",
       "                                                               (100,)],\n",
       "                                        &#x27;learning_rate&#x27;: [&#x27;constant&#x27;,\n",
       "                                                          &#x27;adaptive&#x27;],\n",
       "                                        &#x27;solver&#x27;: [&#x27;sgd&#x27;, &#x27;adam&#x27;]},\n",
       "                   random_state=0)</pre></div></div></div><div class=\"sk-parallel\"><div class=\"sk-parallel-item\"><div class=\"sk-item\"><div class=\"sk-label-container\"><div class=\"sk-label sk-toggleable\"><input class=\"sk-toggleable__control sk-hidden--visually\" id=\"sk-estimator-id-11\" type=\"checkbox\" ><label for=\"sk-estimator-id-11\" class=\"sk-toggleable__label sk-toggleable__label-arrow\">estimator: MLPClassifier</label><div class=\"sk-toggleable__content\"><pre>MLPClassifier(max_iter=100)</pre></div></div></div><div class=\"sk-serial\"><div class=\"sk-item\"><div class=\"sk-estimator sk-toggleable\"><input class=\"sk-toggleable__control sk-hidden--visually\" id=\"sk-estimator-id-12\" type=\"checkbox\" ><label for=\"sk-estimator-id-12\" class=\"sk-toggleable__label sk-toggleable__label-arrow\">MLPClassifier</label><div class=\"sk-toggleable__content\"><pre>MLPClassifier(max_iter=100)</pre></div></div></div></div></div></div></div></div></div></div>"
      ],
      "text/plain": [
       "RandomizedSearchCV(estimator=MLPClassifier(max_iter=100),\n",
       "                   param_distributions={'activation': ['tanh', 'relu',\n",
       "                                                       'logistic'],\n",
       "                                        'alpha': [0.0001, 0.05],\n",
       "                                        'hidden_layer_sizes': [(50, 50, 50),\n",
       "                                                               (50, 100, 50),\n",
       "                                                               (100,)],\n",
       "                                        'learning_rate': ['constant',\n",
       "                                                          'adaptive'],\n",
       "                                        'solver': ['sgd', 'adam']},\n",
       "                   random_state=0)"
      ]
     },
     "execution_count": 125,
     "metadata": {},
     "output_type": "execute_result"
    }
   ],
   "source": [
    "from sklearn.model_selection import GridSearchCV,RandomizedSearchCV\n",
    "#cv = RepeatedStratifiedKFold(n_splits=10, n_repeats=3, random_state=1)\n",
    "\n",
    "randomSearch = RandomizedSearchCV(mlp1, parameter_space, random_state=0)\n",
    "randomSearch.fit(x_train, y_train)\n"
   ]
  },
  {
   "cell_type": "code",
   "execution_count": 126,
   "metadata": {},
   "outputs": [
    {
     "name": "stdout",
     "output_type": "stream",
     "text": [
      "Best parameters found:\n",
      " {'solver': 'adam', 'learning_rate': 'adaptive', 'hidden_layer_sizes': (50, 50, 50), 'alpha': 0.0001, 'activation': 'relu'}\n"
     ]
    }
   ],
   "source": [
    "print('Best parameters found:\\n', randomSearch.best_params_)"
   ]
  },
  {
   "cell_type": "code",
   "execution_count": 127,
   "metadata": {},
   "outputs": [
    {
     "name": "stdout",
     "output_type": "stream",
     "text": [
      "Results on the test set:\n",
      "              precision    recall  f1-score   support\n",
      "\n",
      "           0       0.93      0.96      0.94       116\n",
      "           1       0.50      0.36      0.42        14\n",
      "\n",
      "    accuracy                           0.89       130\n",
      "   macro avg       0.71      0.66      0.68       130\n",
      "weighted avg       0.88      0.89      0.88       130\n",
      "\n"
     ]
    }
   ],
   "source": [
    "y_true1, y_precept1 = y_test , randomSearch.predict(x_test)\n",
    "from sklearn.metrics import classification_report\n",
    "print('Results on the test set:')\n",
    "print(classification_report(y_true1, y_precept1))"
   ]
  },
  {
   "cell_type": "code",
   "execution_count": 128,
   "metadata": {},
   "outputs": [
    {
     "name": "stdout",
     "output_type": "stream",
     "text": [
      "Accuracy: 0.8923076923076924\n",
      "Accuracy: 0.6570197044334976\n"
     ]
    }
   ],
   "source": [
    "print(\"Accuracy:\",metrics.accuracy_score(y_test, y_precept1))\n",
    "print(\"Accuracy:\",metrics.roc_auc_score(y_test, y_precept1))"
   ]
  },
  {
   "cell_type": "code",
   "execution_count": null,
   "metadata": {},
   "outputs": [],
   "source": [
    "fig = plt.figure(figsize=(12,6))\n",
    "ax = fig.add_subplot(\"121\")\n",
    "ax.set_title(\"Test Accuracy\")\n",
    "ax.set_xlabel(\"Hyperparamter Combination\")\n",
    "ax.set_ylabel(\"Testing Accuracy\")\n",
    "ax.plot(x,y2)\n",
    "ax = fig.add_subplot(\"122\")\n",
    "ax.set_title(\"Validation Accuracy\")\n",
    "ax.set_xlabel(\"Hyperparamter Combination\")\n",
    "ax.set_ylabel(\"Validation Accuracy\")\n",
    "ax.plot(x,y1)\n",
    "\n",
    "plt.show()\n",
    "     "
   ]
  }
 ],
 "metadata": {
  "kernelspec": {
   "display_name": "Python 3",
   "language": "python",
   "name": "python3"
  },
  "language_info": {
   "codemirror_mode": {
    "name": "ipython",
    "version": 3
   },
   "file_extension": ".py",
   "mimetype": "text/x-python",
   "name": "python",
   "nbconvert_exporter": "python",
   "pygments_lexer": "ipython3",
   "version": "3.11.1"
  },
  "orig_nbformat": 4
 },
 "nbformat": 4,
 "nbformat_minor": 2
}
