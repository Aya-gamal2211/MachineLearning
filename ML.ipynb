{
 "cells": [
  {
   "attachments": {},
   "cell_type": "markdown",
   "metadata": {},
   "source": [
    "# CSE381 Introduction to Machine Learning – Spring 2023\n",
    "**Project Description**\n",
    "\n",
    "The data used in this project will help to identify whether a person is going to recover from\n",
    "coronavirus symptoms or not based on some pre‐defined standard symptoms. These\n",
    "symptoms are based on guidelines given by the World Health Organization (WHO).\n",
    "This dataset has daily level information on the number of affected cases, deaths and\n",
    "recovery from 2019 novel coronavirus. Please note that this is a time series data and so the\n",
    "number of cases on any given day is the cumulative number"
   ]
  },
  {
   "cell_type": "code",
<<<<<<< HEAD
   "execution_count": 506,
=======
   "execution_count": 1,
>>>>>>> 4bf83f93ef54cbf3a337acbe3ddf4cf1d082f5ff
   "metadata": {},
   "outputs": [],
   "source": [
    "import numpy as np \n",
    "import pandas as pd \n",
    "import seaborn as sns\n",
    "import matplotlib.pyplot as plt\n",
    "from sklearn.model_selection import KFold\n",
    "from sklearn import metrics #Import scikit-learn metrics module for accuracy calculation\n",
    "from sklearn.decomposition import PCA\n",
    "from sklearn.datasets import make_classification \n",
    "from sklearn import preprocessing\n",
    "from sklearn.svm import SVC\n",
    "from sklearn.metrics import classification_report, confusion_matrix\n",
    "from sklearn.model_selection import RandomizedSearchCV\n",
    "from sklearn.pipeline import Pipeline\n",
    "from sklearn.preprocessing import StandardScaler,  PolynomialFeatures   \n",
    "from sklearn.model_selection import train_test_split\n",
    "from sklearn.neighbors import KNeighborsClassifier\n",
    "\n",
    "#pip install tensorflow before importing\n",
    "import tensorflow\n",
    "from sklearn.metrics import confusion_matrix\n",
    "from tensorflow.keras.models import Sequential\n",
    "from tensorflow.keras.layers import Dense, LeakyReLU\n",
    "from tensorflow.keras.activations import linear, relu, sigmoid\n"
   ]
  },
  {
   "cell_type": "code",
<<<<<<< HEAD
   "execution_count": 507,
   "metadata": {},
   "outputs": [],
   "source": [
    "train_data= pd.read_csv('C:\\\\Users\\\\HP\\\\Desktop\\\\data.csv')\n",
=======
   "execution_count": 3,
   "metadata": {},
   "outputs": [],
   "source": [
    "data= pd.read_csv('..\\data.csv')\n",
>>>>>>> 4bf83f93ef54cbf3a337acbe3ddf4cf1d082f5ff
    "# Split the inputs and outputs into separate arrays\n",
    "# x = data[ :, 0]\n",
    "# y = data[:,1]\n",
    "#training_data = data[:70]\n",
    "feature_cols=['location',\t'country' ,\t'gender' ,\t'age' ,\t'vis_wuhan',\t'from_wuhan',\t'symptom1'\t,'symptom2'\t,'symptom3'\t,'symptom4'\t,'symptom5'\t,'symptom6', \t'diff_sym_hos'\n",
    "]\n",
    "x=train_data[feature_cols]\n",
    "y=train_data.result\n",
    "# Convert 1-D arrays into 2-D because the commands later will require it\n",
    "# x = np.expand_dims(x, axis=1)\n",
    "# y = np.expand_dims(y, axis=1)\n",
    "# Get 70% of the dataset as the training set. Put the remaining 30% in temporary variables: x_test and y_test.\n",
    "x_train, x_test, y_train, y_test = train_test_split(x, y, test_size=0.30, random_state=3)\n",
    "# Split the 30% subset above into two: one half for cross validation and the other for the test set\n",
    "x_cv, x_test, y_cv, y_test = train_test_split(x_test, y_test, test_size=0.50, random_state=3)\n",
    "#another approach to divide data \n",
    "#train, validate, test = np.split(df.sample(frac=1, random_state=42), #60 training 20 validation 20 test \n",
    "                      # [int(.6*len(df)), int(.8*len(df))]) \n"
   ]
  },
  {
   "cell_type": "code",
<<<<<<< HEAD
   "execution_count": 508,
=======
   "execution_count": 4,
>>>>>>> 4bf83f93ef54cbf3a337acbe3ddf4cf1d082f5ff
   "metadata": {},
   "outputs": [
    {
     "data": {
      "text/html": [
       "<div>\n",
       "<style scoped>\n",
       "    .dataframe tbody tr th:only-of-type {\n",
       "        vertical-align: middle;\n",
       "    }\n",
       "\n",
       "    .dataframe tbody tr th {\n",
       "        vertical-align: top;\n",
       "    }\n",
       "\n",
       "    .dataframe thead th {\n",
       "        text-align: right;\n",
       "    }\n",
       "</style>\n",
       "<table border=\"1\" class=\"dataframe\">\n",
       "  <thead>\n",
       "    <tr style=\"text-align: right;\">\n",
       "      <th></th>\n",
       "      <th>Unnamed: 0</th>\n",
       "      <th>location</th>\n",
       "      <th>country</th>\n",
       "      <th>gender</th>\n",
       "      <th>age</th>\n",
       "      <th>vis_wuhan</th>\n",
       "      <th>from_wuhan</th>\n",
       "      <th>symptom1</th>\n",
       "      <th>symptom2</th>\n",
       "      <th>symptom3</th>\n",
       "      <th>symptom4</th>\n",
       "      <th>symptom5</th>\n",
       "      <th>symptom6</th>\n",
       "      <th>diff_sym_hos</th>\n",
       "      <th>result</th>\n",
       "    </tr>\n",
       "  </thead>\n",
       "  <tbody>\n",
       "    <tr>\n",
       "      <th>count</th>\n",
       "      <td>863.000000</td>\n",
       "      <td>863.000000</td>\n",
       "      <td>863.000000</td>\n",
       "      <td>863.000000</td>\n",
       "      <td>863.000000</td>\n",
       "      <td>863.000000</td>\n",
       "      <td>863.000000</td>\n",
       "      <td>863.00000</td>\n",
       "      <td>863.000000</td>\n",
       "      <td>863.000000</td>\n",
       "      <td>863.000000</td>\n",
       "      <td>863.000000</td>\n",
       "      <td>863.000000</td>\n",
       "      <td>863.000000</td>\n",
       "      <td>863.000000</td>\n",
       "    </tr>\n",
       "    <tr>\n",
       "      <th>mean</th>\n",
       "      <td>431.000000</td>\n",
       "      <td>76.645423</td>\n",
       "      <td>16.995365</td>\n",
       "      <td>0.849363</td>\n",
       "      <td>49.400000</td>\n",
       "      <td>0.181924</td>\n",
       "      <td>0.107764</td>\n",
       "      <td>12.13905</td>\n",
       "      <td>28.002317</td>\n",
       "      <td>18.298957</td>\n",
       "      <td>11.840093</td>\n",
       "      <td>2.993048</td>\n",
       "      <td>0.998841</td>\n",
       "      <td>0.995365</td>\n",
       "      <td>0.125145</td>\n",
       "    </tr>\n",
       "    <tr>\n",
       "      <th>std</th>\n",
       "      <td>249.270937</td>\n",
       "      <td>39.200264</td>\n",
       "      <td>7.809951</td>\n",
       "      <td>0.726062</td>\n",
       "      <td>15.079203</td>\n",
       "      <td>0.386005</td>\n",
       "      <td>0.310261</td>\n",
       "      <td>3.99787</td>\n",
       "      <td>7.473231</td>\n",
       "      <td>2.864064</td>\n",
       "      <td>1.183771</td>\n",
       "      <td>0.127251</td>\n",
       "      <td>0.034040</td>\n",
       "      <td>2.358767</td>\n",
       "      <td>0.331075</td>\n",
       "    </tr>\n",
       "    <tr>\n",
       "      <th>min</th>\n",
       "      <td>0.000000</td>\n",
       "      <td>0.000000</td>\n",
       "      <td>0.000000</td>\n",
       "      <td>0.000000</td>\n",
       "      <td>2.000000</td>\n",
       "      <td>0.000000</td>\n",
       "      <td>0.000000</td>\n",
       "      <td>0.00000</td>\n",
       "      <td>0.000000</td>\n",
       "      <td>0.000000</td>\n",
       "      <td>0.000000</td>\n",
       "      <td>0.000000</td>\n",
       "      <td>0.000000</td>\n",
       "      <td>-5.000000</td>\n",
       "      <td>0.000000</td>\n",
       "    </tr>\n",
       "    <tr>\n",
       "      <th>25%</th>\n",
       "      <td>215.500000</td>\n",
       "      <td>45.000000</td>\n",
       "      <td>11.000000</td>\n",
       "      <td>0.000000</td>\n",
       "      <td>40.000000</td>\n",
       "      <td>0.000000</td>\n",
       "      <td>0.000000</td>\n",
       "      <td>14.00000</td>\n",
       "      <td>31.000000</td>\n",
       "      <td>19.000000</td>\n",
       "      <td>12.000000</td>\n",
       "      <td>3.000000</td>\n",
       "      <td>1.000000</td>\n",
       "      <td>0.000000</td>\n",
       "      <td>0.000000</td>\n",
       "    </tr>\n",
       "    <tr>\n",
       "      <th>50%</th>\n",
       "      <td>431.000000</td>\n",
       "      <td>87.000000</td>\n",
       "      <td>18.000000</td>\n",
       "      <td>1.000000</td>\n",
       "      <td>49.400000</td>\n",
       "      <td>0.000000</td>\n",
       "      <td>0.000000</td>\n",
       "      <td>14.00000</td>\n",
       "      <td>31.000000</td>\n",
       "      <td>19.000000</td>\n",
       "      <td>12.000000</td>\n",
       "      <td>3.000000</td>\n",
       "      <td>1.000000</td>\n",
       "      <td>0.000000</td>\n",
       "      <td>0.000000</td>\n",
       "    </tr>\n",
       "    <tr>\n",
       "      <th>75%</th>\n",
       "      <td>646.500000</td>\n",
       "      <td>110.000000</td>\n",
       "      <td>24.000000</td>\n",
       "      <td>1.000000</td>\n",
       "      <td>57.000000</td>\n",
       "      <td>0.000000</td>\n",
       "      <td>0.000000</td>\n",
       "      <td>14.00000</td>\n",
       "      <td>31.000000</td>\n",
       "      <td>19.000000</td>\n",
       "      <td>12.000000</td>\n",
       "      <td>3.000000</td>\n",
       "      <td>1.000000</td>\n",
       "      <td>1.000000</td>\n",
       "      <td>0.000000</td>\n",
       "    </tr>\n",
       "    <tr>\n",
       "      <th>max</th>\n",
       "      <td>862.000000</td>\n",
       "      <td>138.000000</td>\n",
       "      <td>33.000000</td>\n",
       "      <td>2.000000</td>\n",
       "      <td>96.000000</td>\n",
       "      <td>1.000000</td>\n",
       "      <td>1.000000</td>\n",
       "      <td>24.00000</td>\n",
       "      <td>31.000000</td>\n",
       "      <td>19.000000</td>\n",
       "      <td>12.000000</td>\n",
       "      <td>3.000000</td>\n",
       "      <td>1.000000</td>\n",
       "      <td>15.000000</td>\n",
       "      <td>1.000000</td>\n",
       "    </tr>\n",
       "  </tbody>\n",
       "</table>\n",
       "</div>"
      ],
      "text/plain": [
       "       Unnamed: 0    location     country      gender         age   vis_wuhan  \\\n",
       "count  863.000000  863.000000  863.000000  863.000000  863.000000  863.000000   \n",
       "mean   431.000000   76.645423   16.995365    0.849363   49.400000    0.181924   \n",
       "std    249.270937   39.200264    7.809951    0.726062   15.079203    0.386005   \n",
       "min      0.000000    0.000000    0.000000    0.000000    2.000000    0.000000   \n",
       "25%    215.500000   45.000000   11.000000    0.000000   40.000000    0.000000   \n",
       "50%    431.000000   87.000000   18.000000    1.000000   49.400000    0.000000   \n",
       "75%    646.500000  110.000000   24.000000    1.000000   57.000000    0.000000   \n",
       "max    862.000000  138.000000   33.000000    2.000000   96.000000    1.000000   \n",
       "\n",
       "       from_wuhan   symptom1    symptom2    symptom3    symptom4    symptom5  \\\n",
       "count  863.000000  863.00000  863.000000  863.000000  863.000000  863.000000   \n",
       "mean     0.107764   12.13905   28.002317   18.298957   11.840093    2.993048   \n",
       "std      0.310261    3.99787    7.473231    2.864064    1.183771    0.127251   \n",
       "min      0.000000    0.00000    0.000000    0.000000    0.000000    0.000000   \n",
       "25%      0.000000   14.00000   31.000000   19.000000   12.000000    3.000000   \n",
       "50%      0.000000   14.00000   31.000000   19.000000   12.000000    3.000000   \n",
       "75%      0.000000   14.00000   31.000000   19.000000   12.000000    3.000000   \n",
       "max      1.000000   24.00000   31.000000   19.000000   12.000000    3.000000   \n",
       "\n",
       "         symptom6  diff_sym_hos      result  \n",
       "count  863.000000    863.000000  863.000000  \n",
       "mean     0.998841      0.995365    0.125145  \n",
       "std      0.034040      2.358767    0.331075  \n",
       "min      0.000000     -5.000000    0.000000  \n",
       "25%      1.000000      0.000000    0.000000  \n",
       "50%      1.000000      0.000000    0.000000  \n",
       "75%      1.000000      1.000000    0.000000  \n",
       "max      1.000000     15.000000    1.000000  "
      ]
     },
<<<<<<< HEAD
     "execution_count": 508,
=======
     "execution_count": 4,
>>>>>>> 4bf83f93ef54cbf3a337acbe3ddf4cf1d082f5ff
     "metadata": {},
     "output_type": "execute_result"
    }
   ],
   "source": [
    "data.describe()"
   ]
  },
  {
   "cell_type": "code",
   "execution_count": 509,
   "metadata": {},
   "outputs": [
    {
     "data": {
      "text/plain": [
       "KFold(n_splits=2, random_state=None, shuffle=False)"
      ]
     },
     "execution_count": 509,
     "metadata": {},
     "output_type": "execute_result"
    }
   ],
   "source": [
    "kf = KFold(n_splits=2) # Define the split - into 2 folds \n",
    "kf.get_n_splits(x_train) # returns the number of splitting iterations in the cross-validator\n",
    "KFold(n_splits=2, random_state=None, shuffle=False)"
   ]
  },
  {
   "cell_type": "code",
   "execution_count": 510,
   "metadata": {},
   "outputs": [],
   "source": [
    "#for train_index, test_index in kf.split(x_train):\n",
    " #X_train, X_test = x_train[train_index], x_test[test_index]\n",
    " #Y_train, Y_test = y_train[train_index], y_test[test_index]"
   ]
  },
  {
   "attachments": {},
   "cell_type": "markdown",
   "metadata": {},
   "source": [
    "1.Apply SVM classifier  Algorithm and tune hyperparameters"
   ]
  },
  {
   "cell_type": "code",
   "execution_count": 511,
   "metadata": {},
   "outputs": [
    {
     "name": "stdout",
     "output_type": "stream",
     "text": [
      "              precision    recall  f1-score   support\n",
      "\n",
      "           0       0.93      0.98      0.95       115\n",
      "           1       0.75      0.40      0.52        15\n",
      "\n",
      "    accuracy                           0.92       130\n",
      "   macro avg       0.84      0.69      0.74       130\n",
      "weighted avg       0.91      0.92      0.90       130\n",
      "\n"
     ]
    }
   ],
   "source": [
    "model = SVC()\n",
    "model.fit(x_train, y_train)\n",
    "# print prediction results\n",
    "predictions = model.predict(x_test)\n",
    "print(classification_report(y_test, predictions))"
   ]
  },
  {
   "cell_type": "code",
   "execution_count": 512,
   "metadata": {},
   "outputs": [
    {
     "name": "stdout",
     "output_type": "stream",
     "text": [
      "ACCURACY OF THE MODEL:  0.9153846153846154\n"
     ]
    }
   ],
   "source": [
    "print(\"ACCURACY OF THE MODEL: \", metrics.accuracy_score(y_test, predictions))"
   ]
  },
  {
   "cell_type": "code",
   "execution_count": 513,
   "metadata": {},
   "outputs": [
    {
     "name": "stdout",
     "output_type": "stream",
     "text": [
      "Fitting 5 folds for each of 25 candidates, totalling 125 fits\n",
      "[CV 1/5] END ........C=0.1, gamma=1, kernel=rbf;, score=0.868 total time=   0.0s\n",
      "[CV 2/5] END ........C=0.1, gamma=1, kernel=rbf;, score=0.868 total time=   0.0s\n",
      "[CV 3/5] END ........C=0.1, gamma=1, kernel=rbf;, score=0.868 total time=   0.0s\n",
      "[CV 4/5] END ........C=0.1, gamma=1, kernel=rbf;, score=0.868 total time=   0.0s\n",
      "[CV 5/5] END ........C=0.1, gamma=1, kernel=rbf;, score=0.867 total time=   0.0s\n",
      "[CV 1/5] END ......C=0.1, gamma=0.1, kernel=rbf;, score=0.868 total time=   0.0s\n",
      "[CV 2/5] END ......C=0.1, gamma=0.1, kernel=rbf;, score=0.868 total time=   0.0s\n",
      "[CV 3/5] END ......C=0.1, gamma=0.1, kernel=rbf;, score=0.868 total time=   0.0s\n",
      "[CV 4/5] END ......C=0.1, gamma=0.1, kernel=rbf;, score=0.868 total time=   0.0s\n",
      "[CV 5/5] END ......C=0.1, gamma=0.1, kernel=rbf;, score=0.867 total time=   0.0s\n",
      "[CV 1/5] END .....C=0.1, gamma=0.01, kernel=rbf;, score=0.868 total time=   0.0s\n",
      "[CV 2/5] END .....C=0.1, gamma=0.01, kernel=rbf;, score=0.868 total time=   0.0s\n",
      "[CV 3/5] END .....C=0.1, gamma=0.01, kernel=rbf;, score=0.868 total time=   0.0s\n",
      "[CV 4/5] END .....C=0.1, gamma=0.01, kernel=rbf;, score=0.868 total time=   0.0s\n",
      "[CV 5/5] END .....C=0.1, gamma=0.01, kernel=rbf;, score=0.867 total time=   0.0s\n",
      "[CV 1/5] END ....C=0.1, gamma=0.001, kernel=rbf;, score=0.868 total time=   0.0s\n",
      "[CV 2/5] END ....C=0.1, gamma=0.001, kernel=rbf;, score=0.868 total time=   0.0s\n",
      "[CV 3/5] END ....C=0.1, gamma=0.001, kernel=rbf;, score=0.868 total time=   0.0s\n",
      "[CV 4/5] END ....C=0.1, gamma=0.001, kernel=rbf;, score=0.868 total time=   0.0s\n",
      "[CV 5/5] END ....C=0.1, gamma=0.001, kernel=rbf;, score=0.867 total time=   0.0s\n",
      "[CV 1/5] END ...C=0.1, gamma=0.0001, kernel=rbf;, score=0.868 total time=   0.0s\n",
      "[CV 2/5] END ...C=0.1, gamma=0.0001, kernel=rbf;, score=0.868 total time=   0.0s\n",
      "[CV 3/5] END ...C=0.1, gamma=0.0001, kernel=rbf;, score=0.868 total time=   0.0s\n",
      "[CV 4/5] END ...C=0.1, gamma=0.0001, kernel=rbf;, score=0.868 total time=   0.0s\n",
      "[CV 5/5] END ...C=0.1, gamma=0.0001, kernel=rbf;, score=0.867 total time=   0.0s\n",
      "[CV 1/5] END ..........C=1, gamma=1, kernel=rbf;, score=0.868 total time=   0.0s\n",
      "[CV 2/5] END ..........C=1, gamma=1, kernel=rbf;, score=0.876 total time=   0.0s\n",
      "[CV 3/5] END ..........C=1, gamma=1, kernel=rbf;, score=0.876 total time=   0.0s\n",
      "[CV 4/5] END ..........C=1, gamma=1, kernel=rbf;, score=0.876 total time=   0.0s\n",
      "[CV 5/5] END ..........C=1, gamma=1, kernel=rbf;, score=0.875 total time=   0.0s\n",
      "[CV 1/5] END ........C=1, gamma=0.1, kernel=rbf;, score=0.868 total time=   0.0s\n",
      "[CV 2/5] END ........C=1, gamma=0.1, kernel=rbf;, score=0.893 total time=   0.0s\n",
      "[CV 3/5] END ........C=1, gamma=0.1, kernel=rbf;, score=0.893 total time=   0.0s\n",
      "[CV 4/5] END ........C=1, gamma=0.1, kernel=rbf;, score=0.893 total time=   0.0s\n",
      "[CV 5/5] END ........C=1, gamma=0.1, kernel=rbf;, score=0.892 total time=   0.0s\n",
      "[CV 1/5] END .......C=1, gamma=0.01, kernel=rbf;, score=0.926 total time=   0.0s\n",
      "[CV 2/5] END .......C=1, gamma=0.01, kernel=rbf;, score=0.901 total time=   0.0s\n",
      "[CV 3/5] END .......C=1, gamma=0.01, kernel=rbf;, score=0.917 total time=   0.0s\n",
      "[CV 4/5] END .......C=1, gamma=0.01, kernel=rbf;, score=0.926 total time=   0.0s\n",
      "[CV 5/5] END .......C=1, gamma=0.01, kernel=rbf;, score=0.950 total time=   0.0s\n",
      "[CV 1/5] END ......C=1, gamma=0.001, kernel=rbf;, score=0.950 total time=   0.0s\n",
      "[CV 2/5] END ......C=1, gamma=0.001, kernel=rbf;, score=0.926 total time=   0.0s\n",
      "[CV 3/5] END ......C=1, gamma=0.001, kernel=rbf;, score=0.917 total time=   0.0s\n",
      "[CV 4/5] END ......C=1, gamma=0.001, kernel=rbf;, score=0.942 total time=   0.0s\n",
      "[CV 5/5] END ......C=1, gamma=0.001, kernel=rbf;, score=0.950 total time=   0.0s\n",
      "[CV 1/5] END .....C=1, gamma=0.0001, kernel=rbf;, score=0.901 total time=   0.0s\n",
      "[CV 2/5] END .....C=1, gamma=0.0001, kernel=rbf;, score=0.917 total time=   0.0s\n",
      "[CV 3/5] END .....C=1, gamma=0.0001, kernel=rbf;, score=0.926 total time=   0.0s\n",
      "[CV 4/5] END .....C=1, gamma=0.0001, kernel=rbf;, score=0.950 total time=   0.0s\n",
      "[CV 5/5] END .....C=1, gamma=0.0001, kernel=rbf;, score=0.933 total time=   0.0s\n",
      "[CV 1/5] END .........C=10, gamma=1, kernel=rbf;, score=0.868 total time=   0.0s\n",
      "[CV 2/5] END .........C=10, gamma=1, kernel=rbf;, score=0.876 total time=   0.0s\n",
      "[CV 3/5] END .........C=10, gamma=1, kernel=rbf;, score=0.876 total time=   0.0s\n",
      "[CV 4/5] END .........C=10, gamma=1, kernel=rbf;, score=0.876 total time=   0.0s\n",
      "[CV 5/5] END .........C=10, gamma=1, kernel=rbf;, score=0.875 total time=   0.0s\n",
      "[CV 1/5] END .......C=10, gamma=0.1, kernel=rbf;, score=0.876 total time=   0.0s\n",
      "[CV 2/5] END .......C=10, gamma=0.1, kernel=rbf;, score=0.909 total time=   0.0s\n",
      "[CV 3/5] END .......C=10, gamma=0.1, kernel=rbf;, score=0.893 total time=   0.0s\n",
      "[CV 4/5] END .......C=10, gamma=0.1, kernel=rbf;, score=0.893 total time=   0.0s\n",
      "[CV 5/5] END .......C=10, gamma=0.1, kernel=rbf;, score=0.917 total time=   0.0s\n",
      "[CV 1/5] END ......C=10, gamma=0.01, kernel=rbf;, score=0.917 total time=   0.0s\n",
      "[CV 2/5] END ......C=10, gamma=0.01, kernel=rbf;, score=0.917 total time=   0.0s\n",
      "[CV 3/5] END ......C=10, gamma=0.01, kernel=rbf;, score=0.917 total time=   0.0s\n",
      "[CV 4/5] END ......C=10, gamma=0.01, kernel=rbf;, score=0.926 total time=   0.0s\n",
      "[CV 5/5] END ......C=10, gamma=0.01, kernel=rbf;, score=0.942 total time=   0.0s\n",
      "[CV 1/5] END .....C=10, gamma=0.001, kernel=rbf;, score=0.967 total time=   0.0s\n",
      "[CV 2/5] END .....C=10, gamma=0.001, kernel=rbf;, score=0.934 total time=   0.0s\n",
      "[CV 3/5] END .....C=10, gamma=0.001, kernel=rbf;, score=0.917 total time=   0.0s\n",
      "[CV 4/5] END .....C=10, gamma=0.001, kernel=rbf;, score=0.959 total time=   0.0s\n",
      "[CV 5/5] END .....C=10, gamma=0.001, kernel=rbf;, score=0.967 total time=   0.0s\n",
      "[CV 1/5] END ....C=10, gamma=0.0001, kernel=rbf;, score=0.950 total time=   0.0s\n",
      "[CV 2/5] END ....C=10, gamma=0.0001, kernel=rbf;, score=0.926 total time=   0.0s\n",
      "[CV 3/5] END ....C=10, gamma=0.0001, kernel=rbf;, score=0.909 total time=   0.0s\n",
      "[CV 4/5] END ....C=10, gamma=0.0001, kernel=rbf;, score=0.959 total time=   0.0s\n",
      "[CV 5/5] END ....C=10, gamma=0.0001, kernel=rbf;, score=0.950 total time=   0.0s\n",
      "[CV 1/5] END ........C=100, gamma=1, kernel=rbf;, score=0.868 total time=   0.0s\n",
      "[CV 2/5] END ........C=100, gamma=1, kernel=rbf;, score=0.876 total time=   0.0s\n",
      "[CV 3/5] END ........C=100, gamma=1, kernel=rbf;, score=0.876 total time=   0.0s\n",
      "[CV 4/5] END ........C=100, gamma=1, kernel=rbf;, score=0.876 total time=   0.0s\n",
      "[CV 5/5] END ........C=100, gamma=1, kernel=rbf;, score=0.875 total time=   0.0s\n",
      "[CV 1/5] END ......C=100, gamma=0.1, kernel=rbf;, score=0.876 total time=   0.0s\n",
      "[CV 2/5] END ......C=100, gamma=0.1, kernel=rbf;, score=0.909 total time=   0.0s\n",
      "[CV 3/5] END ......C=100, gamma=0.1, kernel=rbf;, score=0.893 total time=   0.0s\n",
      "[CV 4/5] END ......C=100, gamma=0.1, kernel=rbf;, score=0.893 total time=   0.0s\n",
      "[CV 5/5] END ......C=100, gamma=0.1, kernel=rbf;, score=0.917 total time=   0.0s\n",
      "[CV 1/5] END .....C=100, gamma=0.01, kernel=rbf;, score=0.942 total time=   0.0s\n",
      "[CV 2/5] END .....C=100, gamma=0.01, kernel=rbf;, score=0.917 total time=   0.0s\n",
      "[CV 3/5] END .....C=100, gamma=0.01, kernel=rbf;, score=0.926 total time=   0.0s\n",
      "[CV 4/5] END .....C=100, gamma=0.01, kernel=rbf;, score=0.934 total time=   0.0s\n",
      "[CV 5/5] END .....C=100, gamma=0.01, kernel=rbf;, score=0.942 total time=   0.0s\n",
      "[CV 1/5] END ....C=100, gamma=0.001, kernel=rbf;, score=0.959 total time=   0.0s\n",
      "[CV 2/5] END ....C=100, gamma=0.001, kernel=rbf;, score=0.934 total time=   0.0s\n",
      "[CV 3/5] END ....C=100, gamma=0.001, kernel=rbf;, score=0.942 total time=   0.0s\n",
      "[CV 4/5] END ....C=100, gamma=0.001, kernel=rbf;, score=0.959 total time=   0.0s\n",
      "[CV 5/5] END ....C=100, gamma=0.001, kernel=rbf;, score=0.942 total time=   0.0s\n",
      "[CV 1/5] END ...C=100, gamma=0.0001, kernel=rbf;, score=0.967 total time=   0.0s\n",
      "[CV 2/5] END ...C=100, gamma=0.0001, kernel=rbf;, score=0.926 total time=   0.0s\n",
      "[CV 3/5] END ...C=100, gamma=0.0001, kernel=rbf;, score=0.909 total time=   0.0s\n",
      "[CV 4/5] END ...C=100, gamma=0.0001, kernel=rbf;, score=0.975 total time=   0.0s\n",
      "[CV 5/5] END ...C=100, gamma=0.0001, kernel=rbf;, score=0.958 total time=   0.0s\n",
      "[CV 1/5] END .......C=1000, gamma=1, kernel=rbf;, score=0.868 total time=   0.0s\n",
      "[CV 2/5] END .......C=1000, gamma=1, kernel=rbf;, score=0.876 total time=   0.0s\n",
      "[CV 3/5] END .......C=1000, gamma=1, kernel=rbf;, score=0.876 total time=   0.0s\n",
      "[CV 4/5] END .......C=1000, gamma=1, kernel=rbf;, score=0.876 total time=   0.0s\n",
      "[CV 5/5] END .......C=1000, gamma=1, kernel=rbf;, score=0.875 total time=   0.0s\n",
      "[CV 1/5] END .....C=1000, gamma=0.1, kernel=rbf;, score=0.876 total time=   0.0s\n",
      "[CV 2/5] END .....C=1000, gamma=0.1, kernel=rbf;, score=0.909 total time=   0.0s\n",
      "[CV 3/5] END .....C=1000, gamma=0.1, kernel=rbf;, score=0.893 total time=   0.0s\n",
      "[CV 4/5] END .....C=1000, gamma=0.1, kernel=rbf;, score=0.893 total time=   0.0s\n",
      "[CV 5/5] END .....C=1000, gamma=0.1, kernel=rbf;, score=0.917 total time=   0.0s\n",
      "[CV 1/5] END ....C=1000, gamma=0.01, kernel=rbf;, score=0.942 total time=   0.0s\n",
      "[CV 2/5] END ....C=1000, gamma=0.01, kernel=rbf;, score=0.917 total time=   0.0s\n",
      "[CV 3/5] END ....C=1000, gamma=0.01, kernel=rbf;, score=0.934 total time=   0.0s\n",
      "[CV 4/5] END ....C=1000, gamma=0.01, kernel=rbf;, score=0.934 total time=   0.0s\n",
      "[CV 5/5] END ....C=1000, gamma=0.01, kernel=rbf;, score=0.942 total time=   0.0s\n",
      "[CV 1/5] END ...C=1000, gamma=0.001, kernel=rbf;, score=0.975 total time=   0.0s\n",
      "[CV 2/5] END ...C=1000, gamma=0.001, kernel=rbf;, score=0.942 total time=   0.0s\n",
      "[CV 3/5] END ...C=1000, gamma=0.001, kernel=rbf;, score=0.959 total time=   0.0s\n",
      "[CV 4/5] END ...C=1000, gamma=0.001, kernel=rbf;, score=0.959 total time=   0.0s\n",
      "[CV 5/5] END ...C=1000, gamma=0.001, kernel=rbf;, score=0.950 total time=   0.0s\n",
      "[CV 1/5] END ..C=1000, gamma=0.0001, kernel=rbf;, score=0.992 total time=   0.0s\n",
      "[CV 2/5] END ..C=1000, gamma=0.0001, kernel=rbf;, score=0.950 total time=   0.0s\n",
      "[CV 3/5] END ..C=1000, gamma=0.0001, kernel=rbf;, score=0.975 total time=   0.0s\n",
      "[CV 4/5] END ..C=1000, gamma=0.0001, kernel=rbf;, score=0.975 total time=   0.0s\n",
      "[CV 5/5] END ..C=1000, gamma=0.0001, kernel=rbf;, score=0.992 total time=   0.0s\n"
     ]
    },
    {
     "data": {
      "text/html": [
       "<style>#sk-container-id-48 {color: black;background-color: white;}#sk-container-id-48 pre{padding: 0;}#sk-container-id-48 div.sk-toggleable {background-color: white;}#sk-container-id-48 label.sk-toggleable__label {cursor: pointer;display: block;width: 100%;margin-bottom: 0;padding: 0.3em;box-sizing: border-box;text-align: center;}#sk-container-id-48 label.sk-toggleable__label-arrow:before {content: \"▸\";float: left;margin-right: 0.25em;color: #696969;}#sk-container-id-48 label.sk-toggleable__label-arrow:hover:before {color: black;}#sk-container-id-48 div.sk-estimator:hover label.sk-toggleable__label-arrow:before {color: black;}#sk-container-id-48 div.sk-toggleable__content {max-height: 0;max-width: 0;overflow: hidden;text-align: left;background-color: #f0f8ff;}#sk-container-id-48 div.sk-toggleable__content pre {margin: 0.2em;color: black;border-radius: 0.25em;background-color: #f0f8ff;}#sk-container-id-48 input.sk-toggleable__control:checked~div.sk-toggleable__content {max-height: 200px;max-width: 100%;overflow: auto;}#sk-container-id-48 input.sk-toggleable__control:checked~label.sk-toggleable__label-arrow:before {content: \"▾\";}#sk-container-id-48 div.sk-estimator input.sk-toggleable__control:checked~label.sk-toggleable__label {background-color: #d4ebff;}#sk-container-id-48 div.sk-label input.sk-toggleable__control:checked~label.sk-toggleable__label {background-color: #d4ebff;}#sk-container-id-48 input.sk-hidden--visually {border: 0;clip: rect(1px 1px 1px 1px);clip: rect(1px, 1px, 1px, 1px);height: 1px;margin: -1px;overflow: hidden;padding: 0;position: absolute;width: 1px;}#sk-container-id-48 div.sk-estimator {font-family: monospace;background-color: #f0f8ff;border: 1px dotted black;border-radius: 0.25em;box-sizing: border-box;margin-bottom: 0.5em;}#sk-container-id-48 div.sk-estimator:hover {background-color: #d4ebff;}#sk-container-id-48 div.sk-parallel-item::after {content: \"\";width: 100%;border-bottom: 1px solid gray;flex-grow: 1;}#sk-container-id-48 div.sk-label:hover label.sk-toggleable__label {background-color: #d4ebff;}#sk-container-id-48 div.sk-serial::before {content: \"\";position: absolute;border-left: 1px solid gray;box-sizing: border-box;top: 0;bottom: 0;left: 50%;z-index: 0;}#sk-container-id-48 div.sk-serial {display: flex;flex-direction: column;align-items: center;background-color: white;padding-right: 0.2em;padding-left: 0.2em;position: relative;}#sk-container-id-48 div.sk-item {position: relative;z-index: 1;}#sk-container-id-48 div.sk-parallel {display: flex;align-items: stretch;justify-content: center;background-color: white;position: relative;}#sk-container-id-48 div.sk-item::before, #sk-container-id-48 div.sk-parallel-item::before {content: \"\";position: absolute;border-left: 1px solid gray;box-sizing: border-box;top: 0;bottom: 0;left: 50%;z-index: -1;}#sk-container-id-48 div.sk-parallel-item {display: flex;flex-direction: column;z-index: 1;position: relative;background-color: white;}#sk-container-id-48 div.sk-parallel-item:first-child::after {align-self: flex-end;width: 50%;}#sk-container-id-48 div.sk-parallel-item:last-child::after {align-self: flex-start;width: 50%;}#sk-container-id-48 div.sk-parallel-item:only-child::after {width: 0;}#sk-container-id-48 div.sk-dashed-wrapped {border: 1px dashed gray;margin: 0 0.4em 0.5em 0.4em;box-sizing: border-box;padding-bottom: 0.4em;background-color: white;}#sk-container-id-48 div.sk-label label {font-family: monospace;font-weight: bold;display: inline-block;line-height: 1.2em;}#sk-container-id-48 div.sk-label-container {text-align: center;}#sk-container-id-48 div.sk-container {/* jupyter's `normalize.less` sets `[hidden] { display: none; }` but bootstrap.min.css set `[hidden] { display: none !important; }` so we also need the `!important` here to be able to override the default hidden behavior on the sphinx rendered scikit-learn.org. See: https://github.com/scikit-learn/scikit-learn/issues/21755 */display: inline-block !important;position: relative;}#sk-container-id-48 div.sk-text-repr-fallback {display: none;}</style><div id=\"sk-container-id-48\" class=\"sk-top-container\"><div class=\"sk-text-repr-fallback\"><pre>GridSearchCV(estimator=SVC(),\n",
       "             param_grid={&#x27;C&#x27;: [0.1, 1, 10, 100, 1000],\n",
       "                         &#x27;gamma&#x27;: [1, 0.1, 0.01, 0.001, 0.0001],\n",
       "                         &#x27;kernel&#x27;: [&#x27;rbf&#x27;]},\n",
       "             verbose=3)</pre><b>In a Jupyter environment, please rerun this cell to show the HTML representation or trust the notebook. <br />On GitHub, the HTML representation is unable to render, please try loading this page with nbviewer.org.</b></div><div class=\"sk-container\" hidden><div class=\"sk-item sk-dashed-wrapped\"><div class=\"sk-label-container\"><div class=\"sk-label sk-toggleable\"><input class=\"sk-toggleable__control sk-hidden--visually\" id=\"sk-estimator-id-104\" type=\"checkbox\" ><label for=\"sk-estimator-id-104\" class=\"sk-toggleable__label sk-toggleable__label-arrow\">GridSearchCV</label><div class=\"sk-toggleable__content\"><pre>GridSearchCV(estimator=SVC(),\n",
       "             param_grid={&#x27;C&#x27;: [0.1, 1, 10, 100, 1000],\n",
       "                         &#x27;gamma&#x27;: [1, 0.1, 0.01, 0.001, 0.0001],\n",
       "                         &#x27;kernel&#x27;: [&#x27;rbf&#x27;]},\n",
       "             verbose=3)</pre></div></div></div><div class=\"sk-parallel\"><div class=\"sk-parallel-item\"><div class=\"sk-item\"><div class=\"sk-label-container\"><div class=\"sk-label sk-toggleable\"><input class=\"sk-toggleable__control sk-hidden--visually\" id=\"sk-estimator-id-105\" type=\"checkbox\" ><label for=\"sk-estimator-id-105\" class=\"sk-toggleable__label sk-toggleable__label-arrow\">estimator: SVC</label><div class=\"sk-toggleable__content\"><pre>SVC()</pre></div></div></div><div class=\"sk-serial\"><div class=\"sk-item\"><div class=\"sk-estimator sk-toggleable\"><input class=\"sk-toggleable__control sk-hidden--visually\" id=\"sk-estimator-id-106\" type=\"checkbox\" ><label for=\"sk-estimator-id-106\" class=\"sk-toggleable__label sk-toggleable__label-arrow\">SVC</label><div class=\"sk-toggleable__content\"><pre>SVC()</pre></div></div></div></div></div></div></div></div></div></div>"
      ],
      "text/plain": [
       "GridSearchCV(estimator=SVC(),\n",
       "             param_grid={'C': [0.1, 1, 10, 100, 1000],\n",
       "                         'gamma': [1, 0.1, 0.01, 0.001, 0.0001],\n",
       "                         'kernel': ['rbf']},\n",
       "             verbose=3)"
      ]
     },
     "execution_count": 513,
     "metadata": {},
     "output_type": "execute_result"
    }
   ],
   "source": [
    "from sklearn.model_selection import GridSearchCV\n",
    "  \n",
    "# defining parameter range\n",
    "param_grid = {'C': [0.1, 1, 10, 100, 1000], \n",
    "              'gamma': [1, 0.1, 0.01, 0.001, 0.0001],\n",
    "              'kernel': ['rbf']} \n",
    "  \n",
    "grid = GridSearchCV(SVC(), param_grid, refit = True, verbose = 3)\n",
    "  \n",
    "# fitting the model for grid search\n",
    "grid.fit(x_train, y_train)"
   ]
  },
  {
   "cell_type": "code",
   "execution_count": 514,
   "metadata": {},
   "outputs": [
    {
     "name": "stdout",
     "output_type": "stream",
     "text": [
      "              precision    recall  f1-score   support\n",
      "\n",
      "           0       0.97      0.98      0.97       115\n",
      "           1       0.85      0.73      0.79        15\n",
      "\n",
      "    accuracy                           0.95       130\n",
      "   macro avg       0.91      0.86      0.88       130\n",
      "weighted avg       0.95      0.95      0.95       130\n",
      "\n"
     ]
    }
   ],
   "source": [
    "grid_predictions = grid.predict(x_test)\n",
    "# print classification report\n",
    "print(classification_report(y_test, grid_predictions))"
   ]
  },
  {
   "cell_type": "code",
   "execution_count": 515,
   "metadata": {},
   "outputs": [
    {
     "name": "stdout",
     "output_type": "stream",
     "text": [
      "ACCURACY OF THE MODEL:  0.9153846153846154\n"
     ]
    }
   ],
   "source": [
    "print(\"ACCURACY OF THE MODEL: \", metrics.accuracy_score(y_test, predictions))"
   ]
  },
  {
   "cell_type": "code",
   "execution_count": 516,
   "metadata": {},
   "outputs": [
    {
     "name": "stderr",
     "output_type": "stream",
     "text": [
      "c:\\Users\\HP\\AppData\\Local\\Programs\\Python\\Python311\\Lib\\site-packages\\sklearn\\model_selection\\_search.py:306: UserWarning: The total space of parameters 16 is smaller than n_iter=50. Running 16 iterations. For exhaustive searches, use GridSearchCV.\n",
      "  warnings.warn(\n"
     ]
    },
    {
     "name": "stdout",
     "output_type": "stream",
     "text": [
      "              precision    recall  f1-score   support\n",
      "\n",
      "           0       0.93      0.98      0.95       115\n",
      "           1       0.75      0.40      0.52        15\n",
      "\n",
      "    accuracy                           0.92       130\n",
      "   macro avg       0.84      0.69      0.74       130\n",
      "weighted avg       0.91      0.92      0.90       130\n",
      "\n"
     ]
    }
   ],
   "source": [
    "param_dist = {\n",
    "          'rbf_svm__C': [1, 10, 100, 1000], \n",
    "          'rbf_svm__gamma': [0.001, 0.0001], \n",
    "          'rbf_svm__kernel': ['rbf', 'linear'],\n",
    "}\n",
    "# create pipeline with a scaler \n",
    "steps = [('scaler', StandardScaler()), ('rbf_svm', SVC())]\n",
    "pipeline = Pipeline(steps)\n",
    "# do search\n",
    "search = RandomizedSearchCV(pipeline, \n",
    "param_distributions=param_dist, n_iter=50)\n",
    "search.fit(x_train, y_train)\n",
    "\n",
    "print(classification_report(y_test, predictions))"
   ]
  },
  {
   "cell_type": "code",
   "execution_count": 517,
   "metadata": {},
   "outputs": [
    {
     "name": "stdout",
     "output_type": "stream",
     "text": [
      "ACCURACY OF THE MODEL:  0.9153846153846154\n"
     ]
    }
   ],
   "source": [
    "print(\"ACCURACY OF THE MODEL: \", metrics.accuracy_score(y_test, predictions))"
   ]
  },
  {
   "cell_type": "code",
   "execution_count": 518,
   "metadata": {},
   "outputs": [],
   "source": [
    "# utils.plot_train_cv_test(x_train, y_train, x_cv, y_cv, x_test, y_test, title=\"input vs. target\")"
   ]
  },
  {
   "attachments": {},
   "cell_type": "markdown",
   "metadata": {},
   "source": [
    "**MultiLayer**\n",
    "\n"
   ]
  },
  {
   "cell_type": "code",
   "execution_count": 519,
   "metadata": {},
   "outputs": [],
   "source": [
    "#model = Sequential(\n",
    " #   [               \n",
    "  #      tf.keras.Input(shape=(400,)),    #specify input size\n",
    "        ### START CODE HERE ### \n",
    "   #     Dense(units=25, activation='relu'), Dense(units=15, activation='relu'), Dense(units=1, activation='sigmoid')\n",
    "        \n",
    "        \n",
    "        ### END CODE HERE ### \n",
    "   # ], name = \"my_model\" \n",
    "#)                            \n"
   ]
  },
  {
   "cell_type": "code",
   "execution_count": 520,
   "metadata": {},
   "outputs": [],
   "source": [
    "# Add polynomial features\n",
    "degree = 1\n",
    "poly = PolynomialFeatures(degree, include_bias=False)\n",
    "X_train_mapped = poly.fit_transform(x_train)\n",
    "X_cv_mapped = poly.transform(x_cv)\n",
    "X_test_mapped = poly.transform(x_test)"
   ]
  },
  {
   "attachments": {},
   "cell_type": "markdown",
   "metadata": {},
   "source": [
    "**KNN**\n",
    "\n",
    "supervised learning algorithm \n"
   ]
  },
  {
   "attachments": {},
   "cell_type": "markdown",
   "metadata": {},
   "source": [
    "We will try to predict using the cross-validation dataset and calculate the accuracy between the expected output and the original output by trying different number of neighbors "
   ]
  },
  {
   "cell_type": "code",
<<<<<<< HEAD
   "execution_count": 521,
=======
   "execution_count": 6,
>>>>>>> 4bf83f93ef54cbf3a337acbe3ddf4cf1d082f5ff
   "metadata": {},
   "outputs": [
    {
     "name": "stderr",
     "output_type": "stream",
     "text": [
      "c:\\Users\\HP\\AppData\\Local\\Programs\\Python\\Python311\\Lib\\site-packages\\sklearn\\base.py:443: UserWarning: X has feature names, but KNeighborsClassifier was fitted without feature names\n",
      "  warnings.warn(\n",
      "c:\\Users\\HP\\AppData\\Local\\Programs\\Python\\Python311\\Lib\\site-packages\\sklearn\\base.py:443: UserWarning: X has feature names, but KNeighborsClassifier was fitted without feature names\n",
      "  warnings.warn(\n",
      "c:\\Users\\HP\\AppData\\Local\\Programs\\Python\\Python311\\Lib\\site-packages\\sklearn\\base.py:443: UserWarning: X has feature names, but KNeighborsClassifier was fitted without feature names\n",
      "  warnings.warn(\n",
      "c:\\Users\\HP\\AppData\\Local\\Programs\\Python\\Python311\\Lib\\site-packages\\sklearn\\base.py:443: UserWarning: X has feature names, but KNeighborsClassifier was fitted without feature names\n",
      "  warnings.warn(\n",
      "c:\\Users\\HP\\AppData\\Local\\Programs\\Python\\Python311\\Lib\\site-packages\\sklearn\\base.py:443: UserWarning: X has feature names, but KNeighborsClassifier was fitted without feature names\n",
      "  warnings.warn(\n",
      "c:\\Users\\HP\\AppData\\Local\\Programs\\Python\\Python311\\Lib\\site-packages\\sklearn\\base.py:443: UserWarning: X has feature names, but KNeighborsClassifier was fitted without feature names\n",
      "  warnings.warn(\n",
      "c:\\Users\\HP\\AppData\\Local\\Programs\\Python\\Python311\\Lib\\site-packages\\sklearn\\base.py:443: UserWarning: X has feature names, but KNeighborsClassifier was fitted without feature names\n",
      "  warnings.warn(\n",
      "c:\\Users\\HP\\AppData\\Local\\Programs\\Python\\Python311\\Lib\\site-packages\\sklearn\\base.py:443: UserWarning: X has feature names, but KNeighborsClassifier was fitted without feature names\n",
      "  warnings.warn(\n",
      "c:\\Users\\HP\\AppData\\Local\\Programs\\Python\\Python311\\Lib\\site-packages\\sklearn\\base.py:443: UserWarning: X has feature names, but KNeighborsClassifier was fitted without feature names\n",
      "  warnings.warn(\n",
      "c:\\Users\\HP\\AppData\\Local\\Programs\\Python\\Python311\\Lib\\site-packages\\sklearn\\base.py:443: UserWarning: X has feature names, but KNeighborsClassifier was fitted without feature names\n",
      "  warnings.warn(\n",
      "c:\\Users\\HP\\AppData\\Local\\Programs\\Python\\Python311\\Lib\\site-packages\\sklearn\\base.py:443: UserWarning: X has feature names, but KNeighborsClassifier was fitted without feature names\n",
      "  warnings.warn(\n",
      "c:\\Users\\HP\\AppData\\Local\\Programs\\Python\\Python311\\Lib\\site-packages\\sklearn\\base.py:443: UserWarning: X has feature names, but KNeighborsClassifier was fitted without feature names\n",
      "  warnings.warn(\n",
      "c:\\Users\\HP\\AppData\\Local\\Programs\\Python\\Python311\\Lib\\site-packages\\sklearn\\base.py:443: UserWarning: X has feature names, but KNeighborsClassifier was fitted without feature names\n",
      "  warnings.warn(\n",
      "c:\\Users\\HP\\AppData\\Local\\Programs\\Python\\Python311\\Lib\\site-packages\\sklearn\\base.py:443: UserWarning: X has feature names, but KNeighborsClassifier was fitted without feature names\n",
      "  warnings.warn(\n",
      "c:\\Users\\HP\\AppData\\Local\\Programs\\Python\\Python311\\Lib\\site-packages\\sklearn\\base.py:443: UserWarning: X has feature names, but KNeighborsClassifier was fitted without feature names\n",
      "  warnings.warn(\n",
      "c:\\Users\\HP\\AppData\\Local\\Programs\\Python\\Python311\\Lib\\site-packages\\sklearn\\base.py:443: UserWarning: X has feature names, but KNeighborsClassifier was fitted without feature names\n",
      "  warnings.warn(\n",
      "c:\\Users\\HP\\AppData\\Local\\Programs\\Python\\Python311\\Lib\\site-packages\\sklearn\\base.py:443: UserWarning: X has feature names, but KNeighborsClassifier was fitted without feature names\n",
      "  warnings.warn(\n",
      "c:\\Users\\HP\\AppData\\Local\\Programs\\Python\\Python311\\Lib\\site-packages\\sklearn\\base.py:443: UserWarning: X has feature names, but KNeighborsClassifier was fitted without feature names\n",
      "  warnings.warn(\n",
      "c:\\Users\\HP\\AppData\\Local\\Programs\\Python\\Python311\\Lib\\site-packages\\sklearn\\base.py:443: UserWarning: X has feature names, but KNeighborsClassifier was fitted without feature names\n",
      "  warnings.warn(\n",
      "c:\\Users\\HP\\AppData\\Local\\Programs\\Python\\Python311\\Lib\\site-packages\\sklearn\\base.py:443: UserWarning: X has feature names, but KNeighborsClassifier was fitted without feature names\n",
      "  warnings.warn(\n"
     ]
    },
    {
     "data": {
      "text/plain": [
       "array([0.18604651, 0.20930233, 0.17054264, 0.17054264, 0.17054264,\n",
       "       0.19379845, 0.17054264, 0.18604651, 0.18604651, 0.21705426,\n",
       "       0.17054264, 0.21705426, 0.20930233, 0.25581395, 0.23255814,\n",
       "       0.28682171, 0.18604651, 0.20930233, 0.19379845, 0.24806202])"
      ]
     },
     "execution_count": 521,
     "metadata": {},
     "output_type": "execute_result"
    }
   ],
   "source": [
<<<<<<< HEAD
    "from sklearn.neighbors import KNeighborsClassifier\n",
=======
    "\n",
>>>>>>> 4bf83f93ef54cbf3a337acbe3ddf4cf1d082f5ff
    "\n",
    "acc=np.zeros(20)\n",
    "#compare with validation data set to make sure of it\n",
    "#matrix=confusion_matrix(y_cv,y_prediction)\n",
    "#print(matrix)\n",
    "scaler = preprocessing.StandardScaler()\n",
    "x_train = scaler.fit_transform(x_train)\n",
    "x_test = scaler.transform(x_test)\n",
    "for i in range(1,21):\n",
    "    #Train Model and Predict  \n",
    "    knn = KNeighborsClassifier(n_neighbors = i).fit(x_train,y_train)\n",
    "    yhat= knn.predict(x_cv)\n",
    "    acc[i-1] = metrics.accuracy_score(y_cv, yhat)\n",
    "\n",
    "acc"
   ]
  },
  {
   "attachments": {},
   "cell_type": "markdown",
   "metadata": {},
   "source": [
    "we define a range of k values from 1 to 30, and we use 10-fold cross-validation to evaluate the accuracy of the model for each value of k. We store the cross-validation scores in a list, and we find the optimal k by selecting the value that gives the highest cross-validation score."
   ]
  },
  {
   "cell_type": "code",
<<<<<<< HEAD
   "execution_count": 522,
=======
   "execution_count": 11,
>>>>>>> 4bf83f93ef54cbf3a337acbe3ddf4cf1d082f5ff
   "metadata": {},
   "outputs": [
    {
     "name": "stdout",
     "output_type": "stream",
     "text": [
      "[0.95081967 0.90163934 0.8852459  0.91803279 0.93333333 0.91666667\n",
      " 0.91666667 0.95       0.93333333 0.9       ]\n"
     ]
    }
   ],
   "source": [
    "from sklearn.model_selection import cross_val_score\n",
    "neighbors=[]\n",
<<<<<<< HEAD
    "cv_scores=[]\n",
    "for k in range(1, 51, 2):\n",
=======
    "k_range=range(1,31)\n",
    "cv_scores=[]\n",
    "for k in k_range:\n",
>>>>>>> 4bf83f93ef54cbf3a337acbe3ddf4cf1d082f5ff
    "    neighbors.append(k)\n",
    "    knn=KNeighborsClassifier ( n_neighbors=k)\n",
    "    scores=cross_val_score(knn,x_train,y_train,cv=10, scoring='accuracy')\n",
    "    cv_scores.append(scores.mean())\n",
    "\n",
    "scores=cross_val_score(knn,x_train,y_train,cv=10, scoring='accuracy')\n",
    "print(scores)"
   ]
  },
  {
   "cell_type": "code",
<<<<<<< HEAD
   "execution_count": 523,
=======
   "execution_count": 13,
   "metadata": {},
   "outputs": [
    {
     "name": "stdout",
     "output_type": "stream",
     "text": [
      " The optimal number of neigbors is 1 \n"
     ]
    }
   ],
   "source": [
    "optimal_k=k_range[np.argmax(cv_scores)]\n",
    "print(f\" The optimal number of neigbors is {optimal_k} \")"
   ]
  },
  {
   "attachments": {},
   "cell_type": "markdown",
   "metadata": {},
   "source": [
    "Also we tried to determine the best k using the MeanSquared Error by finding the k that gives the minimum MSE"
   ]
  },
  {
   "cell_type": "code",
   "execution_count": 12,
>>>>>>> 4bf83f93ef54cbf3a337acbe3ddf4cf1d082f5ff
   "metadata": {},
   "outputs": [
    {
     "name": "stdout",
     "output_type": "stream",
     "text": [
      "1\n"
     ]
    },
    {
     "data": {
<<<<<<< HEAD
      "image/png": "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",
=======
      "image/png": "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",
>>>>>>> 4bf83f93ef54cbf3a337acbe3ddf4cf1d082f5ff
      "text/plain": [
       "<Figure size 1000x600 with 1 Axes>"
      ]
     },
     "metadata": {},
     "output_type": "display_data"
    }
   ],
   "source": [
<<<<<<< HEAD
    "# for determining the best k\n",
    "MSE=[1-x for x in cv_scores]\n",
    "\n",
=======
    "\n",
    "MSE=[1-x for x in cv_scores]\n",
    "\n",
>>>>>>> 4bf83f93ef54cbf3a337acbe3ddf4cf1d082f5ff
    "optimal_k =neighbors[MSE.index(min(MSE))]\n",
    "print(optimal_k)\n",
    "plt.figure(figsize=(10,6))\n",
    "plt.plot(neighbors,MSE)\n",
    "plt.xlabel(\"K\")\n",
    "plt.ylabel(\"Missclassification error\")\n",
    "plt.show()"
<<<<<<< HEAD
   ]
  },
  {
   "cell_type": "code",
   "execution_count": 524,
   "metadata": {},
   "outputs": [],
   "source": [
    "def mahalanobis(x=None, data=None, cov=None):\n",
    "    x_mu = x - np.mean(data)\n",
    "    if not cov:\n",
    "        cov = np.cov(data.values.T)\n",
    "        inv_covmat = np.linalg.inv(cov)\n",
    "        left = np.dot(x_mu, inv_covmat)\n",
    "        mahal = np.dot(left, x_mu.T)\n",
    "    return mahal.diagonal()\n"
   ]
  },
  {
   "attachments": {},
   "cell_type": "markdown",
   "metadata": {},
   "source": [
    "Changing the distance hyperparameter"
   ]
  },
  {
   "cell_type": "code",
   "execution_count": 525,
   "metadata": {},
   "outputs": [
    {
     "data": {
      "text/html": [
       "<style>#sk-container-id-49 {color: black;background-color: white;}#sk-container-id-49 pre{padding: 0;}#sk-container-id-49 div.sk-toggleable {background-color: white;}#sk-container-id-49 label.sk-toggleable__label {cursor: pointer;display: block;width: 100%;margin-bottom: 0;padding: 0.3em;box-sizing: border-box;text-align: center;}#sk-container-id-49 label.sk-toggleable__label-arrow:before {content: \"▸\";float: left;margin-right: 0.25em;color: #696969;}#sk-container-id-49 label.sk-toggleable__label-arrow:hover:before {color: black;}#sk-container-id-49 div.sk-estimator:hover label.sk-toggleable__label-arrow:before {color: black;}#sk-container-id-49 div.sk-toggleable__content {max-height: 0;max-width: 0;overflow: hidden;text-align: left;background-color: #f0f8ff;}#sk-container-id-49 div.sk-toggleable__content pre {margin: 0.2em;color: black;border-radius: 0.25em;background-color: #f0f8ff;}#sk-container-id-49 input.sk-toggleable__control:checked~div.sk-toggleable__content {max-height: 200px;max-width: 100%;overflow: auto;}#sk-container-id-49 input.sk-toggleable__control:checked~label.sk-toggleable__label-arrow:before {content: \"▾\";}#sk-container-id-49 div.sk-estimator input.sk-toggleable__control:checked~label.sk-toggleable__label {background-color: #d4ebff;}#sk-container-id-49 div.sk-label input.sk-toggleable__control:checked~label.sk-toggleable__label {background-color: #d4ebff;}#sk-container-id-49 input.sk-hidden--visually {border: 0;clip: rect(1px 1px 1px 1px);clip: rect(1px, 1px, 1px, 1px);height: 1px;margin: -1px;overflow: hidden;padding: 0;position: absolute;width: 1px;}#sk-container-id-49 div.sk-estimator {font-family: monospace;background-color: #f0f8ff;border: 1px dotted black;border-radius: 0.25em;box-sizing: border-box;margin-bottom: 0.5em;}#sk-container-id-49 div.sk-estimator:hover {background-color: #d4ebff;}#sk-container-id-49 div.sk-parallel-item::after {content: \"\";width: 100%;border-bottom: 1px solid gray;flex-grow: 1;}#sk-container-id-49 div.sk-label:hover label.sk-toggleable__label {background-color: #d4ebff;}#sk-container-id-49 div.sk-serial::before {content: \"\";position: absolute;border-left: 1px solid gray;box-sizing: border-box;top: 0;bottom: 0;left: 50%;z-index: 0;}#sk-container-id-49 div.sk-serial {display: flex;flex-direction: column;align-items: center;background-color: white;padding-right: 0.2em;padding-left: 0.2em;position: relative;}#sk-container-id-49 div.sk-item {position: relative;z-index: 1;}#sk-container-id-49 div.sk-parallel {display: flex;align-items: stretch;justify-content: center;background-color: white;position: relative;}#sk-container-id-49 div.sk-item::before, #sk-container-id-49 div.sk-parallel-item::before {content: \"\";position: absolute;border-left: 1px solid gray;box-sizing: border-box;top: 0;bottom: 0;left: 50%;z-index: -1;}#sk-container-id-49 div.sk-parallel-item {display: flex;flex-direction: column;z-index: 1;position: relative;background-color: white;}#sk-container-id-49 div.sk-parallel-item:first-child::after {align-self: flex-end;width: 50%;}#sk-container-id-49 div.sk-parallel-item:last-child::after {align-self: flex-start;width: 50%;}#sk-container-id-49 div.sk-parallel-item:only-child::after {width: 0;}#sk-container-id-49 div.sk-dashed-wrapped {border: 1px dashed gray;margin: 0 0.4em 0.5em 0.4em;box-sizing: border-box;padding-bottom: 0.4em;background-color: white;}#sk-container-id-49 div.sk-label label {font-family: monospace;font-weight: bold;display: inline-block;line-height: 1.2em;}#sk-container-id-49 div.sk-label-container {text-align: center;}#sk-container-id-49 div.sk-container {/* jupyter's `normalize.less` sets `[hidden] { display: none; }` but bootstrap.min.css set `[hidden] { display: none !important; }` so we also need the `!important` here to be able to override the default hidden behavior on the sphinx rendered scikit-learn.org. See: https://github.com/scikit-learn/scikit-learn/issues/21755 */display: inline-block !important;position: relative;}#sk-container-id-49 div.sk-text-repr-fallback {display: none;}</style><div id=\"sk-container-id-49\" class=\"sk-top-container\"><div class=\"sk-text-repr-fallback\"><pre>KNeighborsClassifier(n_neighbors=42)</pre><b>In a Jupyter environment, please rerun this cell to show the HTML representation or trust the notebook. <br />On GitHub, the HTML representation is unable to render, please try loading this page with nbviewer.org.</b></div><div class=\"sk-container\" hidden><div class=\"sk-item\"><div class=\"sk-estimator sk-toggleable\"><input class=\"sk-toggleable__control sk-hidden--visually\" id=\"sk-estimator-id-107\" type=\"checkbox\" checked><label for=\"sk-estimator-id-107\" class=\"sk-toggleable__label sk-toggleable__label-arrow\">KNeighborsClassifier</label><div class=\"sk-toggleable__content\"><pre>KNeighborsClassifier(n_neighbors=42)</pre></div></div></div></div></div>"
      ],
      "text/plain": [
       "KNeighborsClassifier(n_neighbors=42)"
      ]
     },
     "execution_count": 525,
     "metadata": {},
     "output_type": "execute_result"
    }
   ],
   "source": [
    "clf = KNeighborsClassifier(n_neighbors=42,metric='minkowski')\n",
    "clf.fit(x_train,y_train)"
   ]
  },
  {
   "cell_type": "code",
   "execution_count": 526,
   "metadata": {},
   "outputs": [
    {
     "name": "stdout",
     "output_type": "stream",
     "text": [
      "Accuracy: 0.8846153846153846\n"
     ]
    },
    {
     "name": "stderr",
     "output_type": "stream",
     "text": [
      "c:\\Users\\HP\\AppData\\Local\\Programs\\Python\\Python311\\Lib\\site-packages\\sklearn\\base.py:450: UserWarning: X does not have valid feature names, but SVC was fitted with feature names\n",
      "  warnings.warn(\n"
     ]
    }
   ],
   "source": [
    "# Accuracy on Tesing Data\n",
    "y_pred=model.predict(x_test)\n",
    "accuracy=metrics.accuracy_score(y_test, y_pred)\n",
    "print(\"Accuracy:\", accuracy)"
   ]
  },
  {
   "cell_type": "code",
   "execution_count": 528,
   "metadata": {},
   "outputs": [
    {
     "data": {
      "text/html": [
       "<style>#sk-container-id-50 {color: black;background-color: white;}#sk-container-id-50 pre{padding: 0;}#sk-container-id-50 div.sk-toggleable {background-color: white;}#sk-container-id-50 label.sk-toggleable__label {cursor: pointer;display: block;width: 100%;margin-bottom: 0;padding: 0.3em;box-sizing: border-box;text-align: center;}#sk-container-id-50 label.sk-toggleable__label-arrow:before {content: \"▸\";float: left;margin-right: 0.25em;color: #696969;}#sk-container-id-50 label.sk-toggleable__label-arrow:hover:before {color: black;}#sk-container-id-50 div.sk-estimator:hover label.sk-toggleable__label-arrow:before {color: black;}#sk-container-id-50 div.sk-toggleable__content {max-height: 0;max-width: 0;overflow: hidden;text-align: left;background-color: #f0f8ff;}#sk-container-id-50 div.sk-toggleable__content pre {margin: 0.2em;color: black;border-radius: 0.25em;background-color: #f0f8ff;}#sk-container-id-50 input.sk-toggleable__control:checked~div.sk-toggleable__content {max-height: 200px;max-width: 100%;overflow: auto;}#sk-container-id-50 input.sk-toggleable__control:checked~label.sk-toggleable__label-arrow:before {content: \"▾\";}#sk-container-id-50 div.sk-estimator input.sk-toggleable__control:checked~label.sk-toggleable__label {background-color: #d4ebff;}#sk-container-id-50 div.sk-label input.sk-toggleable__control:checked~label.sk-toggleable__label {background-color: #d4ebff;}#sk-container-id-50 input.sk-hidden--visually {border: 0;clip: rect(1px 1px 1px 1px);clip: rect(1px, 1px, 1px, 1px);height: 1px;margin: -1px;overflow: hidden;padding: 0;position: absolute;width: 1px;}#sk-container-id-50 div.sk-estimator {font-family: monospace;background-color: #f0f8ff;border: 1px dotted black;border-radius: 0.25em;box-sizing: border-box;margin-bottom: 0.5em;}#sk-container-id-50 div.sk-estimator:hover {background-color: #d4ebff;}#sk-container-id-50 div.sk-parallel-item::after {content: \"\";width: 100%;border-bottom: 1px solid gray;flex-grow: 1;}#sk-container-id-50 div.sk-label:hover label.sk-toggleable__label {background-color: #d4ebff;}#sk-container-id-50 div.sk-serial::before {content: \"\";position: absolute;border-left: 1px solid gray;box-sizing: border-box;top: 0;bottom: 0;left: 50%;z-index: 0;}#sk-container-id-50 div.sk-serial {display: flex;flex-direction: column;align-items: center;background-color: white;padding-right: 0.2em;padding-left: 0.2em;position: relative;}#sk-container-id-50 div.sk-item {position: relative;z-index: 1;}#sk-container-id-50 div.sk-parallel {display: flex;align-items: stretch;justify-content: center;background-color: white;position: relative;}#sk-container-id-50 div.sk-item::before, #sk-container-id-50 div.sk-parallel-item::before {content: \"\";position: absolute;border-left: 1px solid gray;box-sizing: border-box;top: 0;bottom: 0;left: 50%;z-index: -1;}#sk-container-id-50 div.sk-parallel-item {display: flex;flex-direction: column;z-index: 1;position: relative;background-color: white;}#sk-container-id-50 div.sk-parallel-item:first-child::after {align-self: flex-end;width: 50%;}#sk-container-id-50 div.sk-parallel-item:last-child::after {align-self: flex-start;width: 50%;}#sk-container-id-50 div.sk-parallel-item:only-child::after {width: 0;}#sk-container-id-50 div.sk-dashed-wrapped {border: 1px dashed gray;margin: 0 0.4em 0.5em 0.4em;box-sizing: border-box;padding-bottom: 0.4em;background-color: white;}#sk-container-id-50 div.sk-label label {font-family: monospace;font-weight: bold;display: inline-block;line-height: 1.2em;}#sk-container-id-50 div.sk-label-container {text-align: center;}#sk-container-id-50 div.sk-container {/* jupyter's `normalize.less` sets `[hidden] { display: none; }` but bootstrap.min.css set `[hidden] { display: none !important; }` so we also need the `!important` here to be able to override the default hidden behavior on the sphinx rendered scikit-learn.org. See: https://github.com/scikit-learn/scikit-learn/issues/21755 */display: inline-block !important;position: relative;}#sk-container-id-50 div.sk-text-repr-fallback {display: none;}</style><div id=\"sk-container-id-50\" class=\"sk-top-container\"><div class=\"sk-text-repr-fallback\"><pre>KNeighborsClassifier(algorithm=&#x27;brute&#x27;, metric=&#x27;mahalanobis&#x27;,\n",
       "                     metric_params={&#x27;V&#x27;: array([[ 1.13211467,  0.11944204,  0.11391493, ...,  0.48126171,\n",
       "         0.23061615, -0.09030577],\n",
       "       [ 0.11944204,  1.06155206, -0.14113764, ..., -0.24698244,\n",
       "         0.3838728 , -0.16267464],\n",
       "       [ 0.11391493, -0.14113764,  1.39914603, ...,  0.06329597,\n",
       "        -0.39348178,  0.40769799],\n",
       "       ...,\n",
       "       [ 0.48126171, -0.24698244,  0.06329597, ...,  1.07281307,\n",
       "         0.11074853,  0.16512152],\n",
       "       [ 0.23061615,  0.3838728 , -0.39348178, ...,  0.11074853,\n",
       "         1.12994519, -0.05037904],\n",
       "       [-0.09030577, -0.16267464,  0.40769799, ...,  0.16512152,\n",
       "        -0.05037904,  0.95792089]])},\n",
       "                     n_neighbors=42)</pre><b>In a Jupyter environment, please rerun this cell to show the HTML representation or trust the notebook. <br />On GitHub, the HTML representation is unable to render, please try loading this page with nbviewer.org.</b></div><div class=\"sk-container\" hidden><div class=\"sk-item\"><div class=\"sk-estimator sk-toggleable\"><input class=\"sk-toggleable__control sk-hidden--visually\" id=\"sk-estimator-id-108\" type=\"checkbox\" checked><label for=\"sk-estimator-id-108\" class=\"sk-toggleable__label sk-toggleable__label-arrow\">KNeighborsClassifier</label><div class=\"sk-toggleable__content\"><pre>KNeighborsClassifier(algorithm=&#x27;brute&#x27;, metric=&#x27;mahalanobis&#x27;,\n",
       "                     metric_params={&#x27;V&#x27;: array([[ 1.13211467,  0.11944204,  0.11391493, ...,  0.48126171,\n",
       "         0.23061615, -0.09030577],\n",
       "       [ 0.11944204,  1.06155206, -0.14113764, ..., -0.24698244,\n",
       "         0.3838728 , -0.16267464],\n",
       "       [ 0.11391493, -0.14113764,  1.39914603, ...,  0.06329597,\n",
       "        -0.39348178,  0.40769799],\n",
       "       ...,\n",
       "       [ 0.48126171, -0.24698244,  0.06329597, ...,  1.07281307,\n",
       "         0.11074853,  0.16512152],\n",
       "       [ 0.23061615,  0.3838728 , -0.39348178, ...,  0.11074853,\n",
       "         1.12994519, -0.05037904],\n",
       "       [-0.09030577, -0.16267464,  0.40769799, ...,  0.16512152,\n",
       "        -0.05037904,  0.95792089]])},\n",
       "                     n_neighbors=42)</pre></div></div></div></div></div>"
      ],
      "text/plain": [
       "KNeighborsClassifier(algorithm='brute', metric='mahalanobis',\n",
       "                     metric_params={'V': array([[ 1.13211467,  0.11944204,  0.11391493, ...,  0.48126171,\n",
       "         0.23061615, -0.09030577],\n",
       "       [ 0.11944204,  1.06155206, -0.14113764, ..., -0.24698244,\n",
       "         0.3838728 , -0.16267464],\n",
       "       [ 0.11391493, -0.14113764,  1.39914603, ...,  0.06329597,\n",
       "        -0.39348178,  0.40769799],\n",
       "       ...,\n",
       "       [ 0.48126171, -0.24698244,  0.06329597, ...,  1.07281307,\n",
       "         0.11074853,  0.16512152],\n",
       "       [ 0.23061615,  0.3838728 , -0.39348178, ...,  0.11074853,\n",
       "         1.12994519, -0.05037904],\n",
       "       [-0.09030577, -0.16267464,  0.40769799, ...,  0.16512152,\n",
       "        -0.05037904,  0.95792089]])},\n",
       "                     n_neighbors=42)"
      ]
     },
     "execution_count": 528,
     "metadata": {},
     "output_type": "execute_result"
    }
   ],
   "source": [
    "\n",
    "X,y=make_classification()\n",
    "clf = KNeighborsClassifier(algorithm='brute',n_neighbors=42,metric='mahalanobis',metric_params={'V':np.cov(X)})\n",
    "clf.fit(x_train,y_train)"
   ]
  },
  {
   "cell_type": "code",
   "execution_count": 529,
   "metadata": {},
   "outputs": [
    {
     "name": "stdout",
     "output_type": "stream",
     "text": [
      "Accuracy: 0.8846153846153846\n"
     ]
    },
    {
     "name": "stderr",
     "output_type": "stream",
     "text": [
      "c:\\Users\\HP\\AppData\\Local\\Programs\\Python\\Python311\\Lib\\site-packages\\sklearn\\base.py:450: UserWarning: X does not have valid feature names, but SVC was fitted with feature names\n",
      "  warnings.warn(\n"
     ]
    }
   ],
   "source": [
    "# Accuracy on Tesing Data\n",
    "y_pred=model.predict(x_test)\n",
    "accuracy=metrics.accuracy_score(y_test, y_pred)\n",
    "print(\"Accuracy:\", accuracy)"
   ]
  },
  {
   "cell_type": "code",
   "execution_count": null,
   "metadata": {},
   "outputs": [
    {
     "data": {
      "text/html": [
       "<style>#sk-container-id-41 {color: black;background-color: white;}#sk-container-id-41 pre{padding: 0;}#sk-container-id-41 div.sk-toggleable {background-color: white;}#sk-container-id-41 label.sk-toggleable__label {cursor: pointer;display: block;width: 100%;margin-bottom: 0;padding: 0.3em;box-sizing: border-box;text-align: center;}#sk-container-id-41 label.sk-toggleable__label-arrow:before {content: \"▸\";float: left;margin-right: 0.25em;color: #696969;}#sk-container-id-41 label.sk-toggleable__label-arrow:hover:before {color: black;}#sk-container-id-41 div.sk-estimator:hover label.sk-toggleable__label-arrow:before {color: black;}#sk-container-id-41 div.sk-toggleable__content {max-height: 0;max-width: 0;overflow: hidden;text-align: left;background-color: #f0f8ff;}#sk-container-id-41 div.sk-toggleable__content pre {margin: 0.2em;color: black;border-radius: 0.25em;background-color: #f0f8ff;}#sk-container-id-41 input.sk-toggleable__control:checked~div.sk-toggleable__content {max-height: 200px;max-width: 100%;overflow: auto;}#sk-container-id-41 input.sk-toggleable__control:checked~label.sk-toggleable__label-arrow:before {content: \"▾\";}#sk-container-id-41 div.sk-estimator input.sk-toggleable__control:checked~label.sk-toggleable__label {background-color: #d4ebff;}#sk-container-id-41 div.sk-label input.sk-toggleable__control:checked~label.sk-toggleable__label {background-color: #d4ebff;}#sk-container-id-41 input.sk-hidden--visually {border: 0;clip: rect(1px 1px 1px 1px);clip: rect(1px, 1px, 1px, 1px);height: 1px;margin: -1px;overflow: hidden;padding: 0;position: absolute;width: 1px;}#sk-container-id-41 div.sk-estimator {font-family: monospace;background-color: #f0f8ff;border: 1px dotted black;border-radius: 0.25em;box-sizing: border-box;margin-bottom: 0.5em;}#sk-container-id-41 div.sk-estimator:hover {background-color: #d4ebff;}#sk-container-id-41 div.sk-parallel-item::after {content: \"\";width: 100%;border-bottom: 1px solid gray;flex-grow: 1;}#sk-container-id-41 div.sk-label:hover label.sk-toggleable__label {background-color: #d4ebff;}#sk-container-id-41 div.sk-serial::before {content: \"\";position: absolute;border-left: 1px solid gray;box-sizing: border-box;top: 0;bottom: 0;left: 50%;z-index: 0;}#sk-container-id-41 div.sk-serial {display: flex;flex-direction: column;align-items: center;background-color: white;padding-right: 0.2em;padding-left: 0.2em;position: relative;}#sk-container-id-41 div.sk-item {position: relative;z-index: 1;}#sk-container-id-41 div.sk-parallel {display: flex;align-items: stretch;justify-content: center;background-color: white;position: relative;}#sk-container-id-41 div.sk-item::before, #sk-container-id-41 div.sk-parallel-item::before {content: \"\";position: absolute;border-left: 1px solid gray;box-sizing: border-box;top: 0;bottom: 0;left: 50%;z-index: -1;}#sk-container-id-41 div.sk-parallel-item {display: flex;flex-direction: column;z-index: 1;position: relative;background-color: white;}#sk-container-id-41 div.sk-parallel-item:first-child::after {align-self: flex-end;width: 50%;}#sk-container-id-41 div.sk-parallel-item:last-child::after {align-self: flex-start;width: 50%;}#sk-container-id-41 div.sk-parallel-item:only-child::after {width: 0;}#sk-container-id-41 div.sk-dashed-wrapped {border: 1px dashed gray;margin: 0 0.4em 0.5em 0.4em;box-sizing: border-box;padding-bottom: 0.4em;background-color: white;}#sk-container-id-41 div.sk-label label {font-family: monospace;font-weight: bold;display: inline-block;line-height: 1.2em;}#sk-container-id-41 div.sk-label-container {text-align: center;}#sk-container-id-41 div.sk-container {/* jupyter's `normalize.less` sets `[hidden] { display: none; }` but bootstrap.min.css set `[hidden] { display: none !important; }` so we also need the `!important` here to be able to override the default hidden behavior on the sphinx rendered scikit-learn.org. See: https://github.com/scikit-learn/scikit-learn/issues/21755 */display: inline-block !important;position: relative;}#sk-container-id-41 div.sk-text-repr-fallback {display: none;}</style><div id=\"sk-container-id-41\" class=\"sk-top-container\"><div class=\"sk-text-repr-fallback\"><pre>KNeighborsClassifier(metric=&#x27;manhattan&#x27;, n_neighbors=42)</pre><b>In a Jupyter environment, please rerun this cell to show the HTML representation or trust the notebook. <br />On GitHub, the HTML representation is unable to render, please try loading this page with nbviewer.org.</b></div><div class=\"sk-container\" hidden><div class=\"sk-item\"><div class=\"sk-estimator sk-toggleable\"><input class=\"sk-toggleable__control sk-hidden--visually\" id=\"sk-estimator-id-89\" type=\"checkbox\" checked><label for=\"sk-estimator-id-89\" class=\"sk-toggleable__label sk-toggleable__label-arrow\">KNeighborsClassifier</label><div class=\"sk-toggleable__content\"><pre>KNeighborsClassifier(metric=&#x27;manhattan&#x27;, n_neighbors=42)</pre></div></div></div></div></div>"
      ],
      "text/plain": [
       "KNeighborsClassifier(metric='manhattan', n_neighbors=42)"
      ]
     },
     "execution_count": 432,
     "metadata": {},
     "output_type": "execute_result"
    }
   ],
   "source": [
    "clf = KNeighborsClassifier(n_neighbors=42,metric='manhattan')\n",
    "clf.fit(x_train,y_train)"
   ]
  },
  {
   "cell_type": "code",
   "execution_count": null,
   "metadata": {},
   "outputs": [
    {
     "name": "stdout",
     "output_type": "stream",
     "text": [
      "Accuracy: 0.8846153846153846\n"
     ]
    },
    {
     "name": "stderr",
     "output_type": "stream",
     "text": [
      "c:\\Users\\HP\\AppData\\Local\\Programs\\Python\\Python311\\Lib\\site-packages\\sklearn\\base.py:450: UserWarning: X does not have valid feature names, but SVC was fitted with feature names\n",
      "  warnings.warn(\n"
     ]
    }
   ],
   "source": [
    "# Accuracy on Tesing Data\n",
    "y_pred=model.predict(x_test)\n",
    "accuracy=metrics.accuracy_score(y_test, y_pred)\n",
    "print(\"Accuracy:\", accuracy)"
=======
>>>>>>> 4bf83f93ef54cbf3a337acbe3ddf4cf1d082f5ff
   ]
  },
  {
   "cell_type": "code",
   "execution_count": null,
   "metadata": {},
   "outputs": [],
   "source": [
    "# Select an algorithm\n",
    "from sklearn.neighbors import KNeighborsRegressor\n",
    "algorithm = KNeighborsClassifier(n_neighbors=42)"
   ]
  },
  {
   "cell_type": "code",
   "execution_count": null,
   "metadata": {},
   "outputs": [],
   "source": [
    "# Create 3 folds\n",
    "seed = 13\n",
    "kfold = KFold(n_splits=3, shuffle=True, random_state=seed)"
   ]
  },
  {
   "cell_type": "code",
   "execution_count": null,
   "metadata": {},
   "outputs": [],
   "source": [
    "# Define our candidate hyperparameters\n",
    "hp_candidates = [{'n_neighbors': [2,3,4,5,6,15,30,45,42,50], 'weights': ['uniform','distance']}]"
   ]
  },
  {
   "cell_type": "code",
   "execution_count": null,
   "metadata": {},
   "outputs": [
    {
     "data": {
      "text/html": [
       "<style>#sk-container-id-42 {color: black;background-color: white;}#sk-container-id-42 pre{padding: 0;}#sk-container-id-42 div.sk-toggleable {background-color: white;}#sk-container-id-42 label.sk-toggleable__label {cursor: pointer;display: block;width: 100%;margin-bottom: 0;padding: 0.3em;box-sizing: border-box;text-align: center;}#sk-container-id-42 label.sk-toggleable__label-arrow:before {content: \"▸\";float: left;margin-right: 0.25em;color: #696969;}#sk-container-id-42 label.sk-toggleable__label-arrow:hover:before {color: black;}#sk-container-id-42 div.sk-estimator:hover label.sk-toggleable__label-arrow:before {color: black;}#sk-container-id-42 div.sk-toggleable__content {max-height: 0;max-width: 0;overflow: hidden;text-align: left;background-color: #f0f8ff;}#sk-container-id-42 div.sk-toggleable__content pre {margin: 0.2em;color: black;border-radius: 0.25em;background-color: #f0f8ff;}#sk-container-id-42 input.sk-toggleable__control:checked~div.sk-toggleable__content {max-height: 200px;max-width: 100%;overflow: auto;}#sk-container-id-42 input.sk-toggleable__control:checked~label.sk-toggleable__label-arrow:before {content: \"▾\";}#sk-container-id-42 div.sk-estimator input.sk-toggleable__control:checked~label.sk-toggleable__label {background-color: #d4ebff;}#sk-container-id-42 div.sk-label input.sk-toggleable__control:checked~label.sk-toggleable__label {background-color: #d4ebff;}#sk-container-id-42 input.sk-hidden--visually {border: 0;clip: rect(1px 1px 1px 1px);clip: rect(1px, 1px, 1px, 1px);height: 1px;margin: -1px;overflow: hidden;padding: 0;position: absolute;width: 1px;}#sk-container-id-42 div.sk-estimator {font-family: monospace;background-color: #f0f8ff;border: 1px dotted black;border-radius: 0.25em;box-sizing: border-box;margin-bottom: 0.5em;}#sk-container-id-42 div.sk-estimator:hover {background-color: #d4ebff;}#sk-container-id-42 div.sk-parallel-item::after {content: \"\";width: 100%;border-bottom: 1px solid gray;flex-grow: 1;}#sk-container-id-42 div.sk-label:hover label.sk-toggleable__label {background-color: #d4ebff;}#sk-container-id-42 div.sk-serial::before {content: \"\";position: absolute;border-left: 1px solid gray;box-sizing: border-box;top: 0;bottom: 0;left: 50%;z-index: 0;}#sk-container-id-42 div.sk-serial {display: flex;flex-direction: column;align-items: center;background-color: white;padding-right: 0.2em;padding-left: 0.2em;position: relative;}#sk-container-id-42 div.sk-item {position: relative;z-index: 1;}#sk-container-id-42 div.sk-parallel {display: flex;align-items: stretch;justify-content: center;background-color: white;position: relative;}#sk-container-id-42 div.sk-item::before, #sk-container-id-42 div.sk-parallel-item::before {content: \"\";position: absolute;border-left: 1px solid gray;box-sizing: border-box;top: 0;bottom: 0;left: 50%;z-index: -1;}#sk-container-id-42 div.sk-parallel-item {display: flex;flex-direction: column;z-index: 1;position: relative;background-color: white;}#sk-container-id-42 div.sk-parallel-item:first-child::after {align-self: flex-end;width: 50%;}#sk-container-id-42 div.sk-parallel-item:last-child::after {align-self: flex-start;width: 50%;}#sk-container-id-42 div.sk-parallel-item:only-child::after {width: 0;}#sk-container-id-42 div.sk-dashed-wrapped {border: 1px dashed gray;margin: 0 0.4em 0.5em 0.4em;box-sizing: border-box;padding-bottom: 0.4em;background-color: white;}#sk-container-id-42 div.sk-label label {font-family: monospace;font-weight: bold;display: inline-block;line-height: 1.2em;}#sk-container-id-42 div.sk-label-container {text-align: center;}#sk-container-id-42 div.sk-container {/* jupyter's `normalize.less` sets `[hidden] { display: none; }` but bootstrap.min.css set `[hidden] { display: none !important; }` so we also need the `!important` here to be able to override the default hidden behavior on the sphinx rendered scikit-learn.org. See: https://github.com/scikit-learn/scikit-learn/issues/21755 */display: inline-block !important;position: relative;}#sk-container-id-42 div.sk-text-repr-fallback {display: none;}</style><div id=\"sk-container-id-42\" class=\"sk-top-container\"><div class=\"sk-text-repr-fallback\"><pre>GridSearchCV(cv=KFold(n_splits=3, random_state=13, shuffle=True),\n",
       "             estimator=KNeighborsClassifier(n_neighbors=42),\n",
       "             param_grid=[{&#x27;n_neighbors&#x27;: [2, 3, 4, 5, 6, 15, 30, 45, 42, 50],\n",
       "                          &#x27;weights&#x27;: [&#x27;uniform&#x27;, &#x27;distance&#x27;]}],\n",
       "             scoring=&#x27;r2&#x27;)</pre><b>In a Jupyter environment, please rerun this cell to show the HTML representation or trust the notebook. <br />On GitHub, the HTML representation is unable to render, please try loading this page with nbviewer.org.</b></div><div class=\"sk-container\" hidden><div class=\"sk-item sk-dashed-wrapped\"><div class=\"sk-label-container\"><div class=\"sk-label sk-toggleable\"><input class=\"sk-toggleable__control sk-hidden--visually\" id=\"sk-estimator-id-90\" type=\"checkbox\" ><label for=\"sk-estimator-id-90\" class=\"sk-toggleable__label sk-toggleable__label-arrow\">GridSearchCV</label><div class=\"sk-toggleable__content\"><pre>GridSearchCV(cv=KFold(n_splits=3, random_state=13, shuffle=True),\n",
       "             estimator=KNeighborsClassifier(n_neighbors=42),\n",
       "             param_grid=[{&#x27;n_neighbors&#x27;: [2, 3, 4, 5, 6, 15, 30, 45, 42, 50],\n",
       "                          &#x27;weights&#x27;: [&#x27;uniform&#x27;, &#x27;distance&#x27;]}],\n",
       "             scoring=&#x27;r2&#x27;)</pre></div></div></div><div class=\"sk-parallel\"><div class=\"sk-parallel-item\"><div class=\"sk-item\"><div class=\"sk-label-container\"><div class=\"sk-label sk-toggleable\"><input class=\"sk-toggleable__control sk-hidden--visually\" id=\"sk-estimator-id-91\" type=\"checkbox\" ><label for=\"sk-estimator-id-91\" class=\"sk-toggleable__label sk-toggleable__label-arrow\">estimator: KNeighborsClassifier</label><div class=\"sk-toggleable__content\"><pre>KNeighborsClassifier(n_neighbors=42)</pre></div></div></div><div class=\"sk-serial\"><div class=\"sk-item\"><div class=\"sk-estimator sk-toggleable\"><input class=\"sk-toggleable__control sk-hidden--visually\" id=\"sk-estimator-id-92\" type=\"checkbox\" ><label for=\"sk-estimator-id-92\" class=\"sk-toggleable__label sk-toggleable__label-arrow\">KNeighborsClassifier</label><div class=\"sk-toggleable__content\"><pre>KNeighborsClassifier(n_neighbors=42)</pre></div></div></div></div></div></div></div></div></div></div>"
      ],
      "text/plain": [
       "GridSearchCV(cv=KFold(n_splits=3, random_state=13, shuffle=True),\n",
       "             estimator=KNeighborsClassifier(n_neighbors=42),\n",
       "             param_grid=[{'n_neighbors': [2, 3, 4, 5, 6, 15, 30, 45, 42, 50],\n",
       "                          'weights': ['uniform', 'distance']}],\n",
       "             scoring='r2')"
      ]
     },
     "execution_count": 437,
     "metadata": {},
     "output_type": "execute_result"
    }
   ],
   "source": [
    "# Search for best hyperparameters\n",
    "grid = GridSearchCV(estimator=algorithm, param_grid=hp_candidates, cv=kfold, scoring='r2')\n",
    "grid.fit(x_train, y_train)"
   ]
  },
  {
   "cell_type": "code",
   "execution_count": null,
   "metadata": {},
   "outputs": [
    {
     "name": "stdout",
     "output_type": "stream",
     "text": [
      "0.352402582792573\n",
      "KNeighborsClassifier(n_neighbors=4, weights='distance')\n",
      "{'n_neighbors': 4, 'weights': 'distance'}\n"
     ]
    }
   ],
   "source": [
    "# Get the results\n",
    "print(grid.best_score_)\n",
    "print(grid.best_estimator_)\n",
    "print(grid.best_params_)"
   ]
  }
 ],
 "metadata": {
  "kernelspec": {
   "display_name": "Python 3",
   "language": "python",
   "name": "python3"
  },
  "language_info": {
   "codemirror_mode": {
    "name": "ipython",
    "version": 3
   },
   "file_extension": ".py",
   "mimetype": "text/x-python",
   "name": "python",
   "nbconvert_exporter": "python",
   "pygments_lexer": "ipython3",
   "version": "3.11.1"
  },
  "orig_nbformat": 4
 },
 "nbformat": 4,
 "nbformat_minor": 2
}
