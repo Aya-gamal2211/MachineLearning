{
 "cells": [
  {
   "cell_type": "code",
   "execution_count": 2,
   "metadata": {},
   "outputs": [],
   "source": [
    "import numpy as np \n",
    "import pandas as pd \n",
    "import seaborn as sns\n",
    "import matplotlib.pyplot as plt\n",
    "from sklearn.model_selection import KFold\n",
    "from sklearn import metrics #Import scikit-learn metrics module for accuracy calculation\n",
    "from sklearn.metrics import roc_curve\n",
    "from sklearn.decomposition import PCA\n",
    "from sklearn import preprocessing\n",
    "from sklearn.svm import SVC\n",
    "from sklearn.metrics import classification_report, confusion_matrix\n",
    "from sklearn.model_selection import RandomizedSearchCV,GridSearchCV\n",
    "from sklearn.pipeline import Pipeline\n",
    "from sklearn.preprocessing import StandardScaler,  PolynomialFeatures   \n",
    "from sklearn.model_selection import train_test_split\n",
    "from sklearn.neighbors import KNeighborsClassifier\n",
    "from sklearn.metrics import confusion_matrix"
   ]
  },
  {
   "cell_type": "code",
   "execution_count": 3,
   "metadata": {},
   "outputs": [],
   "source": [
    "data= pd.read_csv(\"./data.csv\")\n",
    "# Split the inputs and outputs into separate arrays\n",
    "# x = data[ :, 0]\n",
    "# y = data[:,1]\n",
    "#training_data = data[:70]\n",
    "feature_cols=['location',\t'country' ,\t'gender' ,\t'age' ,\t'vis_wuhan',\t'from_wuhan',\t'symptom1'\t,'symptom2'\t,'symptom3'\t,'symptom4'\t,'symptom5'\t,'symptom6', \t'diff_sym_hos'\n",
    "]\n",
    "x=data[feature_cols]\n",
    "y=data.result\n",
    "# Convert 1-D arrays into 2-D because the commands later will require it\n",
    "# x = np.expand_dims(x, axis=1)\n",
    "# y = np.expand_dims(y, axis=1)\n",
    "# Get 70% of the dataset as the training set. Put the remaining 30% in temporary variables: x_test and y_test.\n",
    "x_train, x_both, y_train, y_both = train_test_split(x, y, test_size=0.30, random_state=3)\n",
    "# Split the 30% subset above into two: one half for cross validation and the other for the test set\n",
    "x_cv, x_test, y_cv, y_test = train_test_split(x_both, y_both, test_size=0.50, random_state=3)\n",
    "#another approach to divide data \n",
    "#train, validate, test = np.split(df.sample(frac=1, random_state=42), #60 training 20 validation 20 test \n",
    "                      # [int(.6*len(df)), int(.8*len(df))]) \n"
   ]
  },
  {
   "cell_type": "code",
   "execution_count": null,
   "metadata": {},
   "outputs": [],
   "source": [
    "df = pd.DataFrame(x) \n",
    "print(df.head())"
   ]
  },
  {
   "cell_type": "code",
   "execution_count": null,
   "metadata": {},
   "outputs": [],
   "source": [
    "cor_matrix = df.corr()\n",
    "print(cor_matrix)"
   ]
  },
  {
   "cell_type": "code",
   "execution_count": null,
   "metadata": {},
   "outputs": [],
   "source": [
    "# upper_tri = cor_matrix.where(np.triu(np.ones(cor_matrix.shape),k=1).astype(np.bool))\n",
    "# print(upper_tri)"
   ]
  },
  {
   "cell_type": "code",
   "execution_count": null,
   "metadata": {},
   "outputs": [],
   "source": [
    "corr = data.corr()\n",
    "corr.head()"
   ]
  },
  {
   "cell_type": "code",
   "execution_count": null,
   "metadata": {},
   "outputs": [],
   "source": [
    "sns.heatmap(corr)\n"
   ]
  },
  {
   "attachments": {},
   "cell_type": "markdown",
   "metadata": {},
   "source": [
    "We will try to predict using the cross-validation dataset and calculate the accuracy between the expected output and the original output by random number of neighbors "
   ]
  },
  {
   "cell_type": "code",
   "execution_count": 4,
   "metadata": {},
   "outputs": [
    {
     "name": "stdout",
     "output_type": "stream",
     "text": [
      "[[114   2]\n",
      " [  7   6]]\n",
      "              precision    recall  f1-score   support\n",
      "\n",
      "           0       0.94      0.98      0.96       116\n",
      "           1       0.75      0.46      0.57        13\n",
      "\n",
      "    accuracy                           0.93       129\n",
      "   macro avg       0.85      0.72      0.77       129\n",
      "weighted avg       0.92      0.93      0.92       129\n",
      "\n"
     ]
    }
   ],
   "source": [
    "knn = KNeighborsClassifier(n_neighbors=5)\n",
    "knn.fit(x_train, y_train)\n",
    "y_pred = knn.predict(x_cv)\n",
    "print(confusion_matrix(y_cv, y_pred))\n",
    "print(classification_report(y_cv, y_pred))"
   ]
  },
  {
   "attachments": {},
   "cell_type": "markdown",
   "metadata": {},
   "source": [
    "True positive 114 out of 116\n",
    "True negative are 7 out of 13"
   ]
  },
  {
   "attachments": {},
   "cell_type": "markdown",
   "metadata": {},
   "source": [
    "Find the optimal k by cross-validation scores by finding the highest score therefor will be the highest k\n"
   ]
  },
  {
   "cell_type": "code",
   "execution_count": 5,
   "metadata": {},
   "outputs": [
    {
     "name": "stdout",
     "output_type": "stream",
     "text": [
      "[0.95081967 0.91803279 0.91803279 0.91803279 0.91666667 0.93333333\n",
      " 0.91666667 0.98333333 0.98333333 0.9       ]\n"
     ]
    }
   ],
   "source": [
    "from sklearn.model_selection import cross_val_score\n",
    "neighbors=[]\n",
    "k_range=range(1,31)\n",
    "cv_scores=[]\n",
    "for k in (1, 20, 2):\n",
    "    neighbors.append(k)\n",
    "    knn2=KNeighborsClassifier ( n_neighbors=k)\n",
    "    scores=cross_val_score(knn2,x_train,y_train,cv=10, scoring='accuracy')\n",
    "    cv_scores.append(scores.mean())\n",
    "    \n",
    "\n",
    "scores=cross_val_score(knn2,x_train,y_train,cv=10, scoring='accuracy')\n",
    "print(scores)"
   ]
  },
  {
   "cell_type": "code",
   "execution_count": 6,
   "metadata": {},
   "outputs": [
    {
     "name": "stdout",
     "output_type": "stream",
     "text": [
      " The optimal number of neigbors is 1 \n"
     ]
    }
   ],
   "source": [
    "optimal_k=k_range[np.argmax(cv_scores)]\n",
    "print(f\" The optimal number of neigbors is {optimal_k} \")\n"
   ]
  },
  {
   "cell_type": "code",
   "execution_count": 7,
   "metadata": {},
   "outputs": [
    {
     "name": "stdout",
     "output_type": "stream",
     "text": [
      "1\n"
     ]
    },
    {
     "data": {
      "image/png": "[encoded data removed]",
      "text/plain": [
       "<Figure size 720x432 with 1 Axes>"
      ]
     },
     "metadata": {
      "needs_background": "light"
     },
     "output_type": "display_data"
    }
   ],
   "source": [
    "\n",
    "MSE=[1-x for x in cv_scores]\n",
    "\n",
    "optimal_k =neighbors[MSE.index(min(MSE))]\n",
    "print(optimal_k)\n",
    "plt.figure(figsize=(10,6))\n",
    "plt.plot(neighbors,MSE)\n",
    "plt.xlabel(\"K\")\n",
    "plt.ylabel(\"Missclassification error\")\n",
    "plt.show()"
   ]
  },
  {
   "cell_type": "code",
   "execution_count": 8,
   "metadata": {},
   "outputs": [
    {
     "name": "stdout",
     "output_type": "stream",
     "text": [
      "[[112   4]\n",
      " [  7   6]]\n",
      "              precision    recall  f1-score   support\n",
      "\n",
      "           0       0.94      0.97      0.95       116\n",
      "           1       0.60      0.46      0.52        13\n",
      "\n",
      "    accuracy                           0.91       129\n",
      "   macro avg       0.77      0.71      0.74       129\n",
      "weighted avg       0.91      0.91      0.91       129\n",
      "\n"
     ]
    }
   ],
   "source": [
    "knn3 = KNeighborsClassifier(n_neighbors=1, algorithm = 'brute')\n",
    "knn3.fit(x_train, y_train)\n",
    "y_pred = knn3.predict(x_cv)\n",
    "print(confusion_matrix(y_cv, y_pred))\n",
    "print(classification_report(y_cv, y_pred))"
   ]
  },
  {
   "cell_type": "code",
   "execution_count": 31,
   "metadata": {},
   "outputs": [
    {
     "name": "stdout",
     "output_type": "stream",
     "text": [
      "{'metric': 'manhattan', 'n_neighbors': 2, 'weights': 'distance'}\n",
      "Accuracy:0.9520218579234973\n"
     ]
    }
   ],
   "source": [
    "#KNN\n",
    "from sklearn.model_selection import GridSearchCV\n",
    "rf_params = {\n",
    "    'n_neighbors': [1,2, 3,4, 5,7,9,10,11,15,20],\n",
    "    'metric':[\"minkowski\",\"manhattan\",\"euclidean\"],\n",
    "    'weights': [\"distance\",\"uniform\"],\n",
    "    \n",
    "}\n",
    "clf = KNeighborsClassifier()\n",
    "grid = GridSearchCV(clf, rf_params, cv=10, scoring='accuracy')\n",
    "# grid = GridSearchCV(clf, rf_params, cv=5, scoring='accuracy')\n",
    "# grid = GridSearchCV(clf, rf_params, cv=3, scoring='accuracy')\n",
    "grid.fit(x_train, y_train)\n",
    "print(grid.best_params_)\n",
    "print(\"Accuracy:\"+ str(grid.best_score_))"
   ]
  },
  {
   "cell_type": "code",
   "execution_count": null,
   "metadata": {},
   "outputs": [],
   "source": [
    "pd.crosstab(y_cv, y_pred, rownames=['True'], colnames=['Predicted'], margins=True)"
   ]
  },
  {
   "attachments": {},
   "cell_type": "markdown",
   "metadata": {},
   "source": [
    "Tunning hyperparameter 'k'"
   ]
  },
  {
   "cell_type": "code",
   "execution_count": null,
   "metadata": {},
   "outputs": [],
   "source": [
    "def gridSearch(classifier, parameters, XTr, yTr, cv):\n",
    "    print(\"***** Grid Search *****\")\n",
    "    print(\"Cross-Validation: \", cv)\n",
    "\n",
    "    scores = ['accuracy']\n",
    "    for score in scores:\n",
    "        print(\"# Tuning hyper-parameters for %s\" % score)\n",
    "        print()\n",
    "        if (score == 'accuracy'):\n",
    "            scoring_method = score\n",
    "        else:\n",
    "            scoring_method = score + '_micro'\n",
    "\n",
    "        clf = GridSearchCV(classifier,\n",
    "                           param_grid=parameters,\n",
    "                           cv=cv,\n",
    "                           scoring=scoring_method)\n",
    "        clf.fit(XTr, yTr)\n",
    "\n",
    "        print(\"Best parameters and scores set found on development set:\")\n",
    "        # print(self.clf.best_estimator_)\n",
    "        print(clf.best_params_)\n",
    "        print(clf.best_score_)\n",
    "        print()\n",
    "        # print(\"Grid scores on development set:\")\n",
    "        # means = clf.cv_results_['mean_test_score']\n",
    "        # stds = clf.cv_results_['std_test_score']\n",
    "        # for mean, std, params in zip(means, stds, clf.cv_results_['params']):\n",
    "        #     print(\"%0.3f (+/-%0.03f) for %r\"\n",
    "        #           % (mean, std * 2, params))\n",
    "        # print()\n",
    "\n",
    "        return clf.best_params_"
   ]
  },
  {
   "cell_type": "code",
   "execution_count": 86,
   "metadata": {},
   "outputs": [
    {
     "name": "stdout",
     "output_type": "stream",
     "text": [
      "***** Grid Search *****\n",
      "Cross-Validation:  5\n",
      "# Tuning hyper-parameters for accuracy\n",
      "\n",
      "Best parameters and scores set found on development set:\n",
      "{'algorithm': 'auto', 'leaf_size': 40, 'metric': 'manhattan', 'n_neighbors': 9, 'weights': 'distance'}\n",
      "0.9503719008264463\n",
      "\n",
      "*** Classification ***\n",
      "Test Result for KNN Classifier\n",
      "[0.9338843  0.94214876 0.94214876 0.95867769 0.975     ]\n",
      "Accuracy: 0.95 (+/- 0.03)\n"
     ]
    }
   ],
   "source": [
    "\n",
    "\n",
    "def tuneParameterWithKNN(XTr, yTr):\n",
    "    classifier = KNeighborsClassifier()\n",
    "    parameters = {\n",
    "        'n_neighbors': [1,2, 3, 5, 7,9,11,13,15],\n",
    "        'weights': [\"distance\",\"uniform\"],\n",
    "        'algorithm': [\"auto\", \"kd_tree\", \"ball_tree\"],\n",
    "        'metric':[\"minkowski\",\"manhattan\",\"euclidean\"],\n",
    "        'leaf_size': [20, 30, 40, 50]\n",
    "        # 'n_jobs': [-1]\n",
    "    }\n",
    "    # best_params = randomSearch(classifier, parameters, XTr, yTr, cv, 50)\n",
    "    best_params = gridSearch(classifier, parameters, XTr, yTr, 5)\n",
    "\n",
    "    print(\"*** Classification ***\")\n",
    "    clf = KNeighborsClassifier()\n",
    "    clf.set_params(**best_params)\n",
    "    # y_pred=clf.predict(x_cv)\n",
    "    # accuracy2=metrics.accuracy_score(y_cv, y_pred)\n",
    "    # print(accuracy2)\n",
    "    print(\"Test Result for KNN Classifier\")\n",
    "    acc = cross_val_score(clf, XTr, yTr, cv=5)\n",
    "    print (acc)\n",
    "    print(\"Accuracy: %0.2f (+/- %0.2f)\" % (acc.mean(), acc.std() * 2))\n",
    "   \n",
    "tuneParameterWithKNN(x_train,y_train)    "
   ]
  },
  {
   "cell_type": "code",
   "execution_count": null,
   "metadata": {},
   "outputs": [],
   "source": []
  },
  {
   "cell_type": "markdown",
   "metadata": {},
   "source": []
  }
 ],
 "metadata": {
  "kernelspec": {
   "display_name": "Python 3",
   "language": "python",
   "name": "python3"
  },
  "language_info": {
   "codemirror_mode": {
    "name": "ipython",
    "version": 3
   },
   "file_extension": ".py",
   "mimetype": "text/x-python",
   "name": "python",
   "nbconvert_exporter": "python",
   "pygments_lexer": "ipython3",
   "version": "3.9.7"
  },
  "orig_nbformat": 4
 },
 "nbformat": 4,
 "nbformat_minor": 2
}
