{
 "cells": [
  {
   "cell_type": "code",
   "execution_count": 1,
   "metadata": {},
   "outputs": [],
   "source": [
    "import numpy as np \n",
    "import pandas as pd \n",
    "import seaborn as sns\n",
    "import matplotlib.pyplot as plt\n",
    "from sklearn.model_selection import KFold\n",
    "from sklearn import metrics #Import scikit-learn metrics module for accuracy calculation\n",
    "from sklearn.metrics import roc_curve\n",
    "from sklearn.decomposition import PCA\n",
    "from sklearn import preprocessing\n",
    "from sklearn.svm import SVC\n",
    "from sklearn.metrics import classification_report, confusion_matrix\n",
    "from sklearn.model_selection import RandomizedSearchCV,GridSearchCV\n",
    "from sklearn.pipeline import Pipeline\n",
    "from sklearn.preprocessing import StandardScaler,  PolynomialFeatures   \n",
    "from sklearn.model_selection import train_test_split\n",
    "from sklearn.neighbors import KNeighborsClassifier\n",
    "from sklearn.metrics import confusion_matrix"
   ]
  },
  {
   "cell_type": "code",
   "execution_count": 2,
   "metadata": {},
   "outputs": [],
   "source": [
    "data= pd.read_csv(\"./data.csv\")\n",
    "# Split the inputs and outputs into separate arrays\n",
    "# x = data[ :, 0]\n",
    "# y = data[:,1]\n",
    "#training_data = data[:70]\n",
    "feature_cols=['location',\t'country' ,\t'gender' ,\t'age' ,\t'vis_wuhan',\t'from_wuhan',\t'symptom1'\t,'symptom2'\t,'symptom3'\t,'symptom4'\t,'symptom5'\t,'symptom6', \t'diff_sym_hos'\n",
    "]\n",
    "x=data[feature_cols]\n",
    "y=data.result\n",
    "# Convert 1-D arrays into 2-D because the commands later will require it\n",
    "# x = np.expand_dims(x, axis=1)\n",
    "# y = np.expand_dims(y, axis=1)\n",
    "# Get 70% of the dataset as the training set. Put the remaining 30% in temporary variables: x_test and y_test.\n",
    "x_train, x_both, y_train, y_both = train_test_split(x, y, test_size=0.30, random_state=3)\n",
    "# Split the 30% subset above into two: one half for cross validation and the other for the test set\n",
    "x_cv, x_test, y_cv, y_test = train_test_split(x_both, y_both, test_size=0.50, random_state=3)\n",
    "#another approach to divide data \n",
    "#train, validate, test = np.split(df.sample(frac=1, random_state=42), #60 training 20 validation 20 test \n",
    "                      # [int(.6*len(df)), int(.8*len(df))]) \n"
   ]
  },
  {
   "cell_type": "code",
   "execution_count": 6,
   "metadata": {},
   "outputs": [
    {
     "name": "stdout",
     "output_type": "stream",
     "text": [
      "   location  country  gender   age  vis_wuhan  from_wuhan  symptom1  symptom2  \\\n",
      "0       104        8       1  66.0          1           0        14        31   \n",
      "1       101        8       0  56.0          0           1        14        31   \n",
      "2       137        8       1  46.0          0           1        14        31   \n",
      "3       116        8       0  60.0          1           0        14        31   \n",
      "4       116        8       1  58.0          0           0        14        31   \n",
      "\n",
      "   symptom3  symptom4  symptom5  symptom6  diff_sym_hos  \n",
      "0        19        12         3         1             8  \n",
      "1        19        12         3         1             0  \n",
      "2        19        12         3         1            13  \n",
      "3        19        12         3         1             0  \n",
      "4        19        12         3         1             0  \n"
     ]
    }
   ],
   "source": [
    "df = pd.DataFrame(x) \n",
    "print(df.head())"
   ]
  },
  {
   "cell_type": "code",
   "execution_count": 26,
   "metadata": {},
   "outputs": [
    {
     "name": "stdout",
     "output_type": "stream",
     "text": [
      "              location   country    gender       age  vis_wuhan  from_wuhan  \\\n",
      "location      1.000000  0.309347  0.030077 -0.027330   0.022821    0.080120   \n",
      "country       0.309347  1.000000  0.193208  0.072339  -0.149798   -0.194170   \n",
      "gender        0.030077  0.193208  1.000000 -0.020662  -0.005588   -0.138997   \n",
      "age          -0.027330  0.072339 -0.020662  1.000000  -0.157173   -0.051229   \n",
      "vis_wuhan     0.022821 -0.149798 -0.005588 -0.157173   1.000000   -0.154200   \n",
      "from_wuhan    0.080120 -0.194170 -0.138997 -0.051229  -0.154200    1.000000   \n",
      "symptom1      0.033078 -0.078971  0.146706 -0.209028   0.087330    0.036539   \n",
      "symptom2      0.017961 -0.085210  0.116159 -0.127251   0.094360    0.046923   \n",
      "symptom3      0.010472 -0.042933  0.090858 -0.074863   0.086113    0.068144   \n",
      "symptom4     -0.026823 -0.018526  0.021882 -0.069396   0.063738    0.021704   \n",
      "symptom5      0.033692 -0.009371  0.026320  0.049817   0.025780    0.018999   \n",
      "symptom6      0.015341 -0.004384  0.039867  0.055145   0.016062    0.011837   \n",
      "diff_sym_hos -0.119397 -0.146037 -0.176528  0.074573   0.065908    0.019706   \n",
      "\n",
      "              symptom1  symptom2  symptom3  symptom4  symptom5  symptom6  \\\n",
      "location      0.033078  0.017961  0.010472 -0.026823  0.033692  0.015341   \n",
      "country      -0.078971 -0.085210 -0.042933 -0.018526 -0.009371 -0.004384   \n",
      "gender        0.146706  0.116159  0.090858  0.021882  0.026320  0.039867   \n",
      "age          -0.209028 -0.127251 -0.074863 -0.069396  0.049817  0.055145   \n",
      "vis_wuhan     0.087330  0.094360  0.086113  0.063738  0.025780  0.016062   \n",
      "from_wuhan    0.036539  0.046923  0.068144  0.021704  0.018999  0.011837   \n",
      "symptom1      1.000000  0.519404  0.260397  0.095402 -0.002658  0.086430   \n",
      "symptom2      0.519404  1.000000  0.530968  0.329583  0.159823  0.072975   \n",
      "symptom3      0.260397  0.530968  1.000000  0.429853  0.120301  0.146347   \n",
      "symptom4      0.095402  0.329583  0.429853  1.000000  0.277558  0.110553   \n",
      "symptom5     -0.002658  0.159823  0.120301  0.277558  1.000000  0.265954   \n",
      "symptom6      0.086430  0.072975  0.146347  0.110553  0.265954  1.000000   \n",
      "diff_sym_hos -0.141160 -0.119052 -0.124293 -0.089592  0.003757 -0.000067   \n",
      "\n",
      "              diff_sym_hos  \n",
      "location         -0.119397  \n",
      "country          -0.146037  \n",
      "gender           -0.176528  \n",
      "age               0.074573  \n",
      "vis_wuhan         0.065908  \n",
      "from_wuhan        0.019706  \n",
      "symptom1         -0.141160  \n",
      "symptom2         -0.119052  \n",
      "symptom3         -0.124293  \n",
      "symptom4         -0.089592  \n",
      "symptom5          0.003757  \n",
      "symptom6         -0.000067  \n",
      "diff_sym_hos      1.000000  \n"
     ]
    }
   ],
   "source": [
    "cor_matrix = df.corr()\n",
    "print(cor_matrix)"
   ]
  },
  {
   "cell_type": "code",
   "execution_count": 12,
   "metadata": {},
   "outputs": [],
   "source": [
    "# upper_tri = cor_matrix.where(np.triu(np.ones(cor_matrix.shape),k=1).astype(np.bool))\n",
    "# print(upper_tri)"
   ]
  },
  {
   "cell_type": "code",
   "execution_count": 25,
   "metadata": {},
   "outputs": [
    {
     "data": {
      "text/html": [
       "<div>\n",
       "<style scoped>\n",
       "    .dataframe tbody tr th:only-of-type {\n",
       "        vertical-align: middle;\n",
       "    }\n",
       "\n",
       "    .dataframe tbody tr th {\n",
       "        vertical-align: top;\n",
       "    }\n",
       "\n",
       "    .dataframe thead th {\n",
       "        text-align: right;\n",
       "    }\n",
       "</style>\n",
       "<table border=\"1\" class=\"dataframe\">\n",
       "  <thead>\n",
       "    <tr style=\"text-align: right;\">\n",
       "      <th></th>\n",
       "      <th>Unnamed: 0</th>\n",
       "      <th>location</th>\n",
       "      <th>country</th>\n",
       "      <th>gender</th>\n",
       "      <th>age</th>\n",
       "      <th>vis_wuhan</th>\n",
       "      <th>from_wuhan</th>\n",
       "      <th>symptom1</th>\n",
       "      <th>symptom2</th>\n",
       "      <th>symptom3</th>\n",
       "      <th>symptom4</th>\n",
       "      <th>symptom5</th>\n",
       "      <th>symptom6</th>\n",
       "      <th>diff_sym_hos</th>\n",
       "      <th>result</th>\n",
       "    </tr>\n",
       "  </thead>\n",
       "  <tbody>\n",
       "    <tr>\n",
       "      <th>Unnamed: 0</th>\n",
       "      <td>1.000000</td>\n",
       "      <td>-0.123488</td>\n",
       "      <td>0.311170</td>\n",
       "      <td>0.182616</td>\n",
       "      <td>0.069737</td>\n",
       "      <td>-0.293568</td>\n",
       "      <td>-0.223951</td>\n",
       "      <td>0.053031</td>\n",
       "      <td>0.061755</td>\n",
       "      <td>0.082368</td>\n",
       "      <td>0.038603</td>\n",
       "      <td>-0.017153</td>\n",
       "      <td>0.022695</td>\n",
       "      <td>-0.129907</td>\n",
       "      <td>0.046838</td>\n",
       "    </tr>\n",
       "    <tr>\n",
       "      <th>location</th>\n",
       "      <td>-0.123488</td>\n",
       "      <td>1.000000</td>\n",
       "      <td>0.309347</td>\n",
       "      <td>0.030077</td>\n",
       "      <td>-0.027330</td>\n",
       "      <td>0.022821</td>\n",
       "      <td>0.080120</td>\n",
       "      <td>0.033078</td>\n",
       "      <td>0.017961</td>\n",
       "      <td>0.010472</td>\n",
       "      <td>-0.026823</td>\n",
       "      <td>0.033692</td>\n",
       "      <td>0.015341</td>\n",
       "      <td>-0.119397</td>\n",
       "      <td>0.046240</td>\n",
       "    </tr>\n",
       "    <tr>\n",
       "      <th>country</th>\n",
       "      <td>0.311170</td>\n",
       "      <td>0.309347</td>\n",
       "      <td>1.000000</td>\n",
       "      <td>0.193208</td>\n",
       "      <td>0.072339</td>\n",
       "      <td>-0.149798</td>\n",
       "      <td>-0.194170</td>\n",
       "      <td>-0.078971</td>\n",
       "      <td>-0.085210</td>\n",
       "      <td>-0.042933</td>\n",
       "      <td>-0.018526</td>\n",
       "      <td>-0.009371</td>\n",
       "      <td>-0.004384</td>\n",
       "      <td>-0.146037</td>\n",
       "      <td>-0.094443</td>\n",
       "    </tr>\n",
       "    <tr>\n",
       "      <th>gender</th>\n",
       "      <td>0.182616</td>\n",
       "      <td>0.030077</td>\n",
       "      <td>0.193208</td>\n",
       "      <td>1.000000</td>\n",
       "      <td>-0.020662</td>\n",
       "      <td>-0.005588</td>\n",
       "      <td>-0.138997</td>\n",
       "      <td>0.146706</td>\n",
       "      <td>0.116159</td>\n",
       "      <td>0.090858</td>\n",
       "      <td>0.021882</td>\n",
       "      <td>0.026320</td>\n",
       "      <td>0.039867</td>\n",
       "      <td>-0.176528</td>\n",
       "      <td>-0.061441</td>\n",
       "    </tr>\n",
       "    <tr>\n",
       "      <th>age</th>\n",
       "      <td>0.069737</td>\n",
       "      <td>-0.027330</td>\n",
       "      <td>0.072339</td>\n",
       "      <td>-0.020662</td>\n",
       "      <td>1.000000</td>\n",
       "      <td>-0.157173</td>\n",
       "      <td>-0.051229</td>\n",
       "      <td>-0.209028</td>\n",
       "      <td>-0.127251</td>\n",
       "      <td>-0.074863</td>\n",
       "      <td>-0.069396</td>\n",
       "      <td>0.049817</td>\n",
       "      <td>0.055145</td>\n",
       "      <td>0.074573</td>\n",
       "      <td>0.515127</td>\n",
       "    </tr>\n",
       "  </tbody>\n",
       "</table>\n",
       "</div>"
      ],
      "text/plain": [
       "            Unnamed: 0  location   country    gender       age  vis_wuhan  \\\n",
       "Unnamed: 0    1.000000 -0.123488  0.311170  0.182616  0.069737  -0.293568   \n",
       "location     -0.123488  1.000000  0.309347  0.030077 -0.027330   0.022821   \n",
       "country       0.311170  0.309347  1.000000  0.193208  0.072339  -0.149798   \n",
       "gender        0.182616  0.030077  0.193208  1.000000 -0.020662  -0.005588   \n",
       "age           0.069737 -0.027330  0.072339 -0.020662  1.000000  -0.157173   \n",
       "\n",
       "            from_wuhan  symptom1  symptom2  symptom3  symptom4  symptom5  \\\n",
       "Unnamed: 0   -0.223951  0.053031  0.061755  0.082368  0.038603 -0.017153   \n",
       "location      0.080120  0.033078  0.017961  0.010472 -0.026823  0.033692   \n",
       "country      -0.194170 -0.078971 -0.085210 -0.042933 -0.018526 -0.009371   \n",
       "gender       -0.138997  0.146706  0.116159  0.090858  0.021882  0.026320   \n",
       "age          -0.051229 -0.209028 -0.127251 -0.074863 -0.069396  0.049817   \n",
       "\n",
       "            symptom6  diff_sym_hos    result  \n",
       "Unnamed: 0  0.022695     -0.129907  0.046838  \n",
       "location    0.015341     -0.119397  0.046240  \n",
       "country    -0.004384     -0.146037 -0.094443  \n",
       "gender      0.039867     -0.176528 -0.061441  \n",
       "age         0.055145      0.074573  0.515127  "
      ]
     },
     "execution_count": 25,
     "metadata": {},
     "output_type": "execute_result"
    }
   ],
   "source": [
    "corr = data.corr()\n",
    "corr.head()"
   ]
  },
  {
   "cell_type": "code",
   "execution_count": 13,
   "metadata": {},
   "outputs": [
    {
     "data": {
      "text/plain": [
       "<AxesSubplot:>"
      ]
     },
     "execution_count": 13,
     "metadata": {},
     "output_type": "execute_result"
    },
    {
     "data": {
      "image/png": "[encoded data removed]",
      "text/plain": [
       "<Figure size 432x288 with 2 Axes>"
      ]
     },
     "metadata": {
      "needs_background": "light"
     },
     "output_type": "display_data"
    }
   ],
   "source": [
    "sns.heatmap(corr)\n"
   ]
  },
  {
   "attachments": {},
   "cell_type": "markdown",
   "metadata": {},
   "source": [
    "We will try to predict using the cross-validation dataset and calculate the accuracy between the expected output and the original output by random number of neighbors "
   ]
  },
  {
   "cell_type": "code",
   "execution_count": 3,
   "metadata": {},
   "outputs": [
    {
     "name": "stdout",
     "output_type": "stream",
     "text": [
      "[[114   2]\n",
      " [  7   6]]\n",
      "              precision    recall  f1-score   support\n",
      "\n",
      "           0       0.94      0.98      0.96       116\n",
      "           1       0.75      0.46      0.57        13\n",
      "\n",
      "    accuracy                           0.93       129\n",
      "   macro avg       0.85      0.72      0.77       129\n",
      "weighted avg       0.92      0.93      0.92       129\n",
      "\n"
     ]
    }
   ],
   "source": [
    "knn = KNeighborsClassifier(n_neighbors=5)\n",
    "knn.fit(x_train, y_train)\n",
    "y_pred = knn.predict(x_cv)\n",
    "print(confusion_matrix(y_cv, y_pred))\n",
    "print(classification_report(y_cv, y_pred))"
   ]
  },
  {
   "attachments": {},
   "cell_type": "markdown",
   "metadata": {},
   "source": [
    "True positive 114 out of 116\n",
    "True negative are 7 out of 13"
   ]
  },
  {
   "attachments": {},
   "cell_type": "markdown",
   "metadata": {},
   "source": [
    "Find the optimal k by cross-validation scores by finding the highest score therefor will be the highest k\n"
   ]
  },
  {
   "cell_type": "code",
   "execution_count": 77,
   "metadata": {},
   "outputs": [
    {
     "name": "stdout",
     "output_type": "stream",
     "text": [
      "[0.95081967 0.91803279 0.91803279 0.91803279 0.91666667 0.93333333\n",
      " 0.91666667 0.98333333 0.98333333 0.9       ]\n"
     ]
    }
   ],
   "source": [
    "from sklearn.model_selection import cross_val_score\n",
    "neighbors=[]\n",
    "k_range=range(1,31)\n",
    "cv_scores=[]\n",
    "for k in (1, 20, 2):\n",
    "    neighbors.append(k)\n",
    "    knn2=KNeighborsClassifier ( n_neighbors=k)\n",
    "    scores=cross_val_score(knn2,x_train,y_train,cv=10, scoring='accuracy')\n",
    "    cv_scores.append(scores.mean())\n",
    "    \n",
    "\n",
    "scores=cross_val_score(knn2,x_train,y_train,cv=10, scoring='accuracy')\n",
    "print(scores)"
   ]
  },
  {
   "cell_type": "code",
   "execution_count": 78,
   "metadata": {},
   "outputs": [
    {
     "name": "stdout",
     "output_type": "stream",
     "text": [
      " The optimal number of neigbors is 1 \n"
     ]
    }
   ],
   "source": [
    "optimal_k=k_range[np.argmax(cv_scores)]\n",
    "print(f\" The optimal number of neigbors is {optimal_k} \")\n"
   ]
  },
  {
   "cell_type": "code",
   "execution_count": 79,
   "metadata": {},
   "outputs": [
    {
     "name": "stdout",
     "output_type": "stream",
     "text": [
      "1\n"
     ]
    },
    {
     "data": {
      "image/png": "[encoded data removed]",
      "text/plain": [
       "<Figure size 720x432 with 1 Axes>"
      ]
     },
     "metadata": {
      "needs_background": "light"
     },
     "output_type": "display_data"
    }
   ],
   "source": [
    "\n",
    "MSE=[1-x for x in cv_scores]\n",
    "\n",
    "optimal_k =neighbors[MSE.index(min(MSE))]\n",
    "print(optimal_k)\n",
    "plt.figure(figsize=(10,6))\n",
    "plt.plot(neighbors,MSE)\n",
    "plt.xlabel(\"K\")\n",
    "plt.ylabel(\"Missclassification error\")\n",
    "plt.show()"
   ]
  },
  {
   "cell_type": "code",
   "execution_count": 24,
   "metadata": {},
   "outputs": [
    {
     "name": "stdout",
     "output_type": "stream",
     "text": [
      "[[112   4]\n",
      " [  7   6]]\n",
      "              precision    recall  f1-score   support\n",
      "\n",
      "           0       0.94      0.97      0.95       116\n",
      "           1       0.60      0.46      0.52        13\n",
      "\n",
      "    accuracy                           0.91       129\n",
      "   macro avg       0.77      0.71      0.74       129\n",
      "weighted avg       0.91      0.91      0.91       129\n",
      "\n"
     ]
    }
   ],
   "source": [
    "knn3 = KNeighborsClassifier(n_neighbors=1, algorithm = 'brute')\n",
    "knn3.fit(x_train, y_train)\n",
    "y_pred = knn3.predict(x_cv)\n",
    "print(confusion_matrix(y_cv, y_pred))\n",
    "print(classification_report(y_cv, y_pred))"
   ]
  },
  {
   "cell_type": "code",
   "execution_count": 20,
   "metadata": {},
   "outputs": [
    {
     "data": {
      "text/html": [
       "<div>\n",
       "<style scoped>\n",
       "    .dataframe tbody tr th:only-of-type {\n",
       "        vertical-align: middle;\n",
       "    }\n",
       "\n",
       "    .dataframe tbody tr th {\n",
       "        vertical-align: top;\n",
       "    }\n",
       "\n",
       "    .dataframe thead th {\n",
       "        text-align: right;\n",
       "    }\n",
       "</style>\n",
       "<table border=\"1\" class=\"dataframe\">\n",
       "  <thead>\n",
       "    <tr style=\"text-align: right;\">\n",
       "      <th>Predicted</th>\n",
       "      <th>0</th>\n",
       "      <th>1</th>\n",
       "      <th>All</th>\n",
       "    </tr>\n",
       "    <tr>\n",
       "      <th>True</th>\n",
       "      <th></th>\n",
       "      <th></th>\n",
       "      <th></th>\n",
       "    </tr>\n",
       "  </thead>\n",
       "  <tbody>\n",
       "    <tr>\n",
       "      <th>0</th>\n",
       "      <td>112</td>\n",
       "      <td>4</td>\n",
       "      <td>116</td>\n",
       "    </tr>\n",
       "    <tr>\n",
       "      <th>1</th>\n",
       "      <td>7</td>\n",
       "      <td>6</td>\n",
       "      <td>13</td>\n",
       "    </tr>\n",
       "    <tr>\n",
       "      <th>All</th>\n",
       "      <td>119</td>\n",
       "      <td>10</td>\n",
       "      <td>129</td>\n",
       "    </tr>\n",
       "  </tbody>\n",
       "</table>\n",
       "</div>"
      ],
      "text/plain": [
       "Predicted    0   1  All\n",
       "True                   \n",
       "0          112   4  116\n",
       "1            7   6   13\n",
       "All        119  10  129"
      ]
     },
     "execution_count": 20,
     "metadata": {},
     "output_type": "execute_result"
    }
   ],
   "source": [
    "pd.crosstab(y_cv, y_pred, rownames=['True'], colnames=['Predicted'], margins=True)"
   ]
  },
  {
   "attachments": {},
   "cell_type": "markdown",
   "metadata": {},
   "source": [
    "Tunning hyperparameter 'k'"
   ]
  },
  {
   "cell_type": "code",
   "execution_count": 27,
   "metadata": {},
   "outputs": [],
   "source": [
    "def gridSearch(classifier, parameters, XTr, yTr, cv):\n",
    "    print(\"***** Grid Search *****\")\n",
    "    print(\"Cross-Validation: \", cv)\n",
    "\n",
    "    scores = ['accuracy']\n",
    "    for score in scores:\n",
    "        print(\"# Tuning hyper-parameters for %s\" % score)\n",
    "        print()\n",
    "        if (score == 'accuracy'):\n",
    "            scoring_method = score\n",
    "        else:\n",
    "            scoring_method = score + '_micro'\n",
    "\n",
    "        clf = GridSearchCV(classifier,\n",
    "                           param_grid=parameters,\n",
    "                           cv=cv,\n",
    "                           scoring=scoring_method)\n",
    "        clf.fit(XTr, yTr)\n",
    "\n",
    "        print(\"Best parameters and scores set found on development set:\")\n",
    "        # print(self.clf.best_estimator_)\n",
    "        print(clf.best_params_)\n",
    "        print(clf.best_score_)\n",
    "        print()\n",
    "        # print(\"Grid scores on development set:\")\n",
    "        # means = clf.cv_results_['mean_test_score']\n",
    "        # stds = clf.cv_results_['std_test_score']\n",
    "        # for mean, std, params in zip(means, stds, clf.cv_results_['params']):\n",
    "        #     print(\"%0.3f (+/-%0.03f) for %r\"\n",
    "        #           % (mean, std * 2, params))\n",
    "        # print()\n",
    "\n",
    "        return clf.best_params_"
   ]
  },
  {
   "cell_type": "code",
   "execution_count": 80,
   "metadata": {},
   "outputs": [
    {
     "name": "stdout",
     "output_type": "stream",
     "text": [
      "***** Grid Search *****\n",
      "Cross-Validation:  5\n",
      "# Tuning hyper-parameters for accuracy\n",
      "\n",
      "Best parameters and scores set found on development set:\n",
      "{'algorithm': 'auto', 'leaf_size': 40, 'metric': 'manhattan', 'n_neighbors': 9, 'weights': 'distance'}\n",
      "0.9503719008264463\n",
      "\n",
      "*** Classification ***\n",
      "Test Result for KNN Classifier\n",
      "[0.9338843  0.94214876 0.94214876 0.95867769 0.975     ]\n",
      "Accuracy: 0.95 (+/- 0.03)\n"
     ]
    }
   ],
   "source": [
    "\n",
    "\n",
    "def tuneParameterWithKNN(XTr, yTr):\n",
    "    classifier = KNeighborsClassifier()\n",
    "    parameters = {\n",
    "        'n_neighbors': [1,2, 3, 5, 7,9,11,13,15],\n",
    "        'weights': [\"distance\",\"uniform\"],\n",
    "        'algorithm': [\"auto\", \"kd_tree\", \"ball_tree\"],\n",
    "        'metric':[\"minkowski\",\"manhattan\",\"euclidean\"],\n",
    "        'leaf_size': [20, 30, 40, 50]\n",
    "        # 'n_jobs': [-1]\n",
    "    }\n",
    "    # best_params = randomSearch(classifier, parameters, XTr, yTr, cv, 50)\n",
    "    best_params = gridSearch(classifier, parameters, XTr, yTr, 5)\n",
    "\n",
    "    print(\"*** Classification ***\")\n",
    "    clf = KNeighborsClassifier()\n",
    "    clf.set_params(**best_params)\n",
    "    print(\"Test Result for KNN Classifier\")\n",
    "    acc = cross_val_score(clf, XTr, yTr, cv=5)\n",
    "    print (acc)\n",
    "    print(\"Accuracy: %0.2f (+/- %0.2f)\" % (acc.mean(), acc.std() * 2))\n",
    "tuneParameterWithKNN(x_train,y_train)    "
   ]
  },
  {
   "cell_type": "code",
   "execution_count": null,
   "metadata": {},
   "outputs": [],
   "source": []
  },
  {
   "cell_type": "code",
   "execution_count": null,
   "metadata": {},
   "outputs": [],
   "source": []
  }
 ],
 "metadata": {
  "kernelspec": {
   "display_name": "Python 3",
   "language": "python",
   "name": "python3"
  },
  "language_info": {
   "codemirror_mode": {
    "name": "ipython",
    "version": 3
   },
   "file_extension": ".py",
   "mimetype": "text/x-python",
   "name": "python",
   "nbconvert_exporter": "python",
   "pygments_lexer": "ipython3",
   "version": "3.9.7"
  },
  "orig_nbformat": 4
 },
 "nbformat": 4,
 "nbformat_minor": 2
}
